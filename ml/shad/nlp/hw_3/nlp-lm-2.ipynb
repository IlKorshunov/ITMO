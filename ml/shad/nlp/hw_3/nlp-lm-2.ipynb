{
 "cells": [
  {
   "cell_type": "markdown",
   "id": "6dbfeb70",
   "metadata": {
    "papermill": {
     "duration": 0.007465,
     "end_time": "2025-03-06T15:10:29.069313",
     "exception": false,
     "start_time": "2025-03-06T15:10:29.061848",
     "status": "completed"
    },
    "tags": []
   },
   "source": [
    "### Homework: going neural (6 pts)\n",
    "\n",
    "We've checked out statistical approaches to language models in the last notebook. Now let's go find out what deep learning has to offer.\n",
    "\n",
    "<img src='https://raw.githubusercontent.com/yandexdataschool/nlp_course/master/resources/expanding_mind_lm_kn_3.png' width=300px>\n",
    "\n",
    "We're gonna use the same dataset as before, except this time we build a language model that's character-level, not word level. Before you go:\n",
    "* If you haven't done seminar already, use `seminar.ipynb` to download the data."
   ]
  },
  {
   "cell_type": "code",
   "execution_count": 1,
   "id": "b065077f",
   "metadata": {
    "execution": {
     "iopub.execute_input": "2025-03-06T15:10:29.083678Z",
     "iopub.status.busy": "2025-03-06T15:10:29.083351Z",
     "iopub.status.idle": "2025-03-06T15:10:29.882671Z",
     "shell.execute_reply": "2025-03-06T15:10:29.882032Z"
    },
    "papermill": {
     "duration": 0.808066,
     "end_time": "2025-03-06T15:10:29.884123",
     "exception": false,
     "start_time": "2025-03-06T15:10:29.076057",
     "status": "completed"
    },
    "tags": []
   },
   "outputs": [],
   "source": [
    "import numpy as np\n",
    "import pandas as pd\n",
    "import matplotlib.pyplot as plt\n",
    "%matplotlib inline"
   ]
  },
  {
   "cell_type": "code",
   "execution_count": 2,
   "id": "efe4b51e",
   "metadata": {
    "execution": {
     "iopub.execute_input": "2025-03-06T15:10:29.898810Z",
     "iopub.status.busy": "2025-03-06T15:10:29.898466Z",
     "iopub.status.idle": "2025-03-06T15:10:29.901365Z",
     "shell.execute_reply": "2025-03-06T15:10:29.900696Z"
    },
    "papermill": {
     "duration": 0.01131,
     "end_time": "2025-03-06T15:10:29.902549",
     "exception": false,
     "start_time": "2025-03-06T15:10:29.891239",
     "status": "completed"
    },
    "tags": []
   },
   "outputs": [],
   "source": [
    "# !wget \"https://www.dropbox.com/s/99az9n1b57qkd9j/arxivData.json.tar.gz?dl=1\" -O arxivData.json.tar.gz\n",
    "# !tar -xvzf arxivData.json.tar.gz\n",
    "# data = pd.read_json(\"./arxivData.json\")\n",
    "# data.sample(n=5)"
   ]
  },
  {
   "cell_type": "markdown",
   "id": "aad0e420",
   "metadata": {
    "papermill": {
     "duration": 0.006303,
     "end_time": "2025-03-06T15:10:29.915521",
     "exception": false,
     "start_time": "2025-03-06T15:10:29.909218",
     "status": "completed"
    },
    "tags": []
   },
   "source": [
    "Working on character level means that we don't need to deal with large vocabulary or missing words. Heck, we can even keep uppercase words in text! The downside, however, is that all our sequences just got a lot longer.\n",
    "\n",
    "However, we still need special tokens:\n",
    "* Begin Of Sequence  (__BOS__) - this token is at the start of each sequence. We use it so that we always have non-empty input to our neural network. $P(x_t) = P(x_1 | BOS)$\n",
    "* End Of Sequence (__EOS__) - you guess it... this token is at the end of each sequence. The catch is that it should __not__ occur anywhere else except at the very end. If our model produces this token, the sequence is over.\n"
   ]
  },
  {
   "cell_type": "code",
   "execution_count": null,
   "id": "52d61e27",
   "metadata": {
    "execution": {
     "iopub.execute_input": "2025-03-06T15:10:29.929386Z",
     "iopub.status.busy": "2025-03-06T15:10:29.929178Z",
     "iopub.status.idle": "2025-03-06T15:10:30.022092Z",
     "shell.execute_reply": "2025-03-06T15:10:30.020855Z"
    },
    "papermill": {
     "duration": 0.101325,
     "end_time": "2025-03-06T15:10:30.023244",
     "exception": true,
     "start_time": "2025-03-06T15:10:29.921919",
     "status": "failed"
    },
    "tags": []
   },
   "outputs": [],
   "source": [
    "BOS, EOS = ' ', '\\n'\n",
    "\n",
    "data = pd.read_json(\"./arxivData.json\")\n",
    "lines = data.apply(lambda row: (row['title'] + ' ; ' + row['summary'])[:512], axis=1) \\\n",
    "            .apply(lambda line: BOS + line.replace(EOS, ' ') + EOS) \\\n",
    "            .tolist()\n",
    "\n",
    "# if you missed the seminar, download data here - https://yadi.sk/d/_nGyU2IajjR9-w"
   ]
  },
  {
   "cell_type": "markdown",
   "id": "f6c1110d",
   "metadata": {
    "papermill": {
     "duration": null,
     "end_time": null,
     "exception": null,
     "start_time": null,
     "status": "pending"
    },
    "tags": []
   },
   "source": [
    "Our next step is __building char-level vocabulary__. Put simply, you need to assemble a list of all unique tokens in the dataset."
   ]
  },
  {
   "cell_type": "code",
   "execution_count": null,
   "id": "f014cfac",
   "metadata": {
    "execution": {
     "iopub.execute_input": "2025-03-06T14:46:06.018746Z",
     "iopub.status.busy": "2025-03-06T14:46:06.018455Z",
     "iopub.status.idle": "2025-03-06T14:46:12.606212Z",
     "shell.execute_reply": "2025-03-06T14:46:12.605290Z",
     "shell.execute_reply.started": "2025-03-06T14:46:06.018717Z"
    },
    "papermill": {
     "duration": null,
     "end_time": null,
     "exception": null,
     "start_time": null,
     "status": "pending"
    },
    "tags": []
   },
   "outputs": [],
   "source": [
    "tokens = []\n",
    "def get_chars(chars):\n",
    "    l = [tokens.append(char) for char in chars]\n",
    "\n",
    "l = [get_chars(list(line)) for line in lines]\n",
    "tokens = np.unique(tokens)\n",
    "\n",
    "tokens = sorted(tokens)\n",
    "n_tokens = len(tokens)\n",
    "print ('n_tokens = ',n_tokens)\n",
    "assert 100 < n_tokens < 150\n",
    "assert BOS in tokens, EOS in tokens"
   ]
  },
  {
   "cell_type": "markdown",
   "id": "9a913ddb",
   "metadata": {
    "papermill": {
     "duration": null,
     "end_time": null,
     "exception": null,
     "start_time": null,
     "status": "pending"
    },
    "tags": []
   },
   "source": [
    "We can now assign each character with its index in tokens list. This way we can encode a string into a torch-friendly integer vector."
   ]
  },
  {
   "cell_type": "code",
   "execution_count": null,
   "id": "b42f21b9",
   "metadata": {
    "execution": {
     "iopub.execute_input": "2025-03-06T14:46:12.607342Z",
     "iopub.status.busy": "2025-03-06T14:46:12.607071Z",
     "iopub.status.idle": "2025-03-06T14:46:12.611139Z",
     "shell.execute_reply": "2025-03-06T14:46:12.610155Z",
     "shell.execute_reply.started": "2025-03-06T14:46:12.607322Z"
    },
    "papermill": {
     "duration": null,
     "end_time": null,
     "exception": null,
     "start_time": null,
     "status": "pending"
    },
    "tags": []
   },
   "outputs": [],
   "source": [
    "# dictionary of character -> its identifier (index in tokens list)\n",
    "token_to_id = {token: id for token, id in zip(tokens, range(n_tokens))}"
   ]
  },
  {
   "cell_type": "code",
   "execution_count": null,
   "id": "d494b444",
   "metadata": {
    "execution": {
     "iopub.execute_input": "2025-03-06T14:46:12.612100Z",
     "iopub.status.busy": "2025-03-06T14:46:12.611900Z",
     "iopub.status.idle": "2025-03-06T14:46:12.626676Z",
     "shell.execute_reply": "2025-03-06T14:46:12.625924Z",
     "shell.execute_reply.started": "2025-03-06T14:46:12.612083Z"
    },
    "papermill": {
     "duration": null,
     "end_time": null,
     "exception": null,
     "start_time": null,
     "status": "pending"
    },
    "tags": []
   },
   "outputs": [],
   "source": [
    "assert len(tokens) == len(token_to_id), \"dictionaries must have same size\"\n",
    "for i in range(n_tokens):\n",
    "    assert token_to_id[tokens[i]] == i, \"token identifier must be it's position in tokens list\"\n",
    "\n",
    "print(\"Seems alright!\")"
   ]
  },
  {
   "cell_type": "markdown",
   "id": "c9c56662",
   "metadata": {
    "papermill": {
     "duration": null,
     "end_time": null,
     "exception": null,
     "start_time": null,
     "status": "pending"
    },
    "tags": []
   },
   "source": [
    "Our final step is to assemble several strings in a integer matrix with shape `[batch_size, text_length]`. \n",
    "\n",
    "The only problem is that each sequence has a different length. We can work around that by padding short sequences with extra `\"EOS\"` tokens or cropping long sequences. Here's how it works:"
   ]
  },
  {
   "cell_type": "code",
   "execution_count": null,
   "id": "559834d5",
   "metadata": {
    "execution": {
     "iopub.execute_input": "2025-03-06T14:46:12.629458Z",
     "iopub.status.busy": "2025-03-06T14:46:12.629247Z",
     "iopub.status.idle": "2025-03-06T14:46:12.642405Z",
     "shell.execute_reply": "2025-03-06T14:46:12.641795Z",
     "shell.execute_reply.started": "2025-03-06T14:46:12.629439Z"
    },
    "papermill": {
     "duration": null,
     "end_time": null,
     "exception": null,
     "start_time": null,
     "status": "pending"
    },
    "tags": []
   },
   "outputs": [],
   "source": [
    "def to_matrix(lines, max_len=None, pad=token_to_id[EOS], dtype=np.int64):\n",
    "    \"\"\"Casts a list of lines into torch-digestable matrix\"\"\"\n",
    "    max_len = max_len or max(map(len, lines))\n",
    "    lines_ix = np.full([len(lines), max_len], pad, dtype=dtype)\n",
    "    for i in range(len(lines)):\n",
    "        line_ix = list(map(token_to_id.get, lines[i][:max_len]))\n",
    "        lines_ix[i, :len(line_ix)] = line_ix\n",
    "    return lines_ix"
   ]
  },
  {
   "cell_type": "code",
   "execution_count": null,
   "id": "dff1fa41",
   "metadata": {
    "execution": {
     "iopub.execute_input": "2025-03-06T14:46:12.643722Z",
     "iopub.status.busy": "2025-03-06T14:46:12.643520Z",
     "iopub.status.idle": "2025-03-06T14:46:12.660495Z",
     "shell.execute_reply": "2025-03-06T14:46:12.659821Z",
     "shell.execute_reply.started": "2025-03-06T14:46:12.643704Z"
    },
    "papermill": {
     "duration": null,
     "end_time": null,
     "exception": null,
     "start_time": null,
     "status": "pending"
    },
    "tags": []
   },
   "outputs": [],
   "source": [
    "#Example: cast 4 random names to a single matrix, pad with zeros where needed.\n",
    "dummy_lines = [\n",
    "    ' abc\\n',\n",
    "    ' abacaba\\n',\n",
    "    ' abc1234567890\\n',\n",
    "]\n",
    "print(to_matrix(dummy_lines))"
   ]
  },
  {
   "cell_type": "code",
   "execution_count": null,
   "id": "f4282556",
   "metadata": {
    "execution": {
     "iopub.execute_input": "2025-03-06T14:46:12.661484Z",
     "iopub.status.busy": "2025-03-06T14:46:12.661271Z",
     "iopub.status.idle": "2025-03-06T14:46:12.674437Z",
     "shell.execute_reply": "2025-03-06T14:46:12.673581Z",
     "shell.execute_reply.started": "2025-03-06T14:46:12.661460Z"
    },
    "papermill": {
     "duration": null,
     "end_time": null,
     "exception": null,
     "start_time": null,
     "status": "pending"
    },
    "tags": []
   },
   "outputs": [],
   "source": [
    "import torch\n",
    "import torch.nn as nn\n",
    "import torch.nn.functional as F\n",
    "\n",
    "if torch.cuda.is_available(): device = \"cuda\"\n",
    "else: device = \"cpu\""
   ]
  },
  {
   "cell_type": "code",
   "execution_count": null,
   "id": "e64e08b0",
   "metadata": {
    "execution": {
     "iopub.execute_input": "2025-03-06T14:46:12.675471Z",
     "iopub.status.busy": "2025-03-06T14:46:12.675247Z",
     "iopub.status.idle": "2025-03-06T14:46:12.691550Z",
     "shell.execute_reply": "2025-03-06T14:46:12.690770Z",
     "shell.execute_reply.started": "2025-03-06T14:46:12.675452Z"
    },
    "papermill": {
     "duration": null,
     "end_time": null,
     "exception": null,
     "start_time": null,
     "status": "pending"
    },
    "tags": []
   },
   "outputs": [],
   "source": [
    "class FixedWindowLanguageModel(nn.Module):\n",
    "    def __init__(self, n_tokens=n_tokens, emb_size=16, hid_size=64, window=3):\n",
    "        \"\"\" \n",
    "        A fixed window model that looks on at least 5 previous symbols.\n",
    "        \n",
    "        Note: fixed window LM is effectively performing a convolution over a sequence of words.\n",
    "        This convolution only looks on current and previous words.\n",
    "        Such convolution can be represented as a sequence of 2 operations:\n",
    "        - pad input vectors by {strides * (filter_size - 1)} zero vectors on the \"left\", do not pad right\n",
    "        - perform regular convolution with {filter_size} and {strides}\n",
    "            \n",
    "        - If you're absolutely lost, here's a hint: use nn.ZeroPad2d((NUM_LEADING_ZEROS, 0, 0, 0))\n",
    "          followed by a nn.Conv1d(..., padding=0). And yes, its okay that padding is technically \"2d\".\n",
    "        \"\"\"\n",
    "        super().__init__() \n",
    "        self.pad = nn.ZeroPad2d((window - 1, 0, 0, 0))\n",
    "        self.emb = nn.Embedding(n_tokens, emb_size)\n",
    "        self.conv1 = nn.Conv1d(emb_size, hid_size, window)\n",
    "        self.conv2 = nn.Conv1d(hid_size, hid_size, window)\n",
    "        self.lin = nn.Linear(hid_size, n_tokens)\n",
    "        \n",
    "    \n",
    "    def __call__(self, input_ix):\n",
    "        \"\"\"\n",
    "        compute language model logits given input tokens\n",
    "        :param input_ix: batch of sequences with token indices, tensor: int32[batch_size, sequence_length]\n",
    "        :returns: pre-softmax linear outputs of language model [batch_size, sequence_length, n_tokens]\n",
    "            these outputs will be used as logits to compute P(x_t | x_0, ..., x_{t - 1})\n",
    "            \n",
    "        :note: that convolutions operate with tensors of shape [batch, channels, length], while linear layers\n",
    "         and *embeddings* use [batch, length, channels] tensors. Use tensor.permute(...) to adjust shapes.\n",
    "\n",
    "        \"\"\"\n",
    "        input_ix = input_ix.to(device)\n",
    "        embedded_input = self.emb(input_ix)\n",
    "        transposed = torch.transpose(embedded_input, 1, 2)\n",
    "        padded_input = self.pad(transposed)\n",
    "        conv1 = self.conv1(padded_input)\n",
    "        transposed = torch.transpose(conv1, 1, 2)\n",
    "        return self.lin(transposed)\n",
    "    \n",
    "    def get_possible_next_tokens(self, prefix=BOS, temperature=1.0, max_len=100):\n",
    "        \"\"\" :returns: probabilities of next token, dict {token : prob} for all tokens \"\"\"\n",
    "        prefix_ix = torch.as_tensor(to_matrix([prefix]), dtype=torch.int64).to(device)\n",
    "        with torch.no_grad():\n",
    "            probs = torch.softmax(self(prefix_ix)[0, -1], dim=-1).cpu().numpy()  # shape: [n_tokens]\n",
    "        return dict(zip(tokens, probs))\n",
    "        "
   ]
  },
  {
   "cell_type": "markdown",
   "id": "2b6df9d3",
   "metadata": {
    "papermill": {
     "duration": null,
     "end_time": null,
     "exception": null,
     "start_time": null,
     "status": "pending"
    },
    "tags": []
   },
   "source": [
    "### Neural Language Model (2 points including training)\n",
    "\n",
    "Just like for N-gram LMs, we want to estimate probability of text as a joint probability of tokens (symbols this time).\n",
    "\n",
    "$$P(X) = \\prod_t P(x_t \\mid x_0, \\dots, x_{t-1}).$$ \n",
    "\n",
    "Instead of counting all possible statistics, we want to train a neural network with parameters $\\theta$ that estimates the conditional probabilities:\n",
    "\n",
    "$$ P(x_t \\mid x_0, \\dots, x_{t-1}) \\approx p(x_t \\mid x_0, \\dots, x_{t-1}, \\theta) $$\n",
    "\n",
    "\n",
    "But before we optimize, we need to define our neural network. Let's start with a fixed-window (aka convolutional) architecture:\n",
    "\n",
    "<img src='https://raw.githubusercontent.com/yandexdataschool/nlp_course/master/resources/fixed_window_lm.jpg' width=400px>\n"
   ]
  },
  {
   "cell_type": "code",
   "execution_count": null,
   "id": "dff3386a",
   "metadata": {
    "execution": {
     "iopub.execute_input": "2025-03-06T14:46:12.692677Z",
     "iopub.status.busy": "2025-03-06T14:46:12.692410Z",
     "iopub.status.idle": "2025-03-06T14:46:12.712170Z",
     "shell.execute_reply": "2025-03-06T14:46:12.711356Z",
     "shell.execute_reply.started": "2025-03-06T14:46:12.692638Z"
    },
    "papermill": {
     "duration": null,
     "end_time": null,
     "exception": null,
     "start_time": null,
     "status": "pending"
    },
    "tags": []
   },
   "outputs": [],
   "source": [
    "dummy_model = FixedWindowLanguageModel().to(device)\n",
    "\n",
    "dummy_input_ix = torch.as_tensor(to_matrix(dummy_lines))\n",
    "dummy_logits = dummy_model(dummy_input_ix)\n",
    "\n",
    "print('Weights:', tuple(name for name, w in dummy_model.named_parameters()))"
   ]
  },
  {
   "cell_type": "code",
   "execution_count": null,
   "id": "0c2d5676",
   "metadata": {
    "execution": {
     "iopub.execute_input": "2025-03-06T14:46:12.713229Z",
     "iopub.status.busy": "2025-03-06T14:46:12.712978Z",
     "iopub.status.idle": "2025-03-06T14:46:12.729690Z",
     "shell.execute_reply": "2025-03-06T14:46:12.728950Z",
     "shell.execute_reply.started": "2025-03-06T14:46:12.713202Z"
    },
    "papermill": {
     "duration": null,
     "end_time": null,
     "exception": null,
     "start_time": null,
     "status": "pending"
    },
    "tags": []
   },
   "outputs": [],
   "source": [
    "assert isinstance(dummy_logits, torch.Tensor)\n",
    "assert dummy_logits.shape == (len(dummy_lines), max(map(len, dummy_lines)), n_tokens), \"please check output shape\"\n",
    "assert np.all(np.isfinite(dummy_logits.data.cpu().numpy())), \"inf/nan encountered\"\n",
    "assert not np.allclose(dummy_logits.data.cpu().numpy().sum(-1), 1), \"please predict linear outputs, don't use softmax (maybe you've just got unlucky)\""
   ]
  },
  {
   "cell_type": "code",
   "execution_count": null,
   "id": "340a3ec6",
   "metadata": {
    "execution": {
     "iopub.execute_input": "2025-03-06T14:46:12.730482Z",
     "iopub.status.busy": "2025-03-06T14:46:12.730299Z",
     "iopub.status.idle": "2025-03-06T14:46:12.744690Z",
     "shell.execute_reply": "2025-03-06T14:46:12.744112Z",
     "shell.execute_reply.started": "2025-03-06T14:46:12.730465Z"
    },
    "papermill": {
     "duration": null,
     "end_time": null,
     "exception": null,
     "start_time": null,
     "status": "pending"
    },
    "tags": []
   },
   "outputs": [],
   "source": [
    "# test for lookahead\n",
    "dummy_input_ix_2 = torch.as_tensor(to_matrix([line[:3] + 'e' * (len(line) - 3) for line in dummy_lines]))\n",
    "dummy_logits_2 = dummy_model(dummy_input_ix_2)\n",
    "\n",
    "assert torch.allclose(dummy_logits[:, :3], dummy_logits_2[:, :3]), \"your model's predictions depend on FUTURE tokens. \" \\\n",
    "    \" Make sure you don't allow any layers to look ahead of current token.\" \\\n",
    "    \" You can also get this error if your model is not deterministic (e.g. dropout). Disable it for this test.\""
   ]
  },
  {
   "cell_type": "markdown",
   "id": "53b44f43",
   "metadata": {
    "papermill": {
     "duration": null,
     "end_time": null,
     "exception": null,
     "start_time": null,
     "status": "pending"
    },
    "tags": []
   },
   "source": [
    "We can now tune our network's parameters to minimize categorical crossentropy over training dataset $D$:\n",
    "\n",
    "$$ L = {\\frac1{|D|}} \\sum_{X \\in D} \\sum_{x_i \\in X} - \\log p(x_t \\mid x_1, \\dots, x_{t-1}, \\theta) $$\n",
    "\n",
    "As usual with with neural nets, this optimization is performed via stochastic gradient descent with backprop.  One can also note that minimizing crossentropy is equivalent to minimizing model __perplexity__, KL-divergence or maximizng log-likelihood."
   ]
  },
  {
   "cell_type": "code",
   "execution_count": null,
   "id": "d02da7e3",
   "metadata": {
    "execution": {
     "iopub.execute_input": "2025-03-06T14:46:12.745702Z",
     "iopub.status.busy": "2025-03-06T14:46:12.745474Z",
     "iopub.status.idle": "2025-03-06T14:46:12.760989Z",
     "shell.execute_reply": "2025-03-06T14:46:12.760255Z",
     "shell.execute_reply.started": "2025-03-06T14:46:12.745684Z"
    },
    "papermill": {
     "duration": null,
     "end_time": null,
     "exception": null,
     "start_time": null,
     "status": "pending"
    },
    "tags": []
   },
   "outputs": [],
   "source": [
    "def compute_mask(input_ix, eos_ix=token_to_id[EOS]):\n",
    "    \"\"\" compute a boolean mask that equals \"1\" until first EOS (including that EOS) \"\"\"\n",
    "    return F.pad(torch.cumsum(input_ix == eos_ix, dim=-1)[..., :-1] < 1, pad=(1, 0, 0, 0), value=True)\n",
    "\n",
    "print('matrix:\\n', dummy_input_ix.numpy())\n",
    "print('mask:', compute_mask(dummy_input_ix).to(torch.int32).cpu().numpy())\n",
    "print('lengths:', compute_mask(dummy_input_ix).sum(-1).cpu().numpy())"
   ]
  },
  {
   "cell_type": "code",
   "execution_count": null,
   "id": "25f92e34",
   "metadata": {
    "execution": {
     "iopub.execute_input": "2025-03-06T14:46:12.762040Z",
     "iopub.status.busy": "2025-03-06T14:46:12.761757Z",
     "iopub.status.idle": "2025-03-06T14:46:12.773379Z",
     "shell.execute_reply": "2025-03-06T14:46:12.772571Z",
     "shell.execute_reply.started": "2025-03-06T14:46:12.762012Z"
    },
    "papermill": {
     "duration": null,
     "end_time": null,
     "exception": null,
     "start_time": null,
     "status": "pending"
    },
    "tags": []
   },
   "outputs": [],
   "source": [
    "def compute_loss(model, input_ix):\n",
    "    \"\"\"\n",
    "    :param model: language model that can compute next token logits given token indices\n",
    "    :param input_ix: int32 matrix of tokens, shape: [batch_size, length]; padded with eos_ix\n",
    "    :returns: scalar loss function, mean crossentropy over non-eos tokens\n",
    "    \"\"\"\n",
    "    # print(input_ix)\n",
    "    input_ix = torch.as_tensor(input_ix, dtype=torch.int64).to(device)\n",
    "    logits = model(input_ix[:, :-1])\n",
    "    # print(logits)\n",
    "    reference_answers = input_ix[:, 1:]\n",
    "    # print(reference_answers)\n",
    "\n",
    "    # Your task: implement loss function as per formula above\n",
    "    # your loss should only be computed on actual tokens, excluding padding\n",
    "    # predicting actual tokens and first EOS do count. Subsequent EOS-es don't\n",
    "    # you may or may not want to use the compute_mask function from above.\n",
    "    \n",
    "    exp = torch.exp(logits)\n",
    "    sum_tens = torch.sum(exp, dim=2, keepdim=True)\n",
    "\n",
    "    probs = exp / sum_tens.to(device)\n",
    "    one_hot_vectors = F.one_hot(reference_answers, logits.shape[2]).to(device)\n",
    "\n",
    "    mask = compute_mask(input_ix).to(device)\n",
    "    mask = mask[:, 1:]  \n",
    "    mask = mask.unsqueeze(2)\n",
    "    mask = mask.expand(-1, -1, logits.size(2))\n",
    "\n",
    "    res = torch.log(probs + 1e-9) * one_hot_vectors * mask\n",
    "\n",
    "    classes_size = input_ix.shape[0]\n",
    "    \n",
    "    loss = -torch.sum(res, (0, 1, 2)) / classes_size\n",
    "        \n",
    "    return loss \n"
   ]
  },
  {
   "cell_type": "code",
   "execution_count": null,
   "id": "9a28d4c3",
   "metadata": {
    "execution": {
     "iopub.execute_input": "2025-03-06T14:46:12.774432Z",
     "iopub.status.busy": "2025-03-06T14:46:12.774184Z",
     "iopub.status.idle": "2025-03-06T14:46:12.791851Z",
     "shell.execute_reply": "2025-03-06T14:46:12.791240Z",
     "shell.execute_reply.started": "2025-03-06T14:46:12.774406Z"
    },
    "papermill": {
     "duration": null,
     "end_time": null,
     "exception": null,
     "start_time": null,
     "status": "pending"
    },
    "tags": []
   },
   "outputs": [],
   "source": [
    "loss_1 = compute_loss(dummy_model, to_matrix(dummy_lines, max_len=15))\n",
    "loss_2 = compute_loss(dummy_model, to_matrix(dummy_lines, max_len=16))\n",
    "assert (np.ndim(loss_1) == 0) and (0 < loss_1 < 100), \"loss must be a positive scalar\"\n",
    "assert torch.allclose(loss_1, loss_2), 'do not include  AFTER first EOS into loss. '\\\n",
    "    'Hint: use compute_mask. Beware +/-1 errors. And be careful when averaging!'"
   ]
  },
  {
   "cell_type": "markdown",
   "id": "46332796",
   "metadata": {
    "papermill": {
     "duration": null,
     "end_time": null,
     "exception": null,
     "start_time": null,
     "status": "pending"
    },
    "tags": []
   },
   "source": [
    "### Evaluation\n",
    "\n",
    "You will need two functions: one to compute test loss and another to generate samples. For your convenience, we implemented them both in your stead."
   ]
  },
  {
   "cell_type": "code",
   "execution_count": null,
   "id": "ce7c1fee",
   "metadata": {
    "execution": {
     "iopub.execute_input": "2025-03-06T14:46:12.792864Z",
     "iopub.status.busy": "2025-03-06T14:46:12.792641Z",
     "iopub.status.idle": "2025-03-06T14:46:12.804500Z",
     "shell.execute_reply": "2025-03-06T14:46:12.803309Z",
     "shell.execute_reply.started": "2025-03-06T14:46:12.792846Z"
    },
    "papermill": {
     "duration": null,
     "end_time": null,
     "exception": null,
     "start_time": null,
     "status": "pending"
    },
    "tags": []
   },
   "outputs": [],
   "source": [
    "def score_lines(model, dev_lines, batch_size):\n",
    "    \"\"\" computes average loss over the entire dataset \"\"\"\n",
    "    dev_loss_num, dev_loss_len = 0., 0.\n",
    "    with torch.no_grad():\n",
    "        for i in range(0, len(dev_lines), batch_size):\n",
    "            batch_ix = to_matrix(dev_lines[i: i + batch_size])\n",
    "            dev_loss_num += compute_loss(model, batch_ix).item() * len(batch_ix)\n",
    "            dev_loss_len += len(batch_ix)\n",
    "    return dev_loss_num / dev_loss_len\n",
    "\n",
    "def generate(model, prefix=BOS, temperature=1.0, max_len=100):\n",
    "    \"\"\"\n",
    "    Samples output sequence from probability distribution obtained by model\n",
    "    :param temperature: samples proportionally to model probabilities ^ temperature\n",
    "        if temperature == 0, always takes most likely token. Break ties arbitrarily.\n",
    "    \"\"\"\n",
    "    with torch.no_grad():\n",
    "        while True:\n",
    "            token_probs = model.get_possible_next_tokens(prefix)\n",
    "            tokens, probs = zip(*token_probs.items())\n",
    "            if temperature == 0:\n",
    "                next_token = tokens[np.argmax(probs)]\n",
    "            else:\n",
    "                probs = np.array([p ** (1. / temperature) for p in probs])\n",
    "                probs /= sum(probs)\n",
    "                next_token = np.random.choice(tokens, p=probs)\n",
    "\n",
    "            prefix += next_token\n",
    "            if next_token == EOS or len(prefix) > max_len: break\n",
    "    return prefix"
   ]
  },
  {
   "cell_type": "markdown",
   "id": "52723100",
   "metadata": {
    "papermill": {
     "duration": null,
     "end_time": null,
     "exception": null,
     "start_time": null,
     "status": "pending"
    },
    "tags": []
   },
   "source": [
    "### Training loop\n",
    "\n",
    "Finally, let's train our model on minibatches of data"
   ]
  },
  {
   "cell_type": "code",
   "execution_count": null,
   "id": "3db1c9f3",
   "metadata": {
    "execution": {
     "iopub.execute_input": "2025-03-06T14:46:12.805643Z",
     "iopub.status.busy": "2025-03-06T14:46:12.805373Z",
     "iopub.status.idle": "2025-03-06T14:46:13.903709Z",
     "shell.execute_reply": "2025-03-06T14:46:13.902858Z",
     "shell.execute_reply.started": "2025-03-06T14:46:12.805616Z"
    },
    "papermill": {
     "duration": null,
     "end_time": null,
     "exception": null,
     "start_time": null,
     "status": "pending"
    },
    "tags": []
   },
   "outputs": [],
   "source": [
    "from sklearn.model_selection import train_test_split\n",
    "train_lines, dev_lines = train_test_split(lines, test_size=0.25, random_state=42)\n",
    "\n",
    "batch_size = 256\n",
    "score_dev_every = 250\n",
    "train_history, dev_history = [], []\n",
    "model = FixedWindowLanguageModel().to(device)\n",
    "opt = torch.optim.Adam(model.parameters())\n",
    "\n",
    "\n",
    "# score untrained model\n",
    "dev_history.append((0, score_lines(model, dev_lines, batch_size)))\n",
    "print(\"Sample before training:\", generate(model, 'Bridging'))"
   ]
  },
  {
   "cell_type": "code",
   "execution_count": null,
   "id": "df8a4715",
   "metadata": {
    "execution": {
     "iopub.execute_input": "2025-03-06T14:46:13.907540Z",
     "iopub.status.busy": "2025-03-06T14:46:13.907307Z",
     "iopub.status.idle": "2025-03-06T14:50:08.833897Z",
     "shell.execute_reply": "2025-03-06T14:50:08.832980Z",
     "shell.execute_reply.started": "2025-03-06T14:46:13.907522Z"
    },
    "papermill": {
     "duration": null,
     "end_time": null,
     "exception": null,
     "start_time": null,
     "status": "pending"
    },
    "tags": []
   },
   "outputs": [],
   "source": [
    "from IPython.display import clear_output\n",
    "from random import sample\n",
    "from tqdm import trange\n",
    "\n",
    "for i in trange(len(train_history), 5000):\n",
    "    batch = to_matrix(sample(train_lines, batch_size))\n",
    "    \n",
    "    loss_i = compute_loss(model, batch)\n",
    "    \n",
    "    opt.zero_grad()\n",
    "    loss_i.backward()\n",
    "    opt.step()\n",
    "        \n",
    "    train_history.append((i, loss_i.item()))\n",
    "    \n",
    "    if (i + 1) % 50 == 0:\n",
    "        clear_output(True)\n",
    "        plt.scatter(*zip(*train_history), alpha=0.1, label='train_loss')\n",
    "        if len(dev_history):\n",
    "            plt.plot(*zip(*dev_history), color='red', label='dev_loss')\n",
    "        plt.legend(); plt.grid(); plt.show()\n",
    "        print(\"Generated examples (tau=0.5):\")\n",
    "        for _ in range(3):\n",
    "            print(generate(model, temperature=0.5))\n",
    "    \n",
    "    if (i + 1) % score_dev_every == 0:\n",
    "        print(\"Scoring dev...\")\n",
    "        dev_history.append((i, score_lines(model, dev_lines, batch_size)))\n",
    "        print('#%i Dev loss: %.3f' % dev_history[-1])\n"
   ]
  },
  {
   "cell_type": "code",
   "execution_count": null,
   "id": "52e10c08",
   "metadata": {
    "execution": {
     "iopub.execute_input": "2025-03-06T14:50:08.835455Z",
     "iopub.status.busy": "2025-03-06T14:50:08.835178Z",
     "iopub.status.idle": "2025-03-06T14:50:09.685125Z",
     "shell.execute_reply": "2025-03-06T14:50:09.684314Z",
     "shell.execute_reply.started": "2025-03-06T14:50:08.835428Z"
    },
    "papermill": {
     "duration": null,
     "end_time": null,
     "exception": null,
     "start_time": null,
     "status": "pending"
    },
    "tags": []
   },
   "outputs": [],
   "source": [
    "assert np.mean(train_history[:10], axis=0)[1] > np.mean(train_history[-10:], axis=0)[1], \"The model didn't converge.\"\n",
    "print(\"Final dev loss:\", dev_history[-1][-1])\n",
    "\n",
    "for i in range(10):\n",
    "    print(generate(model, temperature=0.5))"
   ]
  },
  {
   "cell_type": "markdown",
   "id": "03e229b4",
   "metadata": {
    "papermill": {
     "duration": null,
     "end_time": null,
     "exception": null,
     "start_time": null,
     "status": "pending"
    },
    "tags": []
   },
   "source": [
    "### RNN Language Models (3 points including training)\n",
    "\n",
    "Fixed-size architectures are reasonably good when capturing short-term dependencies, but their design prevents them from capturing any signal outside their window. We can mitigate this problem by using a __recurrent neural network__:\n",
    "\n",
    "$$ h_0 = \\vec 0 ; \\quad h_{t+1} = RNN(x_t, h_t) $$\n",
    "\n",
    "$$ p(x_t \\mid x_0, \\dots, x_{t-1}, \\theta) = dense_{softmax}(h_{t-1}) $$\n",
    "\n",
    "Such model processes one token at a time, left to right, and maintains a hidden state vector between them. Theoretically, it can learn arbitrarily long temporal dependencies given large enough hidden size.\n",
    "\n",
    "<img src='https://raw.githubusercontent.com/yandexdataschool/nlp_course/master/resources/rnn_lm.jpg' width=480px>"
   ]
  },
  {
   "cell_type": "code",
   "execution_count": null,
   "id": "4a299fee",
   "metadata": {
    "execution": {
     "iopub.execute_input": "2025-03-06T14:50:09.686357Z",
     "iopub.status.busy": "2025-03-06T14:50:09.686052Z",
     "iopub.status.idle": "2025-03-06T14:50:09.693137Z",
     "shell.execute_reply": "2025-03-06T14:50:09.692225Z",
     "shell.execute_reply.started": "2025-03-06T14:50:09.686326Z"
    },
    "papermill": {
     "duration": null,
     "end_time": null,
     "exception": null,
     "start_time": null,
     "status": "pending"
    },
    "tags": []
   },
   "outputs": [],
   "source": [
    "class RNNLanguageModel(nn.Module):\n",
    "    def __init__(self, n_tokens=n_tokens, emb_size=16, hid_size=256):\n",
    "        \"\"\" \n",
    "        Build a recurrent language model.\n",
    "        You are free to choose anything you want, but the recommended architecture is\n",
    "        - token embeddings\n",
    "        - one or more LSTM/GRU layers with hid size\n",
    "        - linear layer to predict logits\n",
    "        \n",
    "        :note: if you use nn.RNN/GRU/LSTM, make sure you specify batch_first=True\n",
    "         With batch_first, your model operates with tensors of shape [batch_size, sequence_length, num_units]\n",
    "         Also, please read the docs carefully: they don't just return what you want them to return :)\n",
    "        \"\"\"\n",
    "        super().__init__() \n",
    "        self.emb = nn.Embedding(n_tokens, emb_size)\n",
    "        self.rnn = nn.LSTM(emb_size, hid_size, batch_first=True)\n",
    "        self.lin = nn.Linear(hid_size, n_tokens)\n",
    "        #END OF YOUR CODE\n",
    "    \n",
    "    def __call__(self, input_ix):\n",
    "        \"\"\"\n",
    "        compute language model logits given input tokens\n",
    "        :param input_ix: batch of sequences with token indices, tensor: int32[batch_size, sequence_length]\n",
    "        :returns: pre-softmax linear outputs of language model [batch_size, sequence_length, n_tokens]\n",
    "            these outputs will be used as logits to compute P(x_t | x_0, ..., x_{t - 1})\n",
    "        \"\"\"\n",
    "        input_ix = input_ix.to(device)\n",
    "        embedded = self.emb(input_ix) \n",
    "        rnn_out, _ = self.rnn(embedded)\n",
    "        return self.lin(rnn_out) # output tensor should be of shape [batch_size, sequence_length, n_tokens]\n",
    "    \n",
    "    def get_possible_next_tokens(self, prefix=BOS, temperature=1.0, max_len=100):\n",
    "        \"\"\" :returns: probabilities of next token, dict {token : prob} for all tokens \"\"\"\n",
    "        prefix_ix = torch.as_tensor(to_matrix([prefix]), dtype=torch.int64)\n",
    "        with torch.no_grad():\n",
    "            probs = torch.softmax(self(prefix_ix)[0, -1], dim=-1).cpu().numpy()  # shape: [n_tokens]\n",
    "        return dict(zip(tokens, probs))\n",
    "        "
   ]
  },
  {
   "cell_type": "code",
   "execution_count": null,
   "id": "eda6a0b5",
   "metadata": {
    "execution": {
     "iopub.execute_input": "2025-03-06T14:50:09.694086Z",
     "iopub.status.busy": "2025-03-06T14:50:09.693852Z",
     "iopub.status.idle": "2025-03-06T14:50:09.721699Z",
     "shell.execute_reply": "2025-03-06T14:50:09.720946Z",
     "shell.execute_reply.started": "2025-03-06T14:50:09.694066Z"
    },
    "papermill": {
     "duration": null,
     "end_time": null,
     "exception": null,
     "start_time": null,
     "status": "pending"
    },
    "tags": []
   },
   "outputs": [],
   "source": [
    "model = RNNLanguageModel().to(device)\n",
    "\n",
    "dummy_input_ix = torch.as_tensor(to_matrix(dummy_lines))\n",
    "dummy_logits = model(dummy_input_ix)\n",
    "\n",
    "assert isinstance(dummy_logits, torch.Tensor)\n",
    "assert dummy_logits.shape == (len(dummy_lines), max(map(len, dummy_lines)), n_tokens), \"please check output shape\"\n",
    "assert not np.allclose(dummy_logits.cpu().data.numpy().sum(-1), 1), \"please predict linear outputs, don't use softmax (maybe you've just got unlucky)\"\n",
    "print('Weights:', tuple(name for name, w in model.named_parameters()))"
   ]
  },
  {
   "cell_type": "code",
   "execution_count": null,
   "id": "48f0a014",
   "metadata": {
    "execution": {
     "iopub.execute_input": "2025-03-06T14:50:09.722652Z",
     "iopub.status.busy": "2025-03-06T14:50:09.722417Z",
     "iopub.status.idle": "2025-03-06T14:50:09.728840Z",
     "shell.execute_reply": "2025-03-06T14:50:09.727934Z",
     "shell.execute_reply.started": "2025-03-06T14:50:09.722632Z"
    },
    "papermill": {
     "duration": null,
     "end_time": null,
     "exception": null,
     "start_time": null,
     "status": "pending"
    },
    "tags": []
   },
   "outputs": [],
   "source": [
    "# test for lookahead\n",
    "dummy_input_ix_2 = torch.as_tensor(to_matrix([line[:3] + 'e' * (len(line) - 3) for line in dummy_lines]))\n",
    "dummy_logits_2 = model(dummy_input_ix_2)\n",
    "\n",
    "assert torch.allclose(dummy_logits[:, :3], dummy_logits_2[:, :3]), \"your model's predictions depend on FUTURE tokens. \" \\\n",
    "    \" Make sure you don't allow any layers to look ahead of current token.\" \\\n",
    "    \" You can also get this error if your model is not deterministic (e.g. dropout). Disable it for this test.\""
   ]
  },
  {
   "cell_type": "markdown",
   "id": "e4f66d35",
   "metadata": {
    "papermill": {
     "duration": null,
     "end_time": null,
     "exception": null,
     "start_time": null,
     "status": "pending"
    },
    "tags": []
   },
   "source": [
    "### RNN training\n",
    "\n",
    "Our RNN language model should optimize the same loss function as fixed-window model. But there's a catch. Since RNN recurrently multiplies gradients through many time-steps, gradient values may explode, [ruining](https://raw.githubusercontent.com/yandexdataschool/nlp_course/master/resources/nan.jpg) your model.\n",
    "The common solution to that problem is to clip gradients either [individually](https://www.tensorflow.org/versions/r2.0/api_docs/python/tf/clip_by_value) or [globally](https://www.tensorflow.org/versions/r2.0/api_docs/python/tf/clip_by_global_norm).\n",
    "\n",
    "Your task here is to implement the training code that minimizes the loss function. If you encounter large loss fluctuations during training, please add [gradient clipping](https://pytorch.org/docs/stable/generated/torch.nn.utils.clip_grad_norm_.html) using urls above. But its **not necessary** to use gradient clipping if you don't need it.\n",
    "\n",
    "_Note: gradient clipping is not exclusive to RNNs. Convolutional networks with enough depth often suffer from the same issue._"
   ]
  },
  {
   "cell_type": "code",
   "execution_count": null,
   "id": "b07f3722",
   "metadata": {
    "execution": {
     "iopub.execute_input": "2025-03-06T14:50:09.730049Z",
     "iopub.status.busy": "2025-03-06T14:50:09.729745Z",
     "iopub.status.idle": "2025-03-06T14:50:12.238287Z",
     "shell.execute_reply": "2025-03-06T14:50:12.237354Z",
     "shell.execute_reply.started": "2025-03-06T14:50:09.730020Z"
    },
    "papermill": {
     "duration": null,
     "end_time": null,
     "exception": null,
     "start_time": null,
     "status": "pending"
    },
    "tags": []
   },
   "outputs": [],
   "source": [
    "batch_size = 256         # <-- please tune batch size to fit your CPU/GPU configuration\n",
    "score_dev_every = 250\n",
    "train_history, dev_history = [], []\n",
    "\n",
    "model = RNNLanguageModel(n_tokens=n_tokens, emb_size=16, hid_size=256).to(device)\n",
    "opt = torch.optim.Adam(model.parameters())\n",
    "\n",
    "# score untrained model\n",
    "dev_history.append((0, score_lines(model, dev_lines, batch_size)))\n",
    "print(\"Sample before training:\", generate(model, 'Bridging'))"
   ]
  },
  {
   "cell_type": "code",
   "execution_count": null,
   "id": "91796088",
   "metadata": {
    "execution": {
     "iopub.execute_input": "2025-03-06T14:50:12.239490Z",
     "iopub.status.busy": "2025-03-06T14:50:12.239179Z",
     "iopub.status.idle": "2025-03-06T14:59:41.150815Z",
     "shell.execute_reply": "2025-03-06T14:59:41.149628Z",
     "shell.execute_reply.started": "2025-03-06T14:50:12.239461Z"
    },
    "papermill": {
     "duration": null,
     "end_time": null,
     "exception": null,
     "start_time": null,
     "status": "pending"
    },
    "tags": []
   },
   "outputs": [],
   "source": [
    "from IPython.display import clear_output\n",
    "from random import sample\n",
    "from tqdm import trange\n",
    "\n",
    "for i in trange(len(train_history), 5000):\n",
    "    batch = to_matrix(sample(train_lines, batch_size))\n",
    "    \n",
    "    opt.zero_grad()\n",
    "    loss_i = compute_loss(model, batch)\n",
    "    loss_i.backward()\n",
    "    opt.step()\n",
    "    \n",
    "    train_history.append((i, float(loss_i)))\n",
    "    \n",
    "    if (i + 1) % 50 == 0:\n",
    "        clear_output(True)\n",
    "        plt.scatter(*zip(*train_history), alpha=0.1, label='train_loss')\n",
    "        if len(dev_history):\n",
    "            plt.plot(*zip(*dev_history), color='red', label='dev_loss')\n",
    "        plt.legend(); plt.grid(); plt.show()\n",
    "        print(\"Generated examples (tau=0.5):\")\n",
    "        for _ in range(3):\n",
    "            print(generate(model, temperature=0.5))\n",
    "    \n",
    "    if (i + 1) % score_dev_every == 0:\n",
    "        print(\"Scoring dev...\")\n",
    "        dev_history.append((i, score_lines(model, dev_lines, batch_size)))\n",
    "        print('#%i Dev loss: %.3f' % dev_history[-1])\n"
   ]
  },
  {
   "cell_type": "code",
   "execution_count": null,
   "id": "c71b358b",
   "metadata": {
    "execution": {
     "iopub.status.busy": "2025-03-06T14:59:41.151409Z",
     "iopub.status.idle": "2025-03-06T14:59:41.151657Z",
     "shell.execute_reply": "2025-03-06T14:59:41.151556Z"
    },
    "papermill": {
     "duration": null,
     "end_time": null,
     "exception": null,
     "start_time": null,
     "status": "pending"
    },
    "tags": []
   },
   "outputs": [],
   "source": [
    "assert np.mean(train_history[:10], axis=0)[1] > np.mean(train_history[-10:], axis=0)[1], \"The model didn't converge.\"\n",
    "print(\"Final dev loss:\", dev_history[-1][-1])\n",
    "for i in range(10):\n",
    "    print(generate(model, temperature=0.5))"
   ]
  },
  {
   "cell_type": "markdown",
   "id": "1ae43658",
   "metadata": {
    "papermill": {
     "duration": null,
     "end_time": null,
     "exception": null,
     "start_time": null,
     "status": "pending"
    },
    "tags": []
   },
   "source": [
    "### Alternative sampling strategies (1 point)\n",
    "\n",
    "So far we've sampled tokens from the model in proportion with their probability.\n",
    "However, this approach can sometimes generate nonsense words due to the fact that softmax probabilities of these words are never exactly zero. This issue can be somewhat mitigated with sampling temperature, but low temperature harms sampling diversity. Can we remove the nonsense words without sacrificing diversity? __Yes, we can!__ But it takes a different sampling strategy.\n",
    "\n",
    "__Top-k sampling:__ on each step, sample the next token from __k most likely__ candidates from the language model.\n",
    "\n",
    "Suppose $k=3$ and the token probabilities are $p=[0.1, 0.35, 0.05, 0.2, 0.3]$. You first need to select $k$ most likely words and set the probability of the rest to zero: $\\hat p=[0.0, 0.35, 0.0, 0.2, 0.3]$ and re-normalize: \n",
    "$p^*\\approx[0.0, 0.412, 0.0, 0.235, 0.353]$.\n",
    "\n",
    "__Nucleus sampling:__ similar to top-k sampling, but this time we select $k$ dynamically. In nucleus sampling, we sample from top-__N%__ fraction of the probability mass.\n",
    "\n",
    "Using the same  $p=[0.1, 0.35, 0.05, 0.2, 0.3]$ and nucleus N=0.9, the nucleus words consist of:\n",
    "1. most likely token $w_2$, because $p(w_2) < N$\n",
    "2. second most likely token $w_5$, $p(w_2) + p(w_5) = 0.65 < N$\n",
    "3. third most likely token $w_4$ because $p(w_2) + p(w_5) + p(w_4) = 0.85 < N$\n",
    "\n",
    "And thats it, because the next most likely word would overflow: $p(w_2) + p(w_5) + p(w_4) + p(w_1) = 0.95 > N$.\n",
    "\n",
    "After you've selected the nucleus words, you need to re-normalize them as in top-k sampling and generate the next token.\n",
    "\n",
    "__Your task__ is to implement nucleus sampling variant and see if it is any good."
   ]
  },
  {
   "cell_type": "code",
   "execution_count": null,
   "id": "435ee379",
   "metadata": {
    "execution": {
     "iopub.execute_input": "2025-03-06T14:59:45.990104Z",
     "iopub.status.busy": "2025-03-06T14:59:45.989765Z",
     "iopub.status.idle": "2025-03-06T14:59:45.996266Z",
     "shell.execute_reply": "2025-03-06T14:59:45.995126Z",
     "shell.execute_reply.started": "2025-03-06T14:59:45.990076Z"
    },
    "papermill": {
     "duration": null,
     "end_time": null,
     "exception": null,
     "start_time": null,
     "status": "pending"
    },
    "tags": []
   },
   "outputs": [],
   "source": [
    "import numpy as np\n",
    "\n",
    "def generate_nucleus(model, prefix=BOS, nucleus=0.9, max_len=100):\n",
    "    \"\"\"\n",
    "    Generate a sequence with nucleus sampling\n",
    "    \"\"\"\n",
    "    while True:\n",
    "        token_probs = model.get_possible_next_tokens(prefix)\n",
    "        tokens, probs = zip(*token_probs.items())\n",
    "\n",
    "        inds = np.argsort(probs)[::-1]\n",
    "        sorted_tokens = np.array(tokens)[inds]\n",
    "        sorted_probs = np.array(probs)[inds]\n",
    "\n",
    "        cum_sum = np.cumsum(sorted_probs)\n",
    "\n",
    "        get_best = cum_sum <= nucleus\n",
    "        get_best[0] = True  \n",
    "\n",
    "        top_tokens = sorted_tokens[get_best]\n",
    "        top_probs = sorted_probs[get_best] / np.sum(sorted_probs[get_best])\n",
    "\n",
    "        next_token = np.random.choice(top_tokens, p=top_probs)\n",
    "\n",
    "        prefix += next_token  \n",
    "\n",
    "        if next_token == EOS or len(prefix.split()) >= max_len:\n",
    "            break\n",
    "    \n",
    "    return prefix\n"
   ]
  },
  {
   "cell_type": "code",
   "execution_count": null,
   "id": "d7d2f18f",
   "metadata": {
    "execution": {
     "iopub.execute_input": "2025-03-06T14:59:48.851919Z",
     "iopub.status.busy": "2025-03-06T14:59:48.851540Z",
     "iopub.status.idle": "2025-03-06T15:00:11.318675Z",
     "shell.execute_reply": "2025-03-06T15:00:11.317889Z",
     "shell.execute_reply.started": "2025-03-06T14:59:48.851857Z"
    },
    "papermill": {
     "duration": null,
     "end_time": null,
     "exception": null,
     "start_time": null,
     "status": "pending"
    },
    "tags": []
   },
   "outputs": [],
   "source": [
    "for i in range(10):\n",
    "    print(i)\n",
    "    print(generate_nucleus(model))"
   ]
  },
  {
   "cell_type": "markdown",
   "id": "f6d3647f",
   "metadata": {
    "papermill": {
     "duration": null,
     "end_time": null,
     "exception": null,
     "start_time": null,
     "status": "pending"
    },
    "tags": []
   },
   "source": [
    "### Bonus quest I: Beam Search (2 pts incl. samples)\n",
    "\n",
    "At times, you don't really want the model to generate diverse outputs as much as you want a __single most likely hypothesis.__ A single best translation, most likely continuation of the search query given prefix, etc. Except, you can't get it. \n",
    "\n",
    "In order to find the exact most likely sequence containing 10 tokens, you would need to enumerate all $|V|^{10}$ possible hypotheses. In practice, 9 times out of 10 you will instead find an approximate most likely output using __beam search__.\n",
    "\n",
    "Here's how it works:\n",
    "0. Initial `beam` = [prefix], max beam_size = k\n",
    "1. for T steps:\n",
    "2. ` ... ` generate all possible next tokens for all hypotheses in beam, formulate `len(beam) * len(vocab)` candidates\n",
    "3. ` ... ` select beam_size best for all candidates as new `beam`\n",
    "4. Select best hypothesis (-es?) from beam"
   ]
  },
  {
   "cell_type": "code",
   "execution_count": null,
   "id": "eeae3435",
   "metadata": {
    "execution": {
     "iopub.status.busy": "2025-03-06T14:59:41.154561Z",
     "iopub.status.idle": "2025-03-06T14:59:41.154924Z",
     "shell.execute_reply": "2025-03-06T14:59:41.154770Z"
    },
    "papermill": {
     "duration": null,
     "end_time": null,
     "exception": null,
     "start_time": null,
     "status": "pending"
    },
    "tags": []
   },
   "outputs": [],
   "source": [
    "from IPython.display import HTML\n",
    "# Here's what it looks like:\n",
    "!wget -q https://raw.githubusercontent.com/yandexdataschool/nlp_course/2020/resources/beam_search.html\n",
    "HTML(\"beam_search.html\")"
   ]
  },
  {
   "cell_type": "code",
   "execution_count": null,
   "id": "a86c897a",
   "metadata": {
    "execution": {
     "iopub.execute_input": "2025-03-06T15:09:14.302329Z",
     "iopub.status.busy": "2025-03-06T15:09:14.301999Z",
     "iopub.status.idle": "2025-03-06T15:09:14.309079Z",
     "shell.execute_reply": "2025-03-06T15:09:14.308094Z",
     "shell.execute_reply.started": "2025-03-06T15:09:14.302306Z"
    },
    "papermill": {
     "duration": null,
     "end_time": null,
     "exception": null,
     "start_time": null,
     "status": "pending"
    },
    "tags": []
   },
   "outputs": [],
   "source": [
    "import numpy as np\n",
    "\n",
    "def generate_beamsearch(model, prefix=BOS, beam_size=4, length=5):\n",
    "    beams = [(prefix, 0.0)]\n",
    "    \n",
    "    for _ in range(length):\n",
    "        new_beams = []\n",
    "        for seq, cum_log_prob in beams:\n",
    "            if seq and seq[-1] == EOS:\n",
    "                new_beams.append((seq, cum_log_prob))\n",
    "                continue\n",
    "            \n",
    "            token_probs = model.get_possible_next_tokens(seq)\n",
    "            for token, prob in token_probs.items():\n",
    "                if prob <= 0:  \n",
    "                    continue\n",
    "                new_seq = seq + token\n",
    "                new_log_prob = cum_log_prob + np.log(prob)\n",
    "                new_beams.append((new_seq, new_log_prob))\n",
    "        \n",
    "        new_beams = sorted(new_beams, key=lambda x: x[1], reverse=True)\n",
    "        beams = new_beams[:beam_size]\n",
    "        \n",
    "        if all(seq and seq[-1] == EOS for seq, _ in beams):\n",
    "            break\n",
    "\n",
    "    return beams\n"
   ]
  },
  {
   "cell_type": "code",
   "execution_count": null,
   "id": "2341ab2e",
   "metadata": {
    "execution": {
     "iopub.execute_input": "2025-03-06T15:09:59.824435Z",
     "iopub.status.busy": "2025-03-06T15:09:59.824141Z",
     "iopub.status.idle": "2025-03-06T15:09:59.851148Z",
     "shell.execute_reply": "2025-03-06T15:09:59.850350Z",
     "shell.execute_reply.started": "2025-03-06T15:09:59.824413Z"
    },
    "papermill": {
     "duration": null,
     "end_time": null,
     "exception": null,
     "start_time": null,
     "status": "pending"
    },
    "tags": []
   },
   "outputs": [],
   "source": [
    "generate_beamsearch(model, prefix=' deep ', beam_size=4)"
   ]
  },
  {
   "cell_type": "code",
   "execution_count": null,
   "id": "424d84c0",
   "metadata": {
    "execution": {
     "iopub.status.busy": "2025-03-06T14:59:41.158339Z",
     "iopub.status.idle": "2025-03-06T14:59:41.158705Z",
     "shell.execute_reply": "2025-03-06T14:59:41.158545Z"
    },
    "papermill": {
     "duration": null,
     "end_time": null,
     "exception": null,
     "start_time": null,
     "status": "pending"
    },
    "scrolled": true,
    "tags": []
   },
   "outputs": [],
   "source": [
    "# check it out: which beam size works best?\n",
    "# find at least 5 prefixes where beam_size=1 and 8 generates different sequences"
   ]
  },
  {
   "cell_type": "markdown",
   "id": "139fbe42",
   "metadata": {
    "papermill": {
     "duration": null,
     "end_time": null,
     "exception": null,
     "start_time": null,
     "status": "pending"
    },
    "tags": []
   },
   "source": [
    "### Bonus quest II: Ultimate Language Model (2+ pts)\n",
    "\n",
    "So you've learned the building blocks of neural language models, you can now build the ultimate monster:  \n",
    "* Make it char-level, word level or maybe use sub-word units like [bpe](https://github.com/rsennrich/subword-nmt);\n",
    "* Combine convolutions, recurrent cells, pre-trained embeddings and all the black magic deep learning has to offer;\n",
    "  * Use strides to get larger window size quickly. Here's a [scheme](https://storage.googleapis.com/deepmind-live-cms/documents/BlogPost-Fig2-Anim-160908-r01.gif) from google wavenet.\n",
    "* Train on large data. Like... really large. Try [1 Billion Words](http://www.statmt.org/lm-benchmark/1-billion-word-language-modeling-benchmark-r13output.tar.gz) benchmark;\n",
    "* Use training schedules to speed up training. Start with small length and increase over time; Take a look at [one cycle](https://medium.com/@nachiket.tanksale/finding-good-learning-rate-and-the-one-cycle-policy-7159fe1db5d6) for learning rate;\n",
    "\n",
    "_You are NOT required to submit this assignment. Please make sure you don't miss your deadline because of it :)_"
   ]
  }
 ],
 "metadata": {
  "kaggle": {
   "accelerator": "nvidiaTeslaT4",
   "dataSources": [],
   "dockerImageVersionId": 30919,
   "isGpuEnabled": true,
   "isInternetEnabled": true,
   "language": "python",
   "sourceType": "notebook"
  },
  "kernelspec": {
   "display_name": "Python 3",
   "language": "python",
   "name": "python3"
  },
  "language_info": {
   "codemirror_mode": {
    "name": "ipython",
    "version": 3
   },
   "file_extension": ".py",
   "mimetype": "text/x-python",
   "name": "python",
   "nbconvert_exporter": "python",
   "pygments_lexer": "ipython3",
   "version": "3.10.12"
  },
  "papermill": {
   "default_parameters": {},
   "duration": 4.127754,
   "end_time": "2025-03-06T15:10:30.446911",
   "environment_variables": {},
   "exception": true,
   "input_path": "__notebook__.ipynb",
   "output_path": "__notebook__.ipynb",
   "parameters": {},
   "start_time": "2025-03-06T15:10:26.319157",
   "version": "2.6.0"
  }
 },
 "nbformat": 4,
 "nbformat_minor": 5
}
