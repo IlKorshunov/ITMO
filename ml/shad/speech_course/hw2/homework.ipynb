{
 "cells": [
  {
   "cell_type": "markdown",
   "metadata": {},
   "source": [
    "# Homework (Week 3) -- Biometrics (20 points)\n",
    "\n",
    "In this homework we train Biometrics Verification model and use some features to increase quality:\n",
    "1) Train ECAPA-TDNN (10 points)\n",
    "2) Any contrastive loss (10 points)\n",
    "\n",
    "Link to download dataset: https://disk.yandex.ru/d/lyhtieYbxQOYqw"
   ]
  },
  {
   "cell_type": "code",
   "execution_count": 1,
   "metadata": {},
   "outputs": [
    {
     "name": "stderr",
     "output_type": "stream",
     "text": [
      "/tmp/ipykernel_44382/3297159001.py:4: UserWarning: torchaudio._backend.set_audio_backend has been deprecated. With dispatcher enabled, this function is no-op. You can remove the function call.\n",
      "  torchaudio.set_audio_backend('ffmpeg')\n"
     ]
    }
   ],
   "source": [
    "import os\n",
    "\n",
    "import torchaudio\n",
    "torchaudio.set_audio_backend('ffmpeg')\n",
    "\n",
    "import matplotlib.pyplot as plt\n",
    "import numpy as np\n",
    "import pandas as pd\n",
    "import torch\n",
    "import torch.nn as nn\n",
    "import torch.nn.functional as F\n",
    "import torch.optim as optim\n",
    "import torch.utils.data as torch_data\n",
    "import tqdm.notebook as tqdm\n",
    "\n",
    "import dataset\n",
    "\n",
    "from IPython.display import clear_output\n",
    "\n",
    "%matplotlib inline"
   ]
  },
  {
   "cell_type": "code",
   "execution_count": 2,
   "metadata": {},
   "outputs": [],
   "source": [
    "# base_url = 'https://cloud-api.yandex.net/v1/disk/public/resources/download?'\n",
    "# public_key = 'https://disk.yandex.ru/d/lyhtieYbxQOYqw'\n",
    "# final_url = base_url + urllib.parse.urlencode(dict(public_key=public_key))\n",
    "# response = requests.get(final_url)\n",
    "# download_url = response.json()['href']\n",
    "# !wget -O voxceleb.tar.gz \"{download_url}\"\n",
    "# !tar -xf voxceleb.tar.gz"
   ]
  },
  {
   "cell_type": "markdown",
   "metadata": {},
   "source": [
    "### Some model train example"
   ]
  },
  {
   "cell_type": "code",
   "execution_count": 3,
   "metadata": {},
   "outputs": [],
   "source": [
    "DEVICE = 'cuda' \n",
    "DATADIR = 'data'\n",
    "FEATS = 80\n",
    "LOADER_WORKERS = 12"
   ]
  },
  {
   "cell_type": "code",
   "execution_count": 4,
   "metadata": {},
   "outputs": [
    {
     "name": "stderr",
     "output_type": "stream",
     "text": [
      "/home/kolya/speech_course/week_03_kws_bio/myenv/lib/python3.12/site-packages/torchaudio/functional/functional.py:584: UserWarning: At least one mel filterbank has all zero values. The value for `n_mels` (128) may be set too high. Or, the value for `n_freqs` (201) may be set too low.\n",
      "  warnings.warn(\n"
     ]
    }
   ],
   "source": [
    "transform = torchaudio.transforms.MFCC(n_mfcc=FEATS) \n",
    "transform_aug = nn.Sequential(\n",
    "    torchaudio.transforms.MFCC(n_mfcc=FEATS),\n",
    "    torchaudio.transforms.TimeMasking(time_mask_param=40),\n",
    "    torchaudio.transforms.FrequencyMasking(freq_mask_param=7)\n",
    ")\n",
    "\n",
    "trainset = dataset.Dataset(os.path.join(DATADIR, 'voxceleb_train'), transform_aug)\n",
    "testset = dataset.Dataset(os.path.join(DATADIR, 'voxceleb_test'), transform)\n",
    "test_targets = pd.read_csv(os.path.join(DATADIR, 'target.csv')).values.tolist()"
   ]
  },
  {
   "cell_type": "markdown",
   "metadata": {},
   "source": [
    "### Models"
   ]
  },
  {
   "cell_type": "code",
   "execution_count": 5,
   "metadata": {},
   "outputs": [],
   "source": [
    "class Model(nn.Module):\n",
    "    def __init__(self, input_shape: int, output_shape: int, hidden: int, kernel: int = 7, sride: int = 2):\n",
    "        super().__init__()\n",
    "        self._emb = nn.Sequential(\n",
    "            nn.Conv1d(input_shape, hidden, kernel, stride=sride),\n",
    "            nn.ReLU(),\n",
    "            nn.Conv1d(hidden, hidden, kernel, stride=sride),\n",
    "            nn.ReLU(),\n",
    "            nn.Conv1d(hidden, hidden, kernel, stride=sride),\n",
    "            nn.AdaptiveMaxPool1d(1),\n",
    "        )\n",
    "        self._final = nn.Sequential(\n",
    "            nn.Linear(hidden, output_shape),\n",
    "            nn.LogSoftmax(dim=-1)\n",
    "        )\n",
    "\n",
    "    def forward(self, X) -> tuple[torch.Tensor, torch.Tensor]:\n",
    "        emb = self._emb(X).squeeze(2)\n",
    "        return self._final(emb), emb"
   ]
  },
  {
   "cell_type": "markdown",
   "metadata": {},
   "source": [
    "### Metrics\n",
    "\n",
    "Cosine similarity:\n",
    "$CS(a, b) = \\frac{<a, b>}{\\|a\\| \\|b\\|}$"
   ]
  },
  {
   "cell_type": "code",
   "execution_count": 6,
   "metadata": {},
   "outputs": [],
   "source": [
    "def cosine_similarity(a, b):\n",
    "    a = a.reshape(-1)\n",
    "    b = b.reshape(-1)\n",
    "    return np.dot(a, b) / np.linalg.norm(a) / np.linalg.norm(b)"
   ]
  },
  {
   "cell_type": "markdown",
   "metadata": {},
   "source": [
    "Here is O(N log N) algorithm for find best_eer:\n",
    "1) Sort prediction by probability\n",
    "2) Going through items and recalculating far and frr"
   ]
  },
  {
   "cell_type": "code",
   "execution_count": 7,
   "metadata": {},
   "outputs": [],
   "source": [
    "def best_eer(data):\n",
    "    full = sorted(data, key=lambda x: (x[0], -x[1]))\n",
    "    pos = len([item for item in full if item[1] == 1])\n",
    "    neg = len(full) - pos\n",
    "    cur_pos = pos\n",
    "    cur_neg = 0\n",
    "    best_eer = 1\n",
    "    for _, label in full:\n",
    "        if label == 1:\n",
    "            cur_pos -= 1\n",
    "        else:\n",
    "            cur_neg += 1\n",
    "        cur_eer = max((pos - cur_pos) / pos, (neg - cur_neg) / neg)\n",
    "        best_eer = min(best_eer, cur_eer)\n",
    "    return best_eer"
   ]
  },
  {
   "cell_type": "markdown",
   "metadata": {},
   "source": [
    "### Train"
   ]
  },
  {
   "cell_type": "code",
   "execution_count": 8,
   "metadata": {},
   "outputs": [],
   "source": [
    "def train_stage(model, opt, epoch = 0, scheduler=None, batch_size: int = 256):\n",
    "    loader = torch_data.DataLoader(\n",
    "        trainset,\n",
    "        shuffle=True,\n",
    "        batch_size=batch_size,\n",
    "        collate_fn=dataset.collate_fn,\n",
    "        num_workers=LOADER_WORKERS,\n",
    "    )\n",
    "    loss_sum = 0.0\n",
    "    batches = 0\n",
    "    for _, (X, Y, _) in enumerate(tqdm.tqdm(loader)):\n",
    "        logits, _ = model.forward(X.to(DEVICE))\n",
    "        loss = F.nll_loss(logits, Y.to(DEVICE))\n",
    "        loss_sum += loss.item()\n",
    "        batches += 1\n",
    "        opt.zero_grad()\n",
    "        loss.backward()\n",
    "        opt.step()\n",
    "    return loss_sum / batches"
   ]
  },
  {
   "cell_type": "code",
   "execution_count": 9,
   "metadata": {},
   "outputs": [],
   "source": [
    "def calc_eval_score(model: nn.Module, batch_size: int = 256):\n",
    "    loader = torch_data.DataLoader(\n",
    "        testset,\n",
    "        batch_size=batch_size,\n",
    "        collate_fn=dataset.collate_fn,\n",
    "        num_workers=LOADER_WORKERS,\n",
    "    )\n",
    "    items = {}\n",
    "    target_scores = []\n",
    "    with torch.no_grad():\n",
    "        for X, _, pathes in tqdm.tqdm(loader):\n",
    "            _, embds = model.forward(X.to(DEVICE))\n",
    "            embds = embds.cpu().data.numpy().reshape(X.shape[0], -1)\n",
    "            for embd, path in zip(embds, pathes):\n",
    "                items[path] = embd\n",
    "    for item1, item2, target in test_targets:\n",
    "        target_scores.append((cosine_similarity(items[item1], items[item2]), target))\n",
    "    return best_eer(target_scores)"
   ]
  },
  {
   "cell_type": "code",
   "execution_count": 10,
   "metadata": {},
   "outputs": [],
   "source": [
    "def train(\n",
    "    model: nn.Module,\n",
    "    opt,\n",
    "    name,\n",
    "    scheduler = None,\n",
    "    batch_size: int = 256,\n",
    "    epochs: int = 13,\n",
    "    train_fun = train_stage,\n",
    "    train_kwargs = {},\n",
    "):\n",
    "    train_losses = []\n",
    "    eval_scores = []\n",
    "    for epoch in range(epochs):\n",
    "        model.train()\n",
    "        train_losses.append(train_fun(model, opt, batch_size=batch_size))\n",
    "        model.eval()\n",
    "        eval_scores.append(calc_eval_score(model, batch_size=batch_size))\n",
    "        clear_output()\n",
    "        \n",
    "        if scheduler is not None: scheduler.step()\n",
    "                \n",
    "        fig, axis = plt.subplots(1, 2, figsize=(15, 7))\n",
    "        axis[0].plot(np.arange(1, epoch + 2), train_losses, label=f'train {name} loss')\n",
    "        axis[1].plot(np.arange(1, epoch + 2), eval_scores, label='eval')\n",
    "        axis[0].set(xlabel='epoch', ylabel=f'{name} Loss')\n",
    "        axis[1].set(xlabel='epoch', ylabel='EER')\n",
    "        fig.legend()\n",
    "        plt.show()\n",
    "        print(f'Epoch {epoch + 1}. Train loss {train_losses[-1]}. Eval score {eval_scores[-1]}')"
   ]
  },
  {
   "cell_type": "code",
   "execution_count": 11,
   "metadata": {},
   "outputs": [],
   "source": [
    "# model = Model(FEATS, trainset.speakers(), 128).to(DEVICE)\n",
    "# opt = optim.Adam(model.parameters())\n",
    "# train(model, opt)"
   ]
  },
  {
   "cell_type": "markdown",
   "metadata": {},
   "source": [
    "### ECAPA TDNN (10 points)\n",
    "\n",
    "Paper: https://arxiv.org/pdf/2005.07143.pdf\n",
    "\n",
    "Papers for ECAPA parts:\n",
    "- SE-Blocks - https://arxiv.org/pdf/1709.01507.pdf\n",
    "- Res2Net - https://arxiv.org/pdf/1904.01169.pdf\n",
    "- Attentive Stats Pooling - https://arxiv.org/pdf/1803.10963.pdf\n",
    "- AAM Softmax - https://arxiv.org/pdf/1906.07317.pdf\n",
    "\n",
    "Also you can optionally add other settings for paper:\n",
    "- SpecAug\n",
    "- Weight decay for optimizer\n",
    "- LR scheduler"
   ]
  },
  {
   "cell_type": "code",
   "execution_count": 12,
   "metadata": {},
   "outputs": [],
   "source": [
    "get_padding = lambda dilation, ker_size: dilation * (ker_size - 1) // 2"
   ]
  },
  {
   "cell_type": "code",
   "execution_count": 13,
   "metadata": {},
   "outputs": [],
   "source": [
    "class SEBlock(nn.Module):\n",
    "    def __init__(self, input_shape: int, reduction: int = 16):\n",
    "        super().__init__()\n",
    "        self.fc_1 = nn.Linear(input_shape, input_shape // reduction, bias=False)\n",
    "        self.fc_2 = nn.Linear(input_shape // reduction, input_shape, bias=False)\n",
    "        self.global_avg_pool = nn.AdaptiveAvgPool1d(1)\n",
    "\n",
    "    def __call__(self, X):\n",
    "        batch, C, L = X.size()\n",
    "        res = self.global_avg_pool(X).view(batch, C)\n",
    "        res = self.fc_1(res)\n",
    "        res = torch.sigmoid(self.fc_2(F.relu(res)))\n",
    "        return X * res.view(batch, C, 1)\n"
   ]
  },
  {
   "cell_type": "code",
   "execution_count": null,
   "metadata": {},
   "outputs": [],
   "source": [
    "class Res2Net(nn.Module):\n",
    "    def __init__(self, hidden: int, dilation: int, scale_res2net: int):\n",
    "        super().__init__()\n",
    "        assert hidden % scale_res2net == 0\n",
    "        self.s = scale_res2net\n",
    "        self.chunk = hidden // scale_res2net\n",
    "\n",
    "        self.convs = nn.ModuleList([\n",
    "            nn.Conv1d(self.chunk, self.chunk, \n",
    "                      kernel_size=3, padding=dilation, dilation=dilation, bias=False)\n",
    "            for _ in range(scale_res2net - 1)\n",
    "        ])\n",
    "        \n",
    "        self.relu = nn.ReLU(inplace=True)\n",
    "        self.conv1d = nn.Conv1d(hidden, hidden, kernel_size=1, bias=False)\n",
    "\n",
    "    def __call__(self, X):\n",
    "        out = []\n",
    "        split_parts = torch.split(X, self.chunk, dim=1) \n",
    "        out.append(split_parts[0])\n",
    "        \n",
    "        for i in range(1, self.s):\n",
    "            if i == 1:\n",
    "                local = split_parts[i]\n",
    "            else:\n",
    "                local = split_parts[i] + out[i - 1]\n",
    "            out.append(self.relu(self.convs[i - 1](local)))\n",
    "            \n",
    "        out = self.relu(self.conv1d(torch.cat(out, dim=1) ))\n",
    "        return out + X"
   ]
  },
  {
   "cell_type": "code",
   "execution_count": 15,
   "metadata": {},
   "outputs": [],
   "source": [
    "class AttentiveStatsPooling(nn.Module):\n",
    "    def __init__(self, input_shape: int, hidden: int):\n",
    "        super().__init__()\n",
    "        self.conv1 = nn.Conv1d(input_shape, hidden, kernel_size=1)\n",
    "        self.relu = nn.ReLU()\n",
    "        self.conv2 = nn.Conv1d(hidden, 1, kernel_size=1)\n",
    "\n",
    "    def forward(self, X):\n",
    "        scores = self.conv2(self.relu(self.conv1(X)))\n",
    "        weights = torch.softmax(scores, dim=2)\n",
    "        weighted_mean = torch.sum(weights * X, dim=2)\n",
    "        ex2 = torch.sum(weights * X**2, dim=2) \n",
    "        variance = ex2 - weighted_mean**2\n",
    "        min_val = torch.full_like(variance, 1e-6)\n",
    "        variance = torch.maximum(variance, min_val)\n",
    "        weighted_std = torch.sqrt(variance)\n",
    "        return torch.cat([weighted_mean, weighted_std], dim=1)\n"
   ]
  },
  {
   "cell_type": "code",
   "execution_count": 16,
   "metadata": {},
   "outputs": [],
   "source": [
    "class AAMSoftmax(nn.Module):\n",
    "    def __init__(self, input_shape, n_class, margin=0.2, scale=30):\n",
    "        super().__init__()\n",
    "        self.m = margin\n",
    "        self.s = scale\n",
    "        self.weight = nn.Parameter(torch.randn(n_class, input_shape))\n",
    "        self.weight.data = F.normalize(self.weight.data, p=2, dim=1)\n",
    "        \n",
    "    def forward(self, X):\n",
    "        x_norm = F.normalize(X, p=2, dim=1)\n",
    "        w_norm = F.normalize(self.weight, p=2, dim=1)\n",
    "        cos = torch.matmul(x_norm, w_norm.t())\n",
    "                \n",
    "        tetas = torch.acos(cos)\n",
    "        exp_no_margin = torch.exp(self.s * cos)\n",
    "        num = torch.exp(self.s * torch.cos(tetas + self.m))\n",
    "        denom = num + torch.sum(exp_no_margin, dim=1, keepdim=True) - exp_no_margin\n",
    "        return torch.log(torch.div(num, denom))"
   ]
  },
  {
   "cell_type": "code",
   "execution_count": 17,
   "metadata": {},
   "outputs": [],
   "source": [
    "class EcapaBlock(nn.Module):\n",
    "    def __init__(self, hidden: int, dilation: int, scale_res2net: int, n_class: int, embedding_dim: int, in_channels = FEATS):\n",
    "        super().__init__()\n",
    "        self.out_channels = 1536\n",
    "        kernel_start = 5\n",
    "        \n",
    "        self.start_layer = nn.Sequential(\n",
    "            nn.Conv1d(in_channels=in_channels, out_channels=hidden,\n",
    "                      kernel_size=kernel_start, dilation=dilation,\n",
    "                      padding=get_padding(dilation, kernel_start), bias=False),\n",
    "            nn.ReLU(),\n",
    "            nn.BatchNorm1d(hidden)\n",
    "        )\n",
    "        \n",
    "        self.blocks = nn.ModuleList([\n",
    "            nn.Sequential(\n",
    "                Res2Net(hidden, dilation=d, scale_res2net=scale_res2net),\n",
    "                SEBlock(hidden)\n",
    "            ) for d in [2,3,4]\n",
    "        ])\n",
    "        \n",
    "        self.processing = nn.Sequential(\n",
    "            nn.Conv1d(hidden * 3, self.out_channels, kernel_size=1, bias=False),\n",
    "            nn.BatchNorm1d(self.out_channels),\n",
    "            nn.ReLU()\n",
    "        )\n",
    "        \n",
    "        self.final_block = nn.Sequential(\n",
    "            AttentiveStatsPooling(input_shape=self.out_channels, hidden=self.out_channels),\n",
    "            nn.BatchNorm1d(self.out_channels * 2),\n",
    "            nn.Linear(self.out_channels * 2, embedding_dim, bias=False),\n",
    "            nn.BatchNorm1d(embedding_dim)\n",
    "        )\n",
    "        \n",
    "        self.aam = AAMSoftmax(input_shape=embedding_dim, n_class=n_class)\n",
    "\n",
    "    def __call__(self, X):\n",
    "        out = self.start_layer(X)\n",
    "        cat_out = torch.cat([self.blocks[0](out), self.blocks[1](out), self.blocks[2](out)], dim=1)\n",
    "        proc = self.processing(cat_out)\n",
    "        pooled = self.final_block(proc)\n",
    "        logits = self.aam(pooled)\n",
    "        return logits, pooled\n"
   ]
  },
  {
   "cell_type": "code",
   "execution_count": 18,
   "metadata": {},
   "outputs": [],
   "source": [
    "class EcapaTDNN(nn.Module):\n",
    "    def __init__(self, input_shape: int, n_class: int, embedding_dim: int):\n",
    "        super().__init__()\n",
    "        self.ecapa_block = EcapaBlock(hidden=256, dilation=1, scale_res2net=8, n_class=n_class, embedding_dim=embedding_dim)\n",
    "\n",
    "    def forward(self, X):\n",
    "        logits, emb = self.ecapa_block(X)\n",
    "        return logits, emb"
   ]
  },
  {
   "cell_type": "markdown",
   "metadata": {},
   "source": [
    "Train ECAPA model, at this point you can archive stable score (for several consecutive epochs) near 0.08 EER.\n",
    "\n",
    "You can train ECAPA with hidden size 256 to increase speed"
   ]
  },
  {
   "cell_type": "code",
   "execution_count": null,
   "metadata": {},
   "outputs": [],
   "source": [
    "from torch.optim import AdamW\n",
    "\n",
    "model = EcapaTDNN(FEATS, trainset.speakers(), 128).to(DEVICE)\n",
    "opt = AdamW(model.parameters(), lr=2e-3, weight_decay=1e-6)\n",
    "scheduler = torch.optim.lr_scheduler.StepLR(opt, step_size=6, gamma=0.65)\n",
    "train(model, opt, 'CE', scheduler, batch_size=128)\n",
    "\n",
    "# Epoch 15. Train loss 0.45230512984518734. Eval score 0.08188696039163329"
   ]
  },
  {
   "cell_type": "markdown",
   "metadata": {},
   "source": [
    "![alt text](output_1.png)"
   ]
  },
  {
   "cell_type": "code",
   "execution_count": null,
   "metadata": {},
   "outputs": [],
   "source": [
    "torch.save(model, 'model.pt')"
   ]
  },
  {
   "cell_type": "markdown",
   "metadata": {},
   "source": [
    "### Contrastive losses (10 points)\n",
    "\n",
    "You can use anyone constrative loss.\n",
    "Good article with contrastive losses https://lilianweng.github.io/posts/2021-05-31-contrastive/\n",
    "\n",
    "Base losses:\n",
    "- contrastive\n",
    "- triplet -- it gives a better quality usually\n",
    "- lifted structured loss -- better batch data utilization\n",
    "\n",
    "The main problem with contrastive loss is the positive pairs sampler.\n",
    "This is because a large number of classes provided only once per batch\n",
    "in case of large number of classes in the dataset."
   ]
  },
  {
   "cell_type": "code",
   "execution_count": null,
   "metadata": {},
   "outputs": [],
   "source": [
    "from collections import defaultdict\n",
    "import numpy as np\n",
    "import torch\n",
    "import matplotlib.pyplot as plt\n",
    "\n",
    "class PositivePairsSampler(torch.utils.data.Sampler):\n",
    "    def __init__(self, speakers: list[int], batch_size: int, flag=False):\n",
    "        self.speakers = speakers\n",
    "        self.batch_size = batch_size\n",
    "        self.speakers_dict = defaultdict(list)\n",
    "        self.min_mes = 5\n",
    "        \n",
    "        for idx, spk_id in enumerate(speakers):\n",
    "            self.speakers_dict[spk_id].append(idx)\n",
    "        \n",
    "        self.total = len(self.speakers)\n",
    "        self.batches = []\n",
    "        \n",
    "        self.small_range = (0, 35)\n",
    "        self.normal_36_42 = (36, 42)\n",
    "        self.normal_43_48 = (43, 48)\n",
    "        self.normal_49_52 = (49, 52)\n",
    "        self.normal_53_59 = (53, 59)\n",
    "        self.uniform = (60, 60)  \n",
    "\n",
    "        self.small = []\n",
    "        self.gr_36_42 = []\n",
    "        self.gr_43_48 = []\n",
    "        self.gr_49_52 = []\n",
    "        self.gr_53_59 = []\n",
    "        self.uniform = []\n",
    "\n",
    "        for spk, idxs in self.speakers_dict.items():\n",
    "            c = len(idxs)\n",
    "            if c <= self.small_range[1]:\n",
    "                self.small.append(spk) \n",
    "            elif self.normal_36_42[0] <= c <= self.normal_36_42[1]:\n",
    "                self.gr_36_42.append(spk)\n",
    "            elif self.normal_43_48[0] <= c <= self.normal_43_48[1]:\n",
    "                self.gr_43_48.append(spk)\n",
    "            elif self.normal_49_52[0] <= c <= self.normal_49_52[1]:\n",
    "                self.gr_49_52.append(spk)\n",
    "            elif self.normal_53_59[0] <= c <= self.normal_53_59[1]:\n",
    "                self.gr_53_59.append(spk)\n",
    "            else:\n",
    "                self.uniform.append(spk)\n",
    "\n",
    "        if flag:\n",
    "            self._separate_batches()\n",
    "            \n",
    "    def _separate_batches(self):\n",
    "        self._batches_for_group(self.small)\n",
    "        self._batches_for_group(self.gr_36_42)\n",
    "        self._batches_for_group(self.gr_43_48)\n",
    "        self._batches_for_group(self.gr_49_52)\n",
    "        self._batches_for_group(self.gr_53_59)\n",
    "        self._batches_for_group(self.uniform)\n",
    "        \n",
    "    def _batches_for_group(self, group_spk: list):\n",
    "        group_total = sum(len(self.speakers_dict[spk]) for spk in group_spk)\n",
    "        num_batches = group_total // self.batch_size\n",
    "\n",
    "        for _ in range(num_batches):\n",
    "            cur_batch = []\n",
    "            cur_batch_size = 0\n",
    "            while cur_batch_size < self.batch_size and group_spk:\n",
    "                need = self.batch_size - cur_batch_size\n",
    "                taken = self._sample_from_group(group_spk, need, cur_batch)\n",
    "                cur_batch_size += taken\n",
    "\n",
    "            if len(cur_batch) > 0:\n",
    "                self.batches.append(cur_batch)\n",
    "\n",
    "    def _balanced_batches(self):\n",
    "        total_messages = sum(len(idxs) for idxs in self.speakers_dict.values())\n",
    "        num_batches = total_messages // self.batch_size\n",
    "\n",
    "        for _ in range(num_batches):\n",
    "            total_small = sum(len(self.speakers_dict[spk]) for spk in self.small)\n",
    "            total_36_42 = sum(len(self.speakers_dict[spk]) for spk in self.gr_36_42)\n",
    "            total_43_48 = sum(len(self.speakers_dict[spk]) for spk in self.gr_43_48)\n",
    "            total_49_52 = sum(len(self.speakers_dict[spk]) for spk in self.gr_49_52)\n",
    "            total_53_59 = sum(len(self.speakers_dict[spk]) for spk in self.gr_53_59)\n",
    "            total_uniform = sum(len(self.speakers_dict[spk]) for spk in self.uniform)\n",
    "            all = total_small + total_36_42 + total_43_48 + total_49_52 + total_53_59 + total_uniform\n",
    "\n",
    "            r_small = total_small / all \n",
    "            r_36_42 = total_36_42 / all \n",
    "            r_43_48 = total_43_48 / all \n",
    "            r_49_52 = total_49_52 / all \n",
    "            r_53_59 = total_53_59 / all \n",
    "\n",
    "            count_small = int(self.batch_size * r_small)\n",
    "            count_36_42 = int(self.batch_size * r_36_42)\n",
    "            count_43_48 = int(self.batch_size * r_43_48)\n",
    "            count_49_52 = int(self.batch_size * r_49_52)\n",
    "            count_53_59 = int(self.batch_size * r_53_59)\n",
    "\n",
    "            cur_batch = []\n",
    "            self._sample_from_group(self.small, count_small, cur_batch)\n",
    "            self._sample_from_group(self.gr_36_42, count_36_42, cur_batch)\n",
    "            self._sample_from_group(self.gr_43_48, count_43_48, cur_batch)\n",
    "            self._sample_from_group(self.gr_49_52, count_49_52, cur_batch)\n",
    "            self._sample_from_group(self.gr_53_59, count_53_59, cur_batch)\n",
    "            remaind = self.batch_size - len(cur_batch)\n",
    "            self._sample_from_group(self.uniform, remaind, cur_batch)\n",
    "            \n",
    "            if cur_batch:   \n",
    "                self.batches.append(cur_batch)\n",
    "\n",
    "\n",
    "    def _sample_from_group(self, group_spk: list, needed: int, cur_batch: list) -> int:\n",
    "        taken = 0\n",
    "        if needed == 0:\n",
    "            return 0\n",
    "        \n",
    "        while taken < needed and group_spk:\n",
    "            weights = np.array([len(self.speakers_dict[spk]) for spk in group_spk], dtype=float)\n",
    "            weights /= weights.sum()\n",
    "            \n",
    "            picked = np.random.choice(group_spk, p=weights)\n",
    "            can_take = len(self.speakers_dict[picked])\n",
    "            num_take = min(self.min_mes, can_take, needed - taken)\n",
    "            if num_take == 0:\n",
    "                group_spk.remove(picked)\n",
    "                continue\n",
    "            \n",
    "            indices = self.speakers_dict[picked][:num_take]\n",
    "            self.speakers_dict[picked] = self.speakers_dict[picked][num_take:]\n",
    "            \n",
    "            cur_batch.extend(indices)\n",
    "            taken += num_take\n",
    "            \n",
    "            if len(self.speakers_dict[picked]) == 0:\n",
    "                group_spk.remove(picked)\n",
    "        \n",
    "        return taken\n",
    "\n",
    "\n",
    "    def plot_distribution(self):\n",
    "        counts = [len(idxs) for idxs in self.speakers_dict.values()]\n",
    "        print(f\"Спикеров с < 60 сообщениями: {sum(1 for c in counts if c < 60)}\")\n",
    "        plt.hist(counts, bins=30, edgecolor='black', color='skyblue')\n",
    "        plt.xlabel(\"Количество сообщений\")\n",
    "        plt.ylabel(\"Количество участников\")\n",
    "        plt.grid(True, linestyle='--', alpha=0.6)\n",
    "        plt.show()\n",
    "\n",
    "    def __len__(self):\n",
    "        return len(self.batches)\n",
    "\n",
    "    def __iter__(self):\n",
    "        for b in self.batches:\n",
    "            yield b\n"
   ]
  },
  {
   "cell_type": "code",
   "execution_count": 22,
   "metadata": {},
   "outputs": [],
   "source": [
    "import random\n",
    "\n",
    "def contrastive_train_stage(model, opt, batch_size: int = 256):\n",
    "    loader = torch_data.DataLoader(\n",
    "        trainset,\n",
    "        collate_fn=dataset.collate_fn,\n",
    "        num_workers=LOADER_WORKERS,\n",
    "        batch_sampler=PositivePairsSampler(trainset._speakers, batch_size, True)\n",
    "    )\n",
    "    \n",
    "    trip_loss_get = nn.TripletMarginLoss(margin = 0.4)\n",
    "    total_loss = 0.0\n",
    "    batches = 0\n",
    "    skipped = 0\n",
    "    count_pos = 1\n",
    "    count_neg = 1\n",
    "    \n",
    "    for cur_batch in tqdm.tqdm(loader):\n",
    "        audio, target, _ = cur_batch\n",
    "        audio = audio.to(DEVICE)\n",
    "        target = target.to(DEVICE)\n",
    "        \n",
    "        logits, embeddings = model(audio)\n",
    "        embeddings = F.normalize(embeddings, p=2, dim=1) \n",
    "        cls_loss = F.nll_loss(logits, target)\n",
    "        \n",
    "        cur_objects, pos, neg = [], [], []\n",
    "        \n",
    "        for i in range(len(target)):\n",
    "            others = torch.where(target != target[i])[0]\n",
    "            dists_neg = torch.cdist(embeddings[i].unsqueeze(0), embeddings[others], p=2).squeeze()\n",
    "            k = max(1, int(len(others) * 0.4))\n",
    "            _, nearest_neg = torch.topk(dists_neg, k=k, largest=False)\n",
    "            nearest_neg = nearest_neg.tolist()  \n",
    "            neg_cand = others[random.sample(nearest_neg, count_neg)]\n",
    "            \n",
    "            indices = torch.arange(len(target), device=target.device)\n",
    "            sames = indices[(target == target[i]) & (indices != i)]\n",
    "            \n",
    "            if len(sames) == 0:\n",
    "                skipped += 1\n",
    "                continue\n",
    "            \n",
    "            dists_pos = torch.cdist(embeddings[i].unsqueeze(0), embeddings[sames], p=2).squeeze()\n",
    "            k = max(1, int(len(sames) * 0.4))\n",
    "            _, most_far_pos = torch.topk(dists_pos, k=k, largest=True)\n",
    "            \n",
    "            most_far_pos = torch.atleast_1d(most_far_pos).tolist()\n",
    "            pos_candidates = sames[random.sample(most_far_pos, min(len(most_far_pos), count_pos))]\n",
    "                \n",
    "            for pos_idx in pos_candidates:\n",
    "                for neg_idx in neg_cand:\n",
    "                    cur_objects.append(embeddings[i])\n",
    "                    pos.append(embeddings[pos_idx])\n",
    "                    neg.append(embeddings[neg_idx])\n",
    "\n",
    "            \n",
    "        cur_objects = torch.stack(cur_objects)\n",
    "        pos = torch.stack(pos)\n",
    "        neg = torch.stack(neg)\n",
    "        \n",
    "        trip_loss = trip_loss_get(cur_objects, pos, neg)\n",
    "        loss = 0.6 * cls_loss + trip_loss\n",
    "        \n",
    "        opt.zero_grad()\n",
    "        loss.backward()\n",
    "        opt.step()\n",
    "        \n",
    "        total_loss += loss.item()\n",
    "        batches += 1\n",
    "    \n",
    "    print(trip_loss)  \n",
    "    print(skipped)\n",
    "    return total_loss / batches\n"
   ]
  },
  {
   "cell_type": "markdown",
   "metadata": {},
   "source": [
    "Train model with contrastive loss here. At this point you can archive EER near 0.06-0.07 (it should be at least on 0.005 to 0.01 better than before)"
   ]
  },
  {
   "cell_type": "code",
   "execution_count": null,
   "metadata": {},
   "outputs": [
    {
     "name": "stdout",
     "output_type": "stream",
     "text": [
      "Спикеров с < 60 сообщениями: 376\n"
     ]
    },
    {
     "data": {
      "image/png": "[encoded data removed]",
      "text/plain": [
       "<Figure size 640x480 with 1 Axes>"
      ]
     },
     "metadata": {},
     "output_type": "display_data"
    }
   ],
   "source": [
    "sampler = PositivePairsSampler(trainset._speakers, batch_size=175)\n",
    "sampler.plot_distribution()"
   ]
  },
  {
   "cell_type": "code",
   "execution_count": null,
   "metadata": {},
   "outputs": [],
   "source": [
    "from torch.optim import AdamW\n",
    "\n",
    "model = torch.load('model.pt', weights_only=False).to(DEVICE)\n",
    "opt = AdamW(model.parameters(), lr=1e-4, weight_decay=1e-5)\n",
    "scheduler = torch.optim.lr_scheduler.StepLR(opt, step_size=6, gamma=0.65)\n",
    "train(model, opt, \"ctf\", scheduler, batch_size=175, train_fun=contrastive_train_stage)\n",
    "\n",
    "# Epoch 13. Train loss 1.0387515952060749. Eval score 0.07519888874857937"
   ]
  },
  {
   "cell_type": "markdown",
   "metadata": {},
   "source": [
    "![alt text](output_2.png)"
   ]
  }
 ],
 "metadata": {
  "kernelspec": {
   "display_name": "3.11.5",
   "language": "python",
   "name": "python3"
  },
  "language_info": {
   "codemirror_mode": {
    "name": "ipython",
    "version": 3
   },
   "file_extension": ".py",
   "mimetype": "text/x-python",
   "name": "python",
   "nbconvert_exporter": "python",
   "pygments_lexer": "ipython3",
   "version": "3.11.5"
  }
 },
 "nbformat": 4,
 "nbformat_minor": 4
}
