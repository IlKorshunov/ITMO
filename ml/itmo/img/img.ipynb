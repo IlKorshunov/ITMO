{
 "cells": [
  {
   "cell_type": "code",
   "execution_count": 1,
   "id": "d42bd029",
   "metadata": {},
   "outputs": [],
   "source": [
    "import struct\n",
    "import numpy as np\n",
    "import matplotlib.pyplot as plt\n",
    "import torch\n",
    "import torch.nn as nn\n",
    "import torch.utils.data as data_utils\n",
    "import torch.optim as optim\n",
    "import torch.nn.functional as F\n",
    "from tqdm import tqdm\n",
    "import random\n",
    "\n",
    "fileFashionTrainName = './datasetFashion/train-images-idx3-ubyte'\n",
    "fileFashionTestName = './datasetFashion/t10k-images-idx3-ubyte'\n",
    "fileFashionTrainLabelName = './datasetFashion/train-labels-idx1-ubyte'\n",
    "fileFashionTestLabelName = './datasetFashion/t10k-labels-idx1-ubyte'\n",
    "\n",
    "fileMNISTTrainName = './datasetMNIST/train-images.idx3-ubyte'\n",
    "fileMNISTTestName = './datasetMNIST/t10k-images.idx3-ubyte'\n",
    "fileMNISTTrainLabelName = './datasetMNIST/train-labels.idx1-ubyte'\n",
    "fileMNISTTestLabelName = './datasetMNIST/t10k-labels.idx1-ubyte'\n",
    "\n",
    "firstVersion = 'firstHead.pth'\n",
    "secondHead = 'secondHead.pth'"
   ]
  },
  {
   "cell_type": "code",
   "execution_count": 2,
   "id": "127e76d5",
   "metadata": {},
   "outputs": [],
   "source": [
    "class Preprocessing:\n",
    "    def __init__(self, trainName, trainLabel, testName, testLabel, flag):\n",
    "        self.flag = flag\n",
    "        self.arrayTrainImg = torch.tensor(self._openImages(trainName, expected_magic=2051, expected_count=60000), dtype=torch.float32).unsqueeze(1)\n",
    "        self.arrayTestImg = torch.tensor(self._openImages(testName, expected_magic=2051, expected_count=10000), dtype=torch.float32).unsqueeze(1)\n",
    "        self.arrayTrainLabels = torch.tensor(self._openLabels(trainLabel, expected_magic=2049, expected_count=60000), dtype=torch.long)\n",
    "        self.arrayTestLabels = torch.tensor(self._openLabels(testLabel, expected_magic=2049, expected_count=10000), dtype=torch.long)\n",
    "\n",
    "        train_dataset = data_utils.TensorDataset(self.arrayTrainImg, self.arrayTrainLabels)\n",
    "        test_dataset = data_utils.TensorDataset(self.arrayTestImg, self.arrayTestLabels)\n",
    "        self.trainLoader = data_utils.DataLoader(train_dataset, batch_size=100, shuffle=True)\n",
    "        self.testLoader = data_utils.DataLoader(test_dataset, batch_size=1000)\n",
    "    \n",
    "    def _openImages(self, filename, expected_magic, expected_count):\n",
    "        images = []\n",
    "        with open(filename, 'rb') as f:\n",
    "            assert struct.unpack('>I', f.read(4))[0] == expected_magic\n",
    "            count = struct.unpack('>I', f.read(4))[0]\n",
    "            assert count == expected_count\n",
    "            num_rows = struct.unpack('>I', f.read(4))[0]\n",
    "            num_cols = struct.unpack('>I', f.read(4))[0]\n",
    "            for i in range(count): images.append(np.frombuffer(f.read(num_rows * num_cols), dtype=np.uint8).reshape((num_rows, num_cols)))\n",
    "        return np.array(images)\n",
    "    \n",
    "    def _openLabels(self, filename, expected_magic, expected_count):\n",
    "        labels = []\n",
    "        with open(filename, 'rb') as f:\n",
    "            assert struct.unpack('>I', f.read(4))[0] == expected_magic\n",
    "            count = struct.unpack('>I', f.read(4))[0]\n",
    "            assert count == expected_count\n",
    "            for i in range(count):\n",
    "                label = struct.unpack('>B', f.read(1))[0]\n",
    "                if self.flag == 1: label += 10\n",
    "                labels.append(label)\n",
    "        return np.array(labels)\n",
    "    \n",
    "    def showPictures(self):\n",
    "        unique_labels = np.unique(self.arrayTrainLabels.numpy())\n",
    "        _, axes = plt.subplots(nrows=1, ncols=len(unique_labels), figsize=(15, 3))\n",
    "        \n",
    "        for i, label in enumerate(unique_labels):\n",
    "            idx = -1\n",
    "            for j, curLabel in enumerate(self.arrayTrainLabels.numpy()):\n",
    "                if curLabel == label:\n",
    "                    idx = j\n",
    "                    break  \n",
    "            axes[i].imshow(self.arrayTrainImg[idx].squeeze(0), cmap='gray')\n",
    "            axes[i].set_title(f\"Label: {label}\")\n",
    "            axes[i].axis(\"off\")\n",
    "        plt.show()\n",
    "        \n",
    "    def returnLoaders(self):\n",
    "        return self.trainLoader, self.testLoader\n"
   ]
  },
  {
   "cell_type": "code",
   "execution_count": 3,
   "id": "ec927d39",
   "metadata": {},
   "outputs": [
    {
     "data": {
      "image/png": "[encoded data removed]",
      "text/plain": [
       "<Figure size 1500x300 with 10 Axes>"
      ]
     },
     "metadata": {},
     "output_type": "display_data"
    }
   ],
   "source": [
    "dataFashion = Preprocessing(fileFashionTrainName, fileFashionTrainLabelName, fileFashionTestName, fileFashionTestLabelName, 0)\n",
    "dataMnist = Preprocessing(fileMNISTTrainName, fileMNISTTrainLabelName, fileMNISTTestName, fileMNISTTestLabelName, 1)\n",
    "trainFashionLoader, testFashionLoader = dataFashion.returnLoaders()\n",
    "trainMNISTLoader, testMNISTLoader = dataMnist.returnLoaders()\n",
    "dataMnist.showPictures()\n",
    "\n",
    "combined_train_dataset = data_utils.ConcatDataset([dataFashion.trainLoader.dataset, dataMnist.trainLoader.dataset])\n",
    "combined_test_dataset  = data_utils.ConcatDataset([dataFashion.testLoader.dataset, dataMnist.testLoader.dataset])\n",
    "combined_train_loader = data_utils.DataLoader(combined_train_dataset, batch_size=100, shuffle=True)\n",
    "combined_test_loader  = data_utils.DataLoader(combined_test_dataset, batch_size=1000, shuffle=False)"
   ]
  },
  {
   "cell_type": "code",
   "execution_count": null,
   "id": "31c4880f",
   "metadata": {},
   "outputs": [],
   "source": [
    "class myCNV(nn.Module):\n",
    "    def __init__(self, trainFashionLoader, testFashionLoader, trainMNISTLoader, testMNISTLoader, combined_train_loader, combined_test_loader, numEpoch, lr):\n",
    "        super(myCNV, self).__init__()\n",
    "        self.trainFashionLoader = trainFashionLoader\n",
    "        self.testFashionLoader = testFashionLoader\n",
    "        \n",
    "        self.trainMNISTLoader = trainMNISTLoader\n",
    "        self.testMNISTLoader = testMNISTLoader\n",
    "        \n",
    "        self.trainCombinedLoader = combined_train_loader\n",
    "        self.testCombinedLoader = combined_test_loader\n",
    "        \n",
    "        self.trainLoader = None\n",
    "        self.testLoader = None\n",
    "        \n",
    "        self.headMode = None\n",
    "        \n",
    "        self.numEpoch = numEpoch\n",
    "        self.lr = lr\n",
    "        self.loss = nn.CrossEntropyLoss() # TODO \n",
    "        self.dropout1 = nn.Dropout(0.15)\n",
    "        self.dropout2 = nn.Dropout(0.2)\n",
    "        self.dropout3 = nn.Dropout(0.3)\n",
    "        self.conv1 = nn.Conv2d(in_channels=1, out_channels=32, kernel_size=3, padding=1, stride=3)  # outSize = 10\n",
    "        self.conv2 = nn.Conv2d(in_channels=32, out_channels=64, kernel_size=3, padding=1, stride=3)  # outSize = 4\n",
    "        self.conv3 = nn.Conv2d(in_channels=64, out_channels=512, kernel_size=3, padding=1, stride=3) # outSize = 2\n",
    "        self.conv4 = nn.Conv2d(in_channels=512, out_channels=1024, kernel_size=2)\n",
    "        \n",
    "        self.headerFashion = nn.Linear(1024, 10)\n",
    "        self.headerMNIST = nn.Linear(1024, 10)\n",
    "        self.headerMix  = None\n",
    "        \n",
    "        self.layers = [self.conv1, self.conv2, self.conv3, self.conv4, self.headerFashion]\n",
    "\n",
    "        self.optimizer = optim.Adam([\n",
    "            {\"params\": self.conv1.parameters()},\n",
    "            {\"params\": self.conv2.parameters()},\n",
    "            {\"params\": self.conv3.parameters()},\n",
    "            {\"params\": self.conv4.parameters()},\n",
    "            {\"params\": self.headerFashion.parameters()},\n",
    "            {\"params\": self.headerMNIST.parameters()}\n",
    "        ], lr=self.lr)\n",
    "\n",
    "        self.trainHistory = []\n",
    "        self.testHistory = []\n",
    "        \n",
    "    def changeFlagLoader(self, head_mode):\n",
    "        self.headMode = head_mode\n",
    "        match head_mode:\n",
    "            case 'fashion':\n",
    "                self.trainLoader = self.trainFashionLoader\n",
    "                self.testLoader = self.testFashionLoader\n",
    "            case 'mnist': \n",
    "                self.trainLoader = self.trainMNISTLoader\n",
    "                self.testLoader = self.testMNISTLoader\n",
    "            case 'mix':\n",
    "                self.trainLoader = self.trainCombinedLoader\n",
    "                self.testLoader = self.testCombinedLoader\n",
    "\n",
    "                \n",
    "    def forward(self, x, head_mode=None):\n",
    "        layers = nn.Sequential(\n",
    "            self.conv1,\n",
    "            self.dropout1,\n",
    "            self.conv2,\n",
    "            self.dropout2,\n",
    "            self.conv3,\n",
    "            self.dropout3,\n",
    "            self.conv4\n",
    "        )\n",
    "        x = layers(x)\n",
    "        x = x.view(x.size(0), -1)\n",
    "        if head_mode == 'fashion':\n",
    "            x = self.headerFashion(x)\n",
    "        elif head_mode == 'mnist':\n",
    "            x = self.headerMNIST(x)\n",
    "        elif head_mode == 'mix' and self.headerMix is not None:\n",
    "            x = self.headerMix(x)\n",
    "        return x\n",
    "\n",
    "    \n",
    "    def myTrain(self, head_mode):\n",
    "        self.trainHistory = []\n",
    "        self.testHistory = []\n",
    "        self.train()  \n",
    "        for epoch in range(self.numEpoch):\n",
    "            epochLoss = 0.0\n",
    "            pbar = tqdm(self.trainLoader, desc=f\"Epoch {epoch+1}/{self.numEpoch}\", leave=False)\n",
    "            for images, correctLabels in pbar:\n",
    "                self.optimizer.zero_grad()\n",
    "                logits = self.forward(images, head_mode)  \n",
    "                if self.headMode == 'mnist' : correctLabels -= 10\n",
    "                lossVal = self.loss(logits, correctLabels)\n",
    "                lossVal.backward()\n",
    "                self.optimizer.step()\n",
    "                \n",
    "                epochLoss += lossVal.item()\n",
    "                pbar.set_postfix(loss=f\"{lossVal.item():.4f}\")\n",
    "            \n",
    "            trainLoss = epochLoss / len(self.trainLoader)\n",
    "            self.trainHistory.append(trainLoss)\n",
    "            \n",
    "            self.eval()\n",
    "            epoch_test_loss = 0.0\n",
    "            with torch.no_grad():\n",
    "                for images, correctLabels in self.testLoader:\n",
    "                    logits = self.forward(images, head_mode)\n",
    "                    if self.headMode == 'mnist' : correctLabels -= 10\n",
    "                    lossVal = self.loss(logits, correctLabels)\n",
    "                    epoch_test_loss += lossVal.item()\n",
    "            testLoss = epoch_test_loss / len(self.testLoader)\n",
    "            self.testHistory.append(testLoss)\n",
    "        \n",
    "            print(f\"Epoch {epoch+1} - Train Loss: {trainLoss:.4f}, Test Loss: {testLoss:.4f}\")\n",
    "    \n",
    "    def createCombinedHead(self):\n",
    "        self.headerMix = nn.Linear(1024, 20)\n",
    "        \n",
    "        with torch.no_grad():\n",
    "            self.headerMix.weight.data[:10] = self.headerFashion.weight.data.clone()\n",
    "            self.headerMix.bias.data[:10] = self.headerFashion.bias.data.clone()\n",
    "            self.headerMix.weight.data[10:] = self.headerMNIST.weight.data.clone()\n",
    "            self.headerMix.bias.data[10:] = self.headerMNIST.bias.data.clone()\n",
    "\n",
    "    def plotGraphics(self):\n",
    "        epochs = range(1, self.numEpoch + 1)\n",
    "        plt.figure(figsize=(8, 6))\n",
    "        plt.plot(epochs, self.trainHistory, label=\"Train Loss\", marker=\"o\")\n",
    "        plt.plot(epochs, self.testHistory, label=\"Test Loss\", marker=\"o\")\n",
    "        plt.xlabel(\"Epoch\")\n",
    "        plt.ylabel(\"Loss\")\n",
    "        plt.legend()\n",
    "        plt.grid(True)\n",
    "        plt.show()\n",
    "        \n",
    "    def freezeParams(self):\n",
    "        for curLay in self.layers:\n",
    "            for param in curLay.parameters():\n",
    "                param.requires_grad = False\n",
    "                \n",
    "            \n",
    "    def unfreezeParams(self):\n",
    "        for curLay in self.layers:\n",
    "            for param in curLay.parameters():\n",
    "                param.requires_grad = True\n",
    "                        \n",
    "    def saveParams(self, file2save):\n",
    "        checkpoint = {\n",
    "            'model_state_dict': self.state_dict(),\n",
    "            'optimizer_state_dict': self.optimizer.state_dict()\n",
    "        }\n",
    "        torch.save(checkpoint, file2save)\n",
    "\n",
    "    def loadParams(self, file2load):\n",
    "        checkpoint = torch.load(file2load)\n",
    "        self.load_state_dict(checkpoint['model_state_dict'])\n",
    "        self.optimizer.load_state_dict(checkpoint['optimizer_state_dict'])\n",
    "        \n",
    "    def findMostSimiliar(self, firstLabel, secondLabel):\n",
    "        self.eval()\n",
    "        bestImg = None\n",
    "        bestProb = -1.0\n",
    "        \n",
    "        with torch.no_grad():\n",
    "            for images, labels in self.testLoader:\n",
    "                if self.headMode == 'mnist': labels = labels - 10\n",
    "                probs = F.softmax(self.forward(images, self.headMode), dim=1)        \n",
    "                for i in range(len(labels)):\n",
    "                    if labels[i].item() == firstLabel:\n",
    "                        curr_prob = probs[i, secondLabel].item()\n",
    "                        if curr_prob > bestProb:\n",
    "                            bestProb = curr_prob\n",
    "                            bestImg = images[i].detach().cpu()                 \n",
    "        return bestImg, bestProb\n",
    "\n",
    "    def findRandomImage(self, targetLabel):\n",
    "        self.eval()\n",
    "        with torch.no_grad():\n",
    "            matching_images = []\n",
    "            matching_labels = []\n",
    "            \n",
    "            for images, labels in self.testLoader:\n",
    "                if self.headMode == 'mnist': \n",
    "                    labels = labels - 10  \n",
    "                for i in range(len(labels)):\n",
    "                    if labels[i].item() == targetLabel:\n",
    "                        matching_images.append(images[i])\n",
    "                        # matching_labels.append(labels[i])\n",
    "            \n",
    "            rand_index = random.randint(0, len(matching_images) - 1)\n",
    "            return matching_images[rand_index]\n",
    "\n",
    "    \n",
    "    def plotImage(self, image):\n",
    "        plt.figure()\n",
    "        image = image.squeeze()\n",
    "        plt.imshow(image, cmap='gray')\n",
    "        plt.axis('off')\n",
    "        plt.show()"
   ]
  },
  {
   "cell_type": "code",
   "execution_count": 5,
   "id": "be692cc0",
   "metadata": {},
   "outputs": [
    {
     "name": "stderr",
     "output_type": "stream",
     "text": [
      "                                                                         \r"
     ]
    },
    {
     "name": "stdout",
     "output_type": "stream",
     "text": [
      "Epoch 1 - Train Loss: 1.5123, Test Loss: 0.5823\n"
     ]
    },
    {
     "name": "stderr",
     "output_type": "stream",
     "text": [
      "                                                                         \r"
     ]
    },
    {
     "name": "stdout",
     "output_type": "stream",
     "text": [
      "Epoch 2 - Train Loss: 0.5182, Test Loss: 0.5477\n"
     ]
    },
    {
     "name": "stderr",
     "output_type": "stream",
     "text": [
      "                                                                         \r"
     ]
    },
    {
     "name": "stdout",
     "output_type": "stream",
     "text": [
      "Epoch 3 - Train Loss: 0.5138, Test Loss: 0.5621\n"
     ]
    },
    {
     "name": "stderr",
     "output_type": "stream",
     "text": [
      "                                                                         \r"
     ]
    },
    {
     "name": "stdout",
     "output_type": "stream",
     "text": [
      "Epoch 4 - Train Loss: 0.5270, Test Loss: 0.5541\n"
     ]
    },
    {
     "name": "stderr",
     "output_type": "stream",
     "text": [
      "                                                                         \r"
     ]
    },
    {
     "name": "stdout",
     "output_type": "stream",
     "text": [
      "Epoch 5 - Train Loss: 0.5225, Test Loss: 0.5545\n"
     ]
    },
    {
     "data": {
      "image/png": "[encoded data removed]",
      "text/plain": [
       "<Figure size 800x600 with 1 Axes>"
      ]
     },
     "metadata": {},
     "output_type": "display_data"
    }
   ],
   "source": [
    "numEpoch = 5\n",
    "lr = 0.001\n",
    "\n",
    "model = myCNV(trainFashionLoader, testFashionLoader, trainMNISTLoader, testMNISTLoader, combined_train_loader, combined_test_loader, numEpoch, lr)\n",
    "model.changeFlagLoader('fashion')\n",
    "model.myTrain('fashion')\n",
    "model.plotGraphics()\n",
    "model.saveParams(firstVersion)"
   ]
  },
  {
   "cell_type": "code",
   "execution_count": 6,
   "id": "30fa0f4a",
   "metadata": {},
   "outputs": [
    {
     "name": "stderr",
     "output_type": "stream",
     "text": [
      "                                                                         \r"
     ]
    },
    {
     "name": "stdout",
     "output_type": "stream",
     "text": [
      "Epoch 1 - Train Loss: 0.8601, Test Loss: 0.4794\n"
     ]
    },
    {
     "name": "stderr",
     "output_type": "stream",
     "text": [
      "                                                                         \r"
     ]
    },
    {
     "name": "stdout",
     "output_type": "stream",
     "text": [
      "Epoch 2 - Train Loss: 0.4384, Test Loss: 0.3853\n"
     ]
    },
    {
     "name": "stderr",
     "output_type": "stream",
     "text": [
      "                                                                         \r"
     ]
    },
    {
     "name": "stdout",
     "output_type": "stream",
     "text": [
      "Epoch 3 - Train Loss: 0.3947, Test Loss: 0.3578\n"
     ]
    },
    {
     "name": "stderr",
     "output_type": "stream",
     "text": [
      "                                                                         \r"
     ]
    },
    {
     "name": "stdout",
     "output_type": "stream",
     "text": [
      "Epoch 4 - Train Loss: 0.3754, Test Loss: 0.3577\n"
     ]
    },
    {
     "name": "stderr",
     "output_type": "stream",
     "text": [
      "                                                                         \r"
     ]
    },
    {
     "name": "stdout",
     "output_type": "stream",
     "text": [
      "Epoch 5 - Train Loss: 0.3647, Test Loss: 0.3428\n"
     ]
    },
    {
     "data": {
      "image/png": "[encoded data removed]",
      "text/plain": [
       "<Figure size 800x600 with 1 Axes>"
      ]
     },
     "metadata": {},
     "output_type": "display_data"
    }
   ],
   "source": [
    "model.changeFlagLoader('mnist')\n",
    "model.freezeParams()\n",
    "model.myTrain('mnist')\n",
    "model.plotGraphics()"
   ]
  },
  {
   "cell_type": "code",
   "execution_count": 7,
   "id": "71dd53f3",
   "metadata": {},
   "outputs": [
    {
     "name": "stderr",
     "output_type": "stream",
     "text": [
      "Epoch 1/5:   0%|          | 0/600 [00:00<?, ?it/s]"
     ]
    },
    {
     "name": "stderr",
     "output_type": "stream",
     "text": [
      "                                                                         \r"
     ]
    },
    {
     "name": "stdout",
     "output_type": "stream",
     "text": [
      "Epoch 1 - Train Loss: 5.7162, Test Loss: 0.3999\n"
     ]
    },
    {
     "name": "stderr",
     "output_type": "stream",
     "text": [
      "                                                                         \r"
     ]
    },
    {
     "name": "stdout",
     "output_type": "stream",
     "text": [
      "Epoch 2 - Train Loss: 0.3676, Test Loss: 0.3427\n"
     ]
    },
    {
     "name": "stderr",
     "output_type": "stream",
     "text": [
      "                                                                         \r"
     ]
    },
    {
     "ename": "KeyboardInterrupt",
     "evalue": "",
     "output_type": "error",
     "traceback": [
      "\u001b[0;31m---------------------------------------------------------------------------\u001b[0m",
      "\u001b[0;31mKeyboardInterrupt\u001b[0m                         Traceback (most recent call last)",
      "Cell \u001b[0;32mIn[7], line 2\u001b[0m\n\u001b[1;32m      1\u001b[0m model\u001b[38;5;241m.\u001b[39munfreezeParams()\n\u001b[0;32m----> 2\u001b[0m \u001b[43mmodel\u001b[49m\u001b[38;5;241;43m.\u001b[39;49m\u001b[43mmyTrain\u001b[49m\u001b[43m(\u001b[49m\u001b[38;5;124;43m'\u001b[39;49m\u001b[38;5;124;43mmnist\u001b[39;49m\u001b[38;5;124;43m'\u001b[39;49m\u001b[43m)\u001b[49m\n\u001b[1;32m      3\u001b[0m model\u001b[38;5;241m.\u001b[39mplotGraphics()\n",
      "Cell \u001b[0;32mIn[4], line 94\u001b[0m, in \u001b[0;36mmyCNV.myTrain\u001b[0;34m(self, head_mode)\u001b[0m\n\u001b[1;32m     92\u001b[0m \u001b[38;5;28;01mif\u001b[39;00m \u001b[38;5;28mself\u001b[39m\u001b[38;5;241m.\u001b[39mheadMode \u001b[38;5;241m==\u001b[39m \u001b[38;5;124m'\u001b[39m\u001b[38;5;124mmnist\u001b[39m\u001b[38;5;124m'\u001b[39m : correctLabels \u001b[38;5;241m-\u001b[39m\u001b[38;5;241m=\u001b[39m \u001b[38;5;241m10\u001b[39m\n\u001b[1;32m     93\u001b[0m lossVal \u001b[38;5;241m=\u001b[39m \u001b[38;5;28mself\u001b[39m\u001b[38;5;241m.\u001b[39mloss(logits, correctLabels)\n\u001b[0;32m---> 94\u001b[0m \u001b[43mlossVal\u001b[49m\u001b[38;5;241;43m.\u001b[39;49m\u001b[43mbackward\u001b[49m\u001b[43m(\u001b[49m\u001b[43m)\u001b[49m\n\u001b[1;32m     95\u001b[0m \u001b[38;5;28mself\u001b[39m\u001b[38;5;241m.\u001b[39moptimizer\u001b[38;5;241m.\u001b[39mstep()\n\u001b[1;32m     97\u001b[0m epochLoss \u001b[38;5;241m+\u001b[39m\u001b[38;5;241m=\u001b[39m lossVal\u001b[38;5;241m.\u001b[39mitem()\n",
      "File \u001b[0;32m~/.pyenv/versions/3.11.5/lib/python3.11/site-packages/torch/_tensor.py:648\u001b[0m, in \u001b[0;36mTensor.backward\u001b[0;34m(self, gradient, retain_graph, create_graph, inputs)\u001b[0m\n\u001b[1;32m    638\u001b[0m \u001b[38;5;28;01mif\u001b[39;00m has_torch_function_unary(\u001b[38;5;28mself\u001b[39m):\n\u001b[1;32m    639\u001b[0m     \u001b[38;5;28;01mreturn\u001b[39;00m handle_torch_function(\n\u001b[1;32m    640\u001b[0m         Tensor\u001b[38;5;241m.\u001b[39mbackward,\n\u001b[1;32m    641\u001b[0m         (\u001b[38;5;28mself\u001b[39m,),\n\u001b[0;32m   (...)\u001b[0m\n\u001b[1;32m    646\u001b[0m         inputs\u001b[38;5;241m=\u001b[39minputs,\n\u001b[1;32m    647\u001b[0m     )\n\u001b[0;32m--> 648\u001b[0m \u001b[43mtorch\u001b[49m\u001b[38;5;241;43m.\u001b[39;49m\u001b[43mautograd\u001b[49m\u001b[38;5;241;43m.\u001b[39;49m\u001b[43mbackward\u001b[49m\u001b[43m(\u001b[49m\n\u001b[1;32m    649\u001b[0m \u001b[43m    \u001b[49m\u001b[38;5;28;43mself\u001b[39;49m\u001b[43m,\u001b[49m\u001b[43m \u001b[49m\u001b[43mgradient\u001b[49m\u001b[43m,\u001b[49m\u001b[43m \u001b[49m\u001b[43mretain_graph\u001b[49m\u001b[43m,\u001b[49m\u001b[43m \u001b[49m\u001b[43mcreate_graph\u001b[49m\u001b[43m,\u001b[49m\u001b[43m \u001b[49m\u001b[43minputs\u001b[49m\u001b[38;5;241;43m=\u001b[39;49m\u001b[43minputs\u001b[49m\n\u001b[1;32m    650\u001b[0m \u001b[43m\u001b[49m\u001b[43m)\u001b[49m\n",
      "File \u001b[0;32m~/.pyenv/versions/3.11.5/lib/python3.11/site-packages/torch/autograd/__init__.py:353\u001b[0m, in \u001b[0;36mbackward\u001b[0;34m(tensors, grad_tensors, retain_graph, create_graph, grad_variables, inputs)\u001b[0m\n\u001b[1;32m    348\u001b[0m     retain_graph \u001b[38;5;241m=\u001b[39m create_graph\n\u001b[1;32m    350\u001b[0m \u001b[38;5;66;03m# The reason we repeat the same comment below is that\u001b[39;00m\n\u001b[1;32m    351\u001b[0m \u001b[38;5;66;03m# some Python versions print out the first line of a multi-line function\u001b[39;00m\n\u001b[1;32m    352\u001b[0m \u001b[38;5;66;03m# calls in the traceback and some print out the last line\u001b[39;00m\n\u001b[0;32m--> 353\u001b[0m \u001b[43m_engine_run_backward\u001b[49m\u001b[43m(\u001b[49m\n\u001b[1;32m    354\u001b[0m \u001b[43m    \u001b[49m\u001b[43mtensors\u001b[49m\u001b[43m,\u001b[49m\n\u001b[1;32m    355\u001b[0m \u001b[43m    \u001b[49m\u001b[43mgrad_tensors_\u001b[49m\u001b[43m,\u001b[49m\n\u001b[1;32m    356\u001b[0m \u001b[43m    \u001b[49m\u001b[43mretain_graph\u001b[49m\u001b[43m,\u001b[49m\n\u001b[1;32m    357\u001b[0m \u001b[43m    \u001b[49m\u001b[43mcreate_graph\u001b[49m\u001b[43m,\u001b[49m\n\u001b[1;32m    358\u001b[0m \u001b[43m    \u001b[49m\u001b[43minputs\u001b[49m\u001b[43m,\u001b[49m\n\u001b[1;32m    359\u001b[0m \u001b[43m    \u001b[49m\u001b[43mallow_unreachable\u001b[49m\u001b[38;5;241;43m=\u001b[39;49m\u001b[38;5;28;43;01mTrue\u001b[39;49;00m\u001b[43m,\u001b[49m\n\u001b[1;32m    360\u001b[0m \u001b[43m    \u001b[49m\u001b[43maccumulate_grad\u001b[49m\u001b[38;5;241;43m=\u001b[39;49m\u001b[38;5;28;43;01mTrue\u001b[39;49;00m\u001b[43m,\u001b[49m\n\u001b[1;32m    361\u001b[0m \u001b[43m\u001b[49m\u001b[43m)\u001b[49m\n",
      "File \u001b[0;32m~/.pyenv/versions/3.11.5/lib/python3.11/site-packages/torch/autograd/graph.py:824\u001b[0m, in \u001b[0;36m_engine_run_backward\u001b[0;34m(t_outputs, *args, **kwargs)\u001b[0m\n\u001b[1;32m    822\u001b[0m     unregister_hooks \u001b[38;5;241m=\u001b[39m _register_logging_hooks_on_whole_graph(t_outputs)\n\u001b[1;32m    823\u001b[0m \u001b[38;5;28;01mtry\u001b[39;00m:\n\u001b[0;32m--> 824\u001b[0m     \u001b[38;5;28;01mreturn\u001b[39;00m \u001b[43mVariable\u001b[49m\u001b[38;5;241;43m.\u001b[39;49m\u001b[43m_execution_engine\u001b[49m\u001b[38;5;241;43m.\u001b[39;49m\u001b[43mrun_backward\u001b[49m\u001b[43m(\u001b[49m\u001b[43m  \u001b[49m\u001b[38;5;66;43;03m# Calls into the C++ engine to run the backward pass\u001b[39;49;00m\n\u001b[1;32m    825\u001b[0m \u001b[43m        \u001b[49m\u001b[43mt_outputs\u001b[49m\u001b[43m,\u001b[49m\u001b[43m \u001b[49m\u001b[38;5;241;43m*\u001b[39;49m\u001b[43margs\u001b[49m\u001b[43m,\u001b[49m\u001b[43m \u001b[49m\u001b[38;5;241;43m*\u001b[39;49m\u001b[38;5;241;43m*\u001b[39;49m\u001b[43mkwargs\u001b[49m\n\u001b[1;32m    826\u001b[0m \u001b[43m    \u001b[49m\u001b[43m)\u001b[49m  \u001b[38;5;66;03m# Calls into the C++ engine to run the backward pass\u001b[39;00m\n\u001b[1;32m    827\u001b[0m \u001b[38;5;28;01mfinally\u001b[39;00m:\n\u001b[1;32m    828\u001b[0m     \u001b[38;5;28;01mif\u001b[39;00m attach_logging_hooks:\n",
      "\u001b[0;31mKeyboardInterrupt\u001b[0m: "
     ]
    }
   ],
   "source": [
    "model.unfreezeParams()\n",
    "model.myTrain('mnist')\n",
    "model.plotGraphics()"
   ]
  },
  {
   "cell_type": "code",
   "execution_count": null,
   "id": "1484df64",
   "metadata": {},
   "outputs": [
    {
     "name": "stderr",
     "output_type": "stream",
     "text": [
      "Epoch 1/5:   2%|▏         | 10/600 [00:03<03:54,  2.52it/s, loss=3.4524]"
     ]
    }
   ],
   "source": [
    "model.loadParams('firstHead.pth')\n",
    "model.changeFlagLoader('mnist')\n",
    "model.unfreezeParams()\n",
    "model.myTrain('mnist')\n",
    "model.plotGraphics()"
   ]
  },
  {
   "cell_type": "code",
   "execution_count": null,
   "id": "329187e2",
   "metadata": {},
   "outputs": [
    {
     "name": "stdout",
     "output_type": "stream",
     "text": [
      "bestProb : 0.1555\n"
     ]
    },
    {
     "data": {
      "image/png": "[encoded data removed]",
      "text/plain": [
       "<Figure size 640x480 with 1 Axes>"
      ]
     },
     "metadata": {},
     "output_type": "display_data"
    },
    {
     "data": {
      "image/png": "[encoded data removed]",
      "text/plain": [
       "<Figure size 640x480 with 1 Axes>"
      ]
     },
     "metadata": {},
     "output_type": "display_data"
    }
   ],
   "source": [
    "model.changeFlagLoader('fashion')\n",
    "firstLabel, secondLabel = 3, 9\n",
    "bestImg, bestProb = model.findMostSimiliar(firstLabel, secondLabel)\n",
    "anyImg = model.findRandomImage(firstLabel)\n",
    " \n",
    "print(f'bestProb : {bestProb:.4f}')\n",
    "model.plotImage(anyImg)\n",
    "model.plotImage(bestImg)"
   ]
  },
  {
   "cell_type": "code",
   "execution_count": null,
   "id": "ab6c794c",
   "metadata": {},
   "outputs": [
    {
     "name": "stderr",
     "output_type": "stream",
     "text": [
      "Epoch 1/5:  42%|████▏     | 166/400 [04:33<08:25,  2.16s/it, loss=2.6026]"
     ]
    },
    {
     "ename": "",
     "evalue": "",
     "output_type": "error",
     "traceback": [
      "\u001b[1;31mThe Kernel crashed while executing code in the current cell or a previous cell. \n",
      "\u001b[1;31mPlease review the code in the cell(s) to identify a possible cause of the failure. \n",
      "\u001b[1;31mClick <a href='https://aka.ms/vscodeJupyterKernelCrash'>here</a> for more info. \n",
      "\u001b[1;31mView Jupyter <a href='command:jupyter.viewOutput'>log</a> for further details."
     ]
    }
   ],
   "source": [
    "model.changeFlagLoader('mix')\n",
    "model.myTrain('mix')\n",
    "model.plotGraphics()"
   ]
  },
  {
   "cell_type": "code",
   "execution_count": null,
   "id": "ef057d93",
   "metadata": {},
   "outputs": [],
   "source": [
    "model.changeFlagLoader('mix')\n",
    "firstLabel, secondLabel = 3, 9\n",
    "bestImg, bestProb = model.findMostSimiliar(firstLabel, secondLabel)\n",
    "anyImg = model.findRandomImage(firstLabel)\n",
    " \n",
    "print(f'bestProb : {bestProb:.4f}')\n",
    "model.plotImage(anyImg)\n",
    "model.plotImage(bestImg)"
   ]
  },
  {
   "cell_type": "code",
   "execution_count": null,
   "id": "786a55f8",
   "metadata": {},
   "outputs": [],
   "source": [
    "model.changeFlagLoader('mix')\n",
    "firstLabel, secondLabel = 11, 15\n",
    "bestImg, bestProb = model.findMostSimiliar(firstLabel, secondLabel)\n",
    "anyImg = model.findRandomImage(firstLabel)\n",
    " \n",
    "print(f'bestProb : {bestProb:.4f}')\n",
    "model.plotImage(anyImg)\n",
    "model.plotImage(bestImg)"
   ]
  }
 ],
 "metadata": {
  "kernelspec": {
   "display_name": "3.11.5",
   "language": "python",
   "name": "python3"
  },
  "language_info": {
   "codemirror_mode": {
    "name": "ipython",
    "version": 3
   },
   "file_extension": ".py",
   "mimetype": "text/x-python",
   "name": "python",
   "nbconvert_exporter": "python",
   "pygments_lexer": "ipython3",
   "version": "3.11.5"
  }
 },
 "nbformat": 4,
 "nbformat_minor": 5
}
