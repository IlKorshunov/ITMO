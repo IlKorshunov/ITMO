{
 "cells": [
  {
   "cell_type": "code",
   "execution_count": 1,
   "id": "aaac1799",
   "metadata": {},
   "outputs": [],
   "source": [
    "import struct\n",
    "import numpy as np\n",
    "import matplotlib.pyplot as plt\n",
    "import torch\n",
    "import torch.nn as nn\n",
    "import torch.utils.data as data_utils\n",
    "import torch.optim as optim\n",
    "import torch.nn.functional as F\n",
    "from tqdm import tqdm\n",
    "import random\n",
    "from torch.utils.data import DataLoader, ConcatDataset\n",
    "from typing import Tuple, List\n",
    "\n",
    "fileFashionTrainName = './datasetFashion/train-images-idx3-ubyte'\n",
    "fileFashionTestName = './datasetFashion/t10k-imaGenaenaes-idx3-ubyte'\n",
    "fileFashionTrainLabelName = './datasetFashion/train-labels-idx1-ubyte'\n",
    "fileFashionTestLabelName = './datasetFashion/t10k-labels-idx1-ubyte'\n",
    "\n",
    "fileMNISTTrainName = './datasetMNIST/train-images.idx3-ubyte'\n",
    "fileMNISTTestName = './datasetMNIST/t10k-images.idx3-ubyte'\n",
    "fileMNISTTrainLabelName = './datasetMNIST/train-labels.idx1-ubyte'\n",
    "fileMNISTTestLabelName = './datasetMNIST/t10k-labels.idx1-ubyte'\n",
    "\n",
    "firstVersion = 'firstHead.pth'\n",
    "secondHead = 'secondHead.pth'"
   ]
  },
  {
   "cell_type": "code",
   "execution_count": 2,
   "id": "e58bf861",
   "metadata": {},
   "outputs": [],
   "source": [
    "class Preprocessing:\n",
    "\n",
    "    def __init__(self, trainName, trainLabel, testName, testLabel, flag):\n",
    "        self.flag = flag\n",
    "        self.arrayTrainImg = torch.tensor(self._openImages(trainName, expected_magic=2051, expected_count=60000), dtype=torch.float32).unsqueeze(1) / 255\n",
    "        self.arrayTestImg = torch.tensor(self._openImages(testName, expected_magic=2051, expected_count=10000), dtype=torch.float32).unsqueeze(1) / 255\n",
    "        self.arrayTrainLabels = torch.tensor(self._openLabels(trainLabel, expected_magic=2049, expected_count=60000), dtype=torch.long)\n",
    "        self.arrayTestLabels = torch.tensor(self._openLabels(testLabel, expected_magic=2049, expected_count=10000), dtype=torch.long)\n",
    "\n",
    "        train_dataset = data_utils.TensorDataset(self.arrayTrainImg, self.arrayTrainLabels)\n",
    "        test_dataset = data_utils.TensorDataset(self.arrayTestImg, self.arrayTestLabels)\n",
    "        self.trainLoader = DataLoader(train_dataset, batch_size=1000, shuffle=True)\n",
    "        self.testLoader = DataLoader(test_dataset, batch_size=1000)\n",
    "\n",
    "    def _openImages(self, filename, expected_magic, expected_count):\n",
    "        images = []\n",
    "        with open(filename, 'rb') as f:\n",
    "            assert struct.unpack('>I', f.read(4))[0] == expected_magic\n",
    "            count = struct.unpack('>I', f.read(4))[0]\n",
    "            assert count == expected_count\n",
    "            num_rows = struct.unpack('>I', f.read(4))[0]\n",
    "            num_cols = struct.unpack('>I', f.read(4))[0]\n",
    "            for i in range(count):\n",
    "                images.append(np.frombuffer(f.read(num_rows * num_cols), dtype=np.uint8).reshape((num_rows, num_cols)))\n",
    "        return np.array(images)\n",
    "\n",
    "    def _openLabels(self, filename, expected_magic, expected_count):\n",
    "        labels = []\n",
    "        with open(filename, 'rb') as f:\n",
    "            assert struct.unpack('>I', f.read(4))[0] == expected_magic\n",
    "            count = struct.unpack('>I', f.read(4))[0]\n",
    "            assert count == expected_count\n",
    "            for i in range(count):\n",
    "                label = struct.unpack('>B', f.read(1))[0]\n",
    "                if self.flag == 1:\n",
    "                    label += 10\n",
    "                labels.append(label)\n",
    "        return np.array(labels)\n",
    "\n",
    "    def showPictures(self):\n",
    "        unique_labels = np.unique(self.arrayTrainLabels.numpy())\n",
    "        _, axes = plt.subplots(nrows=1, ncols=len(unique_labels), figsize=(15, 3))\n",
    "\n",
    "        for i, label in enumerate(unique_labels):\n",
    "            idx = -1\n",
    "            for j, curLabel in enumerate(self.arrayTrainLabels.numpy()):\n",
    "                if curLabel == label:\n",
    "                    idx = j\n",
    "                    break\n",
    "            axes[i].imshow(self.arrayTrainImg[idx].squeeze(0), cmap='gray')\n",
    "            axes[i].set_title(f\"Label: {label}\")\n",
    "            axes[i].axis(\"off\")\n",
    "\n",
    "        plt.show()\n",
    "\n",
    "    def returnLoaders(self):\n",
    "        return self.trainLoader, self.testLoader"
   ]
  },
  {
   "cell_type": "code",
   "execution_count": null,
   "id": "f5ec78d3",
   "metadata": {},
   "outputs": [
    {
     "data": {
      "image/png": "[encoded data removed]",
      "text/plain": [
       "<Figure size 1500x300 with 10 Axes>"
      ]
     },
     "metadata": {},
     "output_type": "display_data"
    }
   ],
   "source": [
    "# dataFashion = Preprocessing(fileFashionTrainName, fileFashionTrainLabelName, fileFashionTestName, fileFashionTestLabelName, 0)\n",
    "dataMnist = Preprocessing(fileMNISTTrainName, fileMNISTTrainLabelName, fileMNISTTestName, fileMNISTTestLabelName, 1)\n",
    "# trainFashionLoader, testFashionLoader = dataFashion.returnLoaders()\n",
    "trainMNISTLoader, testMNISTLoader = dataMnist.returnLoaders()\n",
    "dataMnist.showPictures()\n",
    "\n",
    "# combineDiscTrain_ds = ConcatDataset([dataFashion.trainLoader.dataset, dataMnist.trainLoader.dataset])\n",
    "# combineDiscTest_ds = ConcatDataset([dataFashion.testLoader.dataset, dataMnist.testLoader.dataset])\n",
    "# combineDiscTrain_loader = DataLoader(combineDiscTrain_ds, batch_size=100, shuffle=True)\n",
    "# combineDiscTest_loader = DataLoader(combineDiscTest_ds, batch_size=1000, shuffle=False)"
   ]
  },
  {
   "cell_type": "code",
   "execution_count": 4,
   "id": "504e57c8",
   "metadata": {},
   "outputs": [],
   "source": [
    "device = torch.device(\"cuda\" if torch.cuda.is_available() else \"cpu\")\n",
    "spaceDim = 64 * 7 * 7"
   ]
  },
  {
   "cell_type": "code",
   "execution_count": 5,
   "id": "fafe5588",
   "metadata": {},
   "outputs": [],
   "source": [
    "class Encoder(nn.Module):\n",
    "\n",
    "    def __init__(self, latentDim: int = 20):\n",
    "        super().__init__()\n",
    "        self.latentDim = latentDim\n",
    "        self.encode = nn.Sequential(\n",
    "            nn.Conv2d(1, 32, 3, stride=2, padding=1),  # 28→14\n",
    "            nn.ReLU(inplace=True),\n",
    "            nn.Conv2d(32, 64, 3, stride=2, padding=1),  # 14→7\n",
    "            nn.ReLU(inplace=True),\n",
    "            nn.Flatten(),\n",
    "        )\n",
    "        self.fc_mu = nn.Linear(spaceDim, latentDim)\n",
    "        self.fc_logvar = nn.Linear(spaceDim, latentDim)\n",
    "\n",
    "    def forward(self, x: torch.Tensor):\n",
    "        h = self.encode(x)\n",
    "        return self.fc_mu(h), self.fc_logvar(h)"
   ]
  },
  {
   "cell_type": "code",
   "execution_count": 6,
   "id": "f1b287bb",
   "metadata": {},
   "outputs": [],
   "source": [
    "class Decoder(nn.Module):\n",
    "\n",
    "    def __init__(self, latentDim):\n",
    "        super().__init__()\n",
    "        self.latentDim = latentDim\n",
    "        self.fc = nn.Linear(latentDim, spaceDim)\n",
    "        self.decode = nn.Sequential(\n",
    "            nn.Unflatten(1, (64, 7, 7)),\n",
    "            nn.ConvTranspose2d(64, 32, 3, stride=2, padding=1, output_padding=1),  # 14×14\n",
    "            nn.ReLU(inplace=True),\n",
    "            nn.ConvTranspose2d(32, 1, 3, stride=2, padding=1, output_padding=1),  # 28×28\n",
    "        )\n",
    "\n",
    "    def forward(self, data: torch.Tensor):\n",
    "        return self.decode(self.fc(data))"
   ]
  },
  {
   "cell_type": "code",
   "execution_count": 7,
   "id": "28328c29",
   "metadata": {},
   "outputs": [],
   "source": [
    "import math\n",
    "\n",
    "# notes: p(z) ~ N(0,1)\n",
    "# p_teta(x|z) ~ Bernoilu(sigmoid(f_theta(z))) - decoder\n",
    "# q_phy(z|x) ~ N(mu_phy(x)|var_phy(x)) - encder\n",
    "# Loss\n",
    "\n",
    "class VAE(nn.Module):\n",
    "    def __init__(self, trainLoader: DataLoader, testLoader: DataLoader, latentDim: int = 20, lr: float = 1e-3, epochs: int = 20):\n",
    "        super().__init__()\n",
    "        self.device = device\n",
    "        self.encoder = Encoder(latentDim).to(device)\n",
    "        self.decoder = Decoder(latentDim).to(device)\n",
    "        self.trainLoader = trainLoader\n",
    "        self.testLoader = testLoader\n",
    "        self.latentDim = latentDim\n",
    "        self.epochs = epochs\n",
    "        self.current_epoch = 0\n",
    "        self.opt_theta = torch.optim.Adam(self.decoder.parameters(), lr=lr)\n",
    "        self.opt_phi = torch.optim.Adam(self.encoder.parameters(), lr=lr)\n",
    "        self.historyTrain = []\n",
    "        self.historyTest = []\n",
    "\n",
    "    def gradByCrossEntr(self, x, f_x):\n",
    "        return (-x/f_x + (1 - x)/(1 - f_x))/x.size(0)\n",
    "\n",
    "    def gradByActivationFunc(self, p):\n",
    "        return p*(1 - p)\n",
    "\n",
    "    def reparam(self, mu, logvar) -> torch.Tensor:\n",
    "        eps = torch.randn_like(mu)\n",
    "        return mu + eps * (0.5 * logvar).exp()\n",
    "\n",
    "    def getProbsAndLogits(self, x):\n",
    "        mu, logvar = self.encoder(x)\n",
    "        z = self.reparam(mu, logvar)\n",
    "        logits = self.decoder(z)\n",
    "        p = torch.sigmoid(logits)\n",
    "        return logits, p\n",
    "\n",
    "    # decoder\n",
    "    def gradByTheta(self, x, k: int = 5):\n",
    "        params = list(self.decoder.parameters())\n",
    "        total_grads = [torch.zeros_like(p) for p in params]\n",
    "        for _ in range(k):\n",
    "            logits, p = self.getProbsAndLogits(x)\n",
    "            grad_loss = self.gradByCrossEntr(x, p)\n",
    "            grad_logits = grad_loss * self.gradByActivationFunc(p) \n",
    "            \n",
    "            grads = torch.autograd.grad(outputs=logits, inputs=params, grad_outputs=grad_logits, retain_graph=False)\n",
    "            for i, g in enumerate(grads): total_grads[i] += g / k\n",
    "        return total_grads\n",
    "\n",
    "    # p(z) ~ N(0, I)\n",
    "    def _log_p_z(self, z: torch.Tensor) -> torch.Tensor:\n",
    "        return (-0.5 * (z.pow(2) + math.log(2 * math.pi)).sum(dim = 1)).mean()\n",
    "\n",
    "    # q(z|x) ~ N(mu, var)\n",
    "    def _log_normal(self, z, mu, logvar):\n",
    "        return (-0.5 * (logvar + (z - mu).pow(2)/logvar.exp() + math.log(2 * math.pi)).sum(dim = 1)).mean()\n",
    "\n",
    "    # encoder\n",
    "    def gradByPhi(self, x: torch.Tensor, k: int = 5):\n",
    "        params = list(self.encoder.parameters())\n",
    "        total_grads = [torch.zeros_like(p) for p in params]\n",
    "\n",
    "        for _ in range(k):\n",
    "            mu, logvar = self.encoder(x)\n",
    "            z = self.reparam(mu, logvar)\n",
    "            logits = self.decoder(z)\n",
    "\n",
    "            # logp(x,z)\n",
    "            log_p_x_z = -self.reconstrLossBern(logits, x) \n",
    "            log_p_z = self._log_p_z(z) \n",
    "            \n",
    "            # logq(z|x)\n",
    "            log_q_z_x = self._log_normal(z, mu, logvar) \n",
    "\n",
    "            innerSum = -(log_p_x_z + log_p_z - log_q_z_x)\n",
    "\n",
    "            grads = torch.autograd.grad(outputs=innerSum, inputs=params, retain_graph = False)\n",
    "            for i, g in enumerate(grads): total_grads[i] += g / k\n",
    "        return total_grads\n",
    "\n",
    "    def forward(self, x: torch.Tensor):\n",
    "        mu, logvar = self.encoder(x)\n",
    "        return self.decoder(self.reparam(mu, logvar)), mu, logvar\n",
    "\n",
    "    def reconstrLossBern(self, recon_logit, x):\n",
    "        return F.binary_cross_entropy_with_logits(recon_logit, x, reduction=\"sum\")/x.size(0)\n",
    "    \n",
    "    # KL divergence between q(z|x) ~ N(mu, var) and p(z) ~ N(0, 1)\n",
    "    def regLoss(self, mu: torch.Tensor, logvar: torch.Tensor) -> torch.Tensor:\n",
    "        return (-0.5*torch.sum(1+logvar-mu.pow(2)-logvar.exp(), dim=1)).mean()\n",
    "\n",
    "    def _loss(self, recon: torch.Tensor, x: torch.Tensor, mu: torch.Tensor, logvar: torch.Tensor, kld_weight: float = 1):\n",
    "        lossConstr = self.reconstrLossBern(recon, x)\n",
    "        lossReg = self.regLoss(mu, logvar)\n",
    "        return lossConstr + kld_weight * lossReg\n",
    "\n",
    "    def _run_epoch(self, loader: DataLoader, train: bool, myTrain: bool = True):\n",
    "        self.train() if train else self.eval()\n",
    "        total_loss = 0.0\n",
    "\n",
    "        for x, _ in tqdm(loader, desc = f\"{'Train' if train else 'Test'} {self.current_epoch}/{self.epochs}\"):\n",
    "            x = x.to(self.device).float()\n",
    "            self.opt_theta.zero_grad()\n",
    "            self.opt_phi.zero_grad()\n",
    "\n",
    "            if train and myTrain:\n",
    "                grad_theta = self.gradByTheta(x)\n",
    "                grad_phi = self.gradByPhi(x)\n",
    "\n",
    "                for p, g in zip(self.decoder.parameters(), grad_theta): p.grad = g.detach()\n",
    "                for p, g in zip(self.encoder.parameters(), grad_phi): p.grad = g.detach()\n",
    "\n",
    "                with torch.no_grad():\n",
    "                    recon, mu, logvar = self(x)\n",
    "                    loss = self._loss(recon, x, mu, logvar)\n",
    "                    \n",
    "                self.opt_theta.step()\n",
    "                self.opt_phi.step()\n",
    "                \n",
    "            elif train and not myTrain:\n",
    "                recon, mu, logvar = self(x)\n",
    "                loss = self._loss(recon, x, mu, logvar)\n",
    "                loss.backward()\n",
    "                self.opt_theta.step()\n",
    "                self.opt_phi.step()\n",
    "            else:\n",
    "                with torch.no_grad():\n",
    "                    recon, mu, logvar = self(x)\n",
    "                    loss = self._loss(recon, x, mu, logvar)\n",
    "\n",
    "            total_loss += loss.item() \n",
    "        return total_loss / len(loader)\n",
    "\n",
    "    def fit(self, myTrain):\n",
    "        for ep in range(1, self.epochs + 1):\n",
    "            self.current_epoch = ep\n",
    "            curTrainLoss = self._run_epoch(self.trainLoader, train = True, myTrain = myTrain)\n",
    "            curTestLoss = self._run_epoch(self.testLoader, train = False)\n",
    "            self.historyTrain.append(curTrainLoss)\n",
    "            self.historyTest.append(curTestLoss)\n",
    "            print(f\"Epoch {ep}/{self.epochs}  train: {curTrainLoss:.4f}  test: {curTestLoss:.4f}\")\n",
    "\n",
    "    def plotGraphics(self):\n",
    "        plt.figure(figsize = (6, 4))\n",
    "        plt.plot(self.historyTrain, label = \"train\")\n",
    "        plt.plot(self.historyTest, label = \"test\")\n",
    "        plt.xlabel(\"epoch\")\n",
    "        plt.ylabel(\"ELBO\")\n",
    "        plt.title(\"VAE learning curve\")\n",
    "        plt.legend()\n",
    "        plt.tight_layout()\n",
    "        plt.show()\n",
    "\n",
    "    def plotImages(self, n = 8):\n",
    "        self.eval()\n",
    "        x, _ = next(iter(self.testLoader))\n",
    "        x = x[:n].to(self.device).float()\n",
    "\n",
    "        with torch.no_grad():\n",
    "            logits, _, _ = self(x)\n",
    "            recon = torch.sigmoid(logits)\n",
    "\n",
    "        fig, axes = plt.subplots(2, n, figsize = (1.5 * n, 3))\n",
    "        for i in range(n):\n",
    "            axes[0, i].imshow(x[i].cpu().squeeze(), cmap = \"gray\")\n",
    "            axes[0, i].axis(\"off\")\n",
    "            axes[1, i].imshow(recon[i].cpu().squeeze(), cmap = \"gray\")\n",
    "            axes[1, i].axis(\"off\")\n",
    "\n",
    "        axes[0, 0].set_ylabel(\"orig\")\n",
    "        axes[1, 0].set_ylabel(\"recon\")\n",
    "        plt.tight_layout()\n",
    "        plt.show()\n"
   ]
  },
  {
   "cell_type": "code",
   "execution_count": 8,
   "id": "14c0501d",
   "metadata": {},
   "outputs": [
    {
     "name": "stderr",
     "output_type": "stream",
     "text": [
      "Train 1/15: 100%|██████████| 60/60 [00:39<00:00,  1.50it/s]\n",
      "Test 1/15: 100%|██████████| 10/10 [00:00<00:00, 28.27it/s]\n"
     ]
    },
    {
     "name": "stdout",
     "output_type": "stream",
     "text": [
      "Epoch 1/15  train: 269.4507  test: 199.7621\n"
     ]
    },
    {
     "name": "stderr",
     "output_type": "stream",
     "text": [
      "Train 2/15: 100%|██████████| 60/60 [00:40<00:00,  1.49it/s]\n",
      "Test 2/15: 100%|██████████| 10/10 [00:00<00:00, 28.03it/s]\n"
     ]
    },
    {
     "name": "stdout",
     "output_type": "stream",
     "text": [
      "Epoch 2/15  train: 184.3434  test: 174.1145\n"
     ]
    },
    {
     "name": "stderr",
     "output_type": "stream",
     "text": [
      "Train 3/15: 100%|██████████| 60/60 [00:40<00:00,  1.49it/s]\n",
      "Test 3/15: 100%|██████████| 10/10 [00:00<00:00, 23.88it/s]\n"
     ]
    },
    {
     "name": "stdout",
     "output_type": "stream",
     "text": [
      "Epoch 3/15  train: 169.2901  test: 163.7719\n"
     ]
    },
    {
     "name": "stderr",
     "output_type": "stream",
     "text": [
      "Train 4/15: 100%|██████████| 60/60 [00:40<00:00,  1.49it/s]\n",
      "Test 4/15: 100%|██████████| 10/10 [00:00<00:00, 28.02it/s]\n"
     ]
    },
    {
     "name": "stdout",
     "output_type": "stream",
     "text": [
      "Epoch 4/15  train: 161.2401  test: 157.5860\n"
     ]
    },
    {
     "name": "stderr",
     "output_type": "stream",
     "text": [
      "Train 5/15: 100%|██████████| 60/60 [00:40<00:00,  1.48it/s]\n",
      "Test 5/15: 100%|██████████| 10/10 [00:00<00:00, 27.99it/s]\n"
     ]
    },
    {
     "name": "stdout",
     "output_type": "stream",
     "text": [
      "Epoch 5/15  train: 156.2666  test: 153.6840\n"
     ]
    },
    {
     "name": "stderr",
     "output_type": "stream",
     "text": [
      "Train 6/15: 100%|██████████| 60/60 [00:40<00:00,  1.48it/s]\n",
      "Test 6/15: 100%|██████████| 10/10 [00:00<00:00, 28.00it/s]\n"
     ]
    },
    {
     "name": "stdout",
     "output_type": "stream",
     "text": [
      "Epoch 6/15  train: 153.0259  test: 150.4874\n"
     ]
    },
    {
     "name": "stderr",
     "output_type": "stream",
     "text": [
      "Train 7/15: 100%|██████████| 60/60 [00:40<00:00,  1.48it/s]\n",
      "Test 7/15: 100%|██████████| 10/10 [00:00<00:00, 23.87it/s]\n"
     ]
    },
    {
     "name": "stdout",
     "output_type": "stream",
     "text": [
      "Epoch 7/15  train: 150.4983  test: 148.4591\n"
     ]
    },
    {
     "name": "stderr",
     "output_type": "stream",
     "text": [
      "Train 8/15: 100%|██████████| 60/60 [00:40<00:00,  1.48it/s]\n",
      "Test 8/15: 100%|██████████| 10/10 [00:00<00:00, 27.86it/s]\n"
     ]
    },
    {
     "name": "stdout",
     "output_type": "stream",
     "text": [
      "Epoch 8/15  train: 148.4239  test: 146.7407\n"
     ]
    },
    {
     "name": "stderr",
     "output_type": "stream",
     "text": [
      "Train 9/15: 100%|██████████| 60/60 [00:40<00:00,  1.48it/s]\n",
      "Test 9/15: 100%|██████████| 10/10 [00:00<00:00, 27.86it/s]\n"
     ]
    },
    {
     "name": "stdout",
     "output_type": "stream",
     "text": [
      "Epoch 9/15  train: 146.7588  test: 145.2411\n"
     ]
    },
    {
     "name": "stderr",
     "output_type": "stream",
     "text": [
      "Train 10/15: 100%|██████████| 60/60 [00:40<00:00,  1.48it/s]\n",
      "Test 10/15: 100%|██████████| 10/10 [00:00<00:00, 27.90it/s]\n"
     ]
    },
    {
     "name": "stdout",
     "output_type": "stream",
     "text": [
      "Epoch 10/15  train: 145.3817  test: 144.2739\n"
     ]
    },
    {
     "name": "stderr",
     "output_type": "stream",
     "text": [
      "Train 11/15: 100%|██████████| 60/60 [00:40<00:00,  1.48it/s]\n",
      "Test 11/15: 100%|██████████| 10/10 [00:00<00:00, 27.73it/s]\n"
     ]
    },
    {
     "name": "stdout",
     "output_type": "stream",
     "text": [
      "Epoch 11/15  train: 144.1978  test: 142.6861\n"
     ]
    },
    {
     "name": "stderr",
     "output_type": "stream",
     "text": [
      "Train 12/15: 100%|██████████| 60/60 [00:40<00:00,  1.48it/s]\n",
      "Test 12/15: 100%|██████████| 10/10 [00:00<00:00, 27.82it/s]\n"
     ]
    },
    {
     "name": "stdout",
     "output_type": "stream",
     "text": [
      "Epoch 12/15  train: 143.1623  test: 142.0503\n"
     ]
    },
    {
     "name": "stderr",
     "output_type": "stream",
     "text": [
      "Train 13/15: 100%|██████████| 60/60 [00:40<00:00,  1.48it/s]\n",
      "Test 13/15: 100%|██████████| 10/10 [00:00<00:00, 27.97it/s]\n"
     ]
    },
    {
     "name": "stdout",
     "output_type": "stream",
     "text": [
      "Epoch 13/15  train: 142.2047  test: 141.0728\n"
     ]
    },
    {
     "name": "stderr",
     "output_type": "stream",
     "text": [
      "Train 14/15: 100%|██████████| 60/60 [00:40<00:00,  1.48it/s]\n",
      "Test 14/15: 100%|██████████| 10/10 [00:00<00:00, 27.83it/s]\n"
     ]
    },
    {
     "name": "stdout",
     "output_type": "stream",
     "text": [
      "Epoch 14/15  train: 141.2873  test: 140.2920\n"
     ]
    },
    {
     "name": "stderr",
     "output_type": "stream",
     "text": [
      "Train 15/15: 100%|██████████| 60/60 [00:40<00:00,  1.48it/s]\n",
      "Test 15/15: 100%|██████████| 10/10 [00:00<00:00, 27.92it/s]\n"
     ]
    },
    {
     "name": "stdout",
     "output_type": "stream",
     "text": [
      "Epoch 15/15  train: 140.5220  test: 139.5184\n"
     ]
    },
    {
     "data": {
      "image/png": "[encoded data removed]",
      "text/plain": [
       "<Figure size 600x400 with 1 Axes>"
      ]
     },
     "metadata": {},
     "output_type": "display_data"
    },
    {
     "data": {
      "image/png": "[encoded data removed]",
      "text/plain": [
       "<Figure size 1200x300 with 16 Axes>"
      ]
     },
     "metadata": {},
     "output_type": "display_data"
    }
   ],
   "source": [
    "latent_dim = 10000\n",
    "epochs = 15\n",
    "lr = 1e-3\n",
    "\n",
    "vae = VAE(trainMNISTLoader, testMNISTLoader, latentDim=latent_dim, lr=lr, epochs=epochs)\n",
    "vae.fit(True)\n",
    "vae.plotGraphics()\n",
    "vae.plotImages(8)"
   ]
  },
  {
   "cell_type": "code",
   "execution_count": 9,
   "id": "21e53f99",
   "metadata": {},
   "outputs": [
    {
     "name": "stderr",
     "output_type": "stream",
     "text": [
      "Train 1/10: 100%|██████████| 60/60 [00:01<00:00, 45.87it/s]\n",
      "Test 1/10: 100%|██████████| 10/10 [00:00<00:00, 97.70it/s]\n"
     ]
    },
    {
     "name": "stdout",
     "output_type": "stream",
     "text": [
      "Epoch 1/10  train: 266.0299  test: 186.4667\n"
     ]
    },
    {
     "name": "stderr",
     "output_type": "stream",
     "text": [
      "Train 2/10: 100%|██████████| 60/60 [00:01<00:00, 43.55it/s]\n",
      "Test 2/10: 100%|██████████| 10/10 [00:00<00:00, 97.54it/s]\n"
     ]
    },
    {
     "name": "stdout",
     "output_type": "stream",
     "text": [
      "Epoch 2/10  train: 172.6515  test: 162.2330\n"
     ]
    },
    {
     "name": "stderr",
     "output_type": "stream",
     "text": [
      "Train 3/10: 100%|██████████| 60/60 [00:01<00:00, 43.76it/s]\n",
      "Test 3/10: 100%|██████████| 10/10 [00:00<00:00, 97.78it/s]\n"
     ]
    },
    {
     "name": "stdout",
     "output_type": "stream",
     "text": [
      "Epoch 3/10  train: 158.2207  test: 153.5496\n"
     ]
    },
    {
     "name": "stderr",
     "output_type": "stream",
     "text": [
      "Train 4/10: 100%|██████████| 60/60 [00:01<00:00, 45.83it/s]\n",
      "Test 4/10: 100%|██████████| 10/10 [00:00<00:00, 60.19it/s]\n"
     ]
    },
    {
     "name": "stdout",
     "output_type": "stream",
     "text": [
      "Epoch 4/10  train: 152.3809  test: 149.2856\n"
     ]
    },
    {
     "name": "stderr",
     "output_type": "stream",
     "text": [
      "Train 5/10: 100%|██████████| 60/60 [00:01<00:00, 45.81it/s]\n",
      "Test 5/10: 100%|██████████| 10/10 [00:00<00:00, 97.82it/s]\n"
     ]
    },
    {
     "name": "stdout",
     "output_type": "stream",
     "text": [
      "Epoch 5/10  train: 148.4805  test: 146.0697\n"
     ]
    },
    {
     "name": "stderr",
     "output_type": "stream",
     "text": [
      "Train 6/10: 100%|██████████| 60/60 [00:01<00:00, 43.76it/s]\n",
      "Test 6/10: 100%|██████████| 10/10 [00:00<00:00, 97.97it/s]\n"
     ]
    },
    {
     "name": "stdout",
     "output_type": "stream",
     "text": [
      "Epoch 6/10  train: 145.7436  test: 143.7228\n"
     ]
    },
    {
     "name": "stderr",
     "output_type": "stream",
     "text": [
      "Train 7/10: 100%|██████████| 60/60 [00:01<00:00, 43.86it/s]\n",
      "Test 7/10: 100%|██████████| 10/10 [00:00<00:00, 97.89it/s]\n"
     ]
    },
    {
     "name": "stdout",
     "output_type": "stream",
     "text": [
      "Epoch 7/10  train: 143.4607  test: 141.9702\n"
     ]
    },
    {
     "name": "stderr",
     "output_type": "stream",
     "text": [
      "Train 8/10: 100%|██████████| 60/60 [00:01<00:00, 45.86it/s]\n",
      "Test 8/10: 100%|██████████| 10/10 [00:00<00:00, 97.77it/s]\n"
     ]
    },
    {
     "name": "stdout",
     "output_type": "stream",
     "text": [
      "Epoch 8/10  train: 141.1154  test: 139.1426\n"
     ]
    },
    {
     "name": "stderr",
     "output_type": "stream",
     "text": [
      "Train 9/10: 100%|██████████| 60/60 [00:01<00:00, 43.74it/s]\n",
      "Test 9/10: 100%|██████████| 10/10 [00:00<00:00, 97.76it/s]\n"
     ]
    },
    {
     "name": "stdout",
     "output_type": "stream",
     "text": [
      "Epoch 9/10  train: 138.0113  test: 135.1574\n"
     ]
    },
    {
     "name": "stderr",
     "output_type": "stream",
     "text": [
      "Train 10/10: 100%|██████████| 60/60 [00:01<00:00, 43.78it/s]\n",
      "Test 10/10: 100%|██████████| 10/10 [00:00<00:00, 97.58it/s]"
     ]
    },
    {
     "name": "stdout",
     "output_type": "stream",
     "text": [
      "Epoch 10/10  train: 134.1667  test: 131.4521\n"
     ]
    },
    {
     "name": "stderr",
     "output_type": "stream",
     "text": [
      "\n"
     ]
    },
    {
     "data": {
      "image/png": "[encoded data removed]",
      "text/plain": [
       "<Figure size 600x400 with 1 Axes>"
      ]
     },
     "metadata": {},
     "output_type": "display_data"
    },
    {
     "data": {
      "image/png": "[encoded data removed]",
      "text/plain": [
       "<Figure size 1200x300 with 16 Axes>"
      ]
     },
     "metadata": {},
     "output_type": "display_data"
    }
   ],
   "source": [
    "latent_dim = 1000\n",
    "epochs = 10\n",
    "lr = 1e-3\n",
    "\n",
    "vae = VAE(trainMNISTLoader, testMNISTLoader, latentDim=latent_dim, lr=lr, epochs=epochs)\n",
    "vae.fit(False)\n",
    "vae.plotGraphics()\n",
    "vae.plotImages(8)"
   ]
  },
  {
   "cell_type": "code",
   "execution_count": 10,
   "id": "25b2ee45",
   "metadata": {},
   "outputs": [],
   "source": [
    "class Generator(nn.Module):\n",
    "    def __init__(self, latent_dim: int, n_classes: int, embed_dim: int = 50):\n",
    "        super().__init__()\n",
    "        self.latent_dim = latent_dim\n",
    "        self.embed = nn.Embedding(n_classes, embed_dim)\n",
    "\n",
    "        self.model = nn.Sequential(\n",
    "            nn.ConvTranspose2d(latent_dim + embed_dim, 128, 7, 1, 0, bias=False),\n",
    "            nn.BatchNorm2d(128),\n",
    "            nn.ReLU(True),\n",
    "\n",
    "            nn.ConvTranspose2d(128, 64, 4, 2, 1, bias=False),\n",
    "            nn.BatchNorm2d(64),\n",
    "            nn.ReLU(True),\n",
    "            \n",
    "            nn.ConvTranspose2d(64, 1, 4, 2, 1, bias=False),\n",
    "            nn.Tanh()\n",
    "        )\n",
    "\n",
    "    def forward(self, z: torch.Tensor, y: torch.Tensor) -> torch.Tensor:\n",
    "        h = self.embed(y).unsqueeze(2).unsqueeze(3)\n",
    "        z = z.view(z.size(0), self.latent_dim, 1, 1) \n",
    "        x = torch.cat([z, h], dim=1)\n",
    "        return self.model(x)"
   ]
  },
  {
   "cell_type": "code",
   "execution_count": 11,
   "id": "8c17185a",
   "metadata": {},
   "outputs": [],
   "source": [
    "class Discriminator(nn.Module):\n",
    "    def __init__(self, n_classes: int, embed_dim: int = 50):\n",
    "        super().__init__()\n",
    "        self.embed = nn.Embedding(n_classes, embed_dim)\n",
    "\n",
    "        self.model = nn.Sequential(\n",
    "            nn.Conv2d(1 + embed_dim, 64, kernel_size=4, stride=2, padding=1, bias=False),\n",
    "            nn.LeakyReLU(0.2, inplace=True),\n",
    "\n",
    "            nn.Conv2d(64, 128, 4, 2, 1, bias=False),\n",
    "            nn.BatchNorm2d(128),\n",
    "            nn.LeakyReLU(0.2, inplace=True),\n",
    "\n",
    "            nn.Conv2d(128, 256, 4, 2, 1, bias=False),\n",
    "            nn.BatchNorm2d(256),\n",
    "            nn.LeakyReLU(0.2, inplace=True),\n",
    "\n",
    "            nn.Conv2d(256, 1, kernel_size=3, stride=1, padding=0, bias=False)\n",
    "        )\n",
    "\n",
    "    def forward(self, x: torch.Tensor, y: torch.Tensor) -> torch.Tensor:\n",
    "        h = self.embed(y).unsqueeze(2).unsqueeze(3)\n",
    "        h = h.expand(-1, -1, x.size(2), x.size(3))  \n",
    "        x = torch.cat([x, h], dim=1)\n",
    "        return self.model(x).view(-1, 1)  \n"
   ]
  },
  {
   "cell_type": "code",
   "execution_count": 12,
   "id": "a4f1d616",
   "metadata": {},
   "outputs": [],
   "source": [
    "def dcgan_init(m):\n",
    "    cls = m.__class__.__name__\n",
    "    if cls.find('Conv') != -1:\n",
    "        nn.init.normal_(m.weight.data, 0.0, 0.02)\n",
    "    elif cls.find('BatchNorm') != -1:\n",
    "        nn.init.normal_(m.weight.data, 1, 0.02)\n",
    "        nn.init.constant_(m.bias.data, 0)"
   ]
  },
  {
   "cell_type": "code",
   "execution_count": null,
   "id": "9614704f",
   "metadata": {},
   "outputs": [],
   "source": [
    "from typing import Any, Optional\n",
    "\n",
    "class CGAN:\n",
    "    def __init__(self, train_loader, test_loader: Optional[Any] = None, z_dim: int = 100, n_classes: int = 10, lr: float = 2e-4, device: Optional[torch.device] = None):\n",
    "        self.device = device \n",
    "        self.z_dim = z_dim\n",
    "        self.n_classes = n_classes\n",
    "\n",
    "        self.Gena = Generator(z_dim, n_classes).apply(dcgan_init).to(self.device)\n",
    "        self.Discrim = Discriminator(n_classes).apply(dcgan_init).to(self.device)\n",
    "\n",
    "        self.optGena = optim.Adam(self.Gena.parameters(), lr=2*lr, betas=(0.5, 0.999))\n",
    "        self.optDisc = optim.Adam(self.Discrim.parameters(), lr=lr, betas=(0.5, 0.999))\n",
    "        self.crit = nn.BCEWithLogitsLoss()\n",
    "\n",
    "        self.train_loader = train_loader\n",
    "        self.test_loader = test_loader\n",
    "\n",
    "        self.DiscTrain = []\n",
    "        self.GenaTrain = []\n",
    "        self.DiscTest = []\n",
    "        self.GenaTest = []\n",
    "\n",
    "    @staticmethod\n",
    "    def _to_minus1_1(imgs: torch.Tensor) -> torch.Tensor:\n",
    "        # (0,1) → (-1,1)\n",
    "        return imgs.mul(2.0).sub(1)\n",
    "\n",
    "    def _sanitize_labels(self, labels: torch.Tensor) -> torch.Tensor:\n",
    "        return (labels % self.n_classes).long()\n",
    "\n",
    "    def _d_step(self, real_imgs: torch.Tensor, labels: torch.Tensor):\n",
    "        real_imgs = self._to_minus1_1(real_imgs)\n",
    "        labels = self._sanitize_labels(labels)\n",
    "\n",
    "        real_logits = self.Discrim(real_imgs, labels)\n",
    "        loss_real = self.crit(real_logits, torch.ones_like(real_logits))\n",
    "\n",
    "        z = torch.randn(real_imgs.size(0), self.z_dim, device=self.device)\n",
    "        with torch.no_grad(): fake = self.Gena(z, labels)\n",
    "        fake_logits = self.Discrim(fake.detach(), labels)\n",
    "        loss_fake = self.crit(fake_logits, torch.zeros_like(fake_logits))\n",
    "\n",
    "        discLoss = 0.5 * (loss_real + loss_fake)\n",
    "        self.optDisc.zero_grad()\n",
    "        discLoss.backward()\n",
    "        self.optDisc.step()\n",
    "        \n",
    "        return discLoss.item()\n",
    "\n",
    "    def _g_step(self, labels: torch.Tensor):\n",
    "        labels = self._sanitize_labels(labels)\n",
    "        z = torch.randn(labels.size(0), self.z_dim, device=self.device)\n",
    "        logits = self.Discrim(self.Gena(z, labels), labels)\n",
    "        genaLoss = 2*self.crit(logits, torch.ones_like(logits))\n",
    "\n",
    "        self.optGena.zero_grad()\n",
    "        genaLoss.backward()\n",
    "        self.optGena.step()\n",
    "        return genaLoss.item()\n",
    "\n",
    "    def _run_epoch_train(self):\n",
    "        self.Gena.train()\n",
    "        self.Discrim.train()\n",
    "        discLoss=genaLoss=countBatch=0\n",
    "\n",
    "        for imgs, labels in tqdm(self.train_loader, desc=\"  train\", leave=False):\n",
    "            imgs, labels = imgs.to(self.device), labels.to(self.device)\n",
    "            discLoss += self._d_step(imgs, labels)\n",
    "            for _ in range(3):\n",
    "                genaLoss += self._g_step(labels)\n",
    "            genaLoss /= 3\n",
    "            countBatch += 1\n",
    "\n",
    "        return discLoss/countBatch, genaLoss/countBatch\n",
    "\n",
    "    def _run_epoch_validate(self):\n",
    "        self.Gena.eval()\n",
    "        self.Discrim.eval()\n",
    "        discLoss=genaLoss=countBatch=0\n",
    "\n",
    "        with torch.no_grad():\n",
    "            for imgs, labels in tqdm(self.test_loader, desc=\"  validate\", leave=False):\n",
    "                imgs, labels = imgs.to(self.device), labels.to(self.device)\n",
    "                imgs = self._to_minus1_1(imgs)\n",
    "                labels = self._sanitize_labels(labels)\n",
    "\n",
    "                realLogits = self.Discrim(imgs, labels)\n",
    "                loss_real = self.crit(realLogits, torch.ones_like(realLogits))\n",
    "\n",
    "                z = torch.randn(imgs.size(0), self.z_dim, device=self.device)\n",
    "                fake = self.Gena(z, labels)\n",
    "                fakeLogits = self.Discrim(fake, labels)\n",
    "                loss_fake = self.crit(fakeLogits, torch.zeros_like(fakeLogits))\n",
    "\n",
    "                discLoss += 0.5 * (loss_real + loss_fake).item()\n",
    "                genaLoss += self.crit(fakeLogits, torch.ones_like(fakeLogits)).item()\n",
    "                countBatch += 1\n",
    "\n",
    "        return discLoss/countBatch, genaLoss/countBatch\n",
    "\n",
    "    def fit(self, epochs: int = 50) -> None:\n",
    "        for curEpoch in range(1, epochs + 1):\n",
    "            discTrain, genaTrain = self._run_epoch_train()\n",
    "            self.DiscTrain.append(discTrain)\n",
    "            self.GenaTrain.append(genaTrain)\n",
    "            genaLoss = f\"Epoch {curEpoch}: D_tr={discTrain:.4f} | G_tr={genaTrain:.4f}\"\n",
    "\n",
    "            discVal, genVal = self._run_epoch_validate()\n",
    "            self.DiscTest.append(discVal)\n",
    "            self.GenaTest.append(genVal)\n",
    "            genaLoss += f\" || D_val={discVal:.4f} | G_val={genVal:.4f}\"\n",
    "\n",
    "            print(genaLoss)\n",
    "\n",
    "    def plot_losses(self) -> None:\n",
    "        epochs = range(1, len(self.DiscTrain)+1)\n",
    "        plt.figure(figsize=(6,4))\n",
    "        plt.plot(epochs, self.DiscTrain, 'b-', label='D train')\n",
    "        plt.plot(epochs, self.GenaTrain, 'r-', label='G train')\n",
    "        if self.DiscTest:\n",
    "            plt.plot(epochs, self.DiscTest, 'b--', label='D val')\n",
    "            plt.plot(epochs, self.GenaTest, 'r--', label='G val')\n",
    "        plt.xlabel('epoch'); plt.ylabel('loss'); plt.legend(); plt.tight_layout(); plt.show()\n",
    "        \n",
    "\n",
    "    def plotImages(self, n: int = 8) -> None:\n",
    "        self.Gena.eval()\n",
    "        imgs, labels = next(iter(self.test_loader))\n",
    "        imgs, labels = imgs[:n].to(self.device).float(), labels[:n].to(self.device)\n",
    "        labels = self._sanitize_labels(labels)\n",
    "\n",
    "        with torch.no_grad():\n",
    "            z = torch.randn(n, self.z_dim, device=self.device)\n",
    "            fakes = self.Gena(z, labels)            \n",
    "            fakes = (fakes + 1) / 2                   \n",
    "\n",
    "        _, axes = plt.subplots(2, n, figsize=(1.5 * n, 3))\n",
    "        for i in range(n):\n",
    "            axes[0, i].imshow(imgs[i].cpu().squeeze(), cmap='gray')\n",
    "            axes[0, i].axis('off')\n",
    "            axes[1, i].imshow(fakes[i].cpu().squeeze(), cmap='gray')\n",
    "            axes[1, i].axis('off')\n",
    "\n",
    "        axes[0, 0].set_ylabel('real')\n",
    "        axes[1, 0].set_ylabel('fake')\n",
    "        plt.tight_layout()\n",
    "        plt.show()\n",
    "\n"
   ]
  },
  {
   "cell_type": "code",
   "execution_count": 14,
   "id": "b721c9aa",
   "metadata": {},
   "outputs": [
    {
     "name": "stderr",
     "output_type": "stream",
     "text": [
      "  train:   0%|          | 0/60 [00:00<?, ?it/s]"
     ]
    },
    {
     "name": "stderr",
     "output_type": "stream",
     "text": [
      "                                                           \r"
     ]
    },
    {
     "name": "stdout",
     "output_type": "stream",
     "text": [
      "Epoch 001: D_tr=0.7355 | G_tr=1.4838 || D_val=0.6968 | G_val=0.6933\n"
     ]
    },
    {
     "name": "stderr",
     "output_type": "stream",
     "text": [
      "                                                           \r"
     ]
    },
    {
     "name": "stdout",
     "output_type": "stream",
     "text": [
      "Epoch 002: D_tr=0.6987 | G_tr=1.3934 || D_val=0.6956 | G_val=0.6855\n"
     ]
    },
    {
     "name": "stderr",
     "output_type": "stream",
     "text": [
      "                                                           \r"
     ]
    },
    {
     "name": "stdout",
     "output_type": "stream",
     "text": [
      "Epoch 003: D_tr=0.6952 | G_tr=1.3892 || D_val=0.6965 | G_val=0.7124\n"
     ]
    },
    {
     "name": "stderr",
     "output_type": "stream",
     "text": [
      "                                                           \r"
     ]
    },
    {
     "name": "stdout",
     "output_type": "stream",
     "text": [
      "Epoch 004: D_tr=0.6953 | G_tr=1.3892 || D_val=0.6951 | G_val=0.7105\n"
     ]
    },
    {
     "name": "stderr",
     "output_type": "stream",
     "text": [
      "                                                           \r"
     ]
    },
    {
     "name": "stdout",
     "output_type": "stream",
     "text": [
      "Epoch 005: D_tr=0.6953 | G_tr=1.3899 || D_val=0.6944 | G_val=0.7274\n"
     ]
    },
    {
     "name": "stderr",
     "output_type": "stream",
     "text": [
      "                                                           \r"
     ]
    },
    {
     "name": "stdout",
     "output_type": "stream",
     "text": [
      "Epoch 006: D_tr=0.6941 | G_tr=1.3867 || D_val=0.6941 | G_val=0.6829\n"
     ]
    },
    {
     "name": "stderr",
     "output_type": "stream",
     "text": [
      "                                                           "
     ]
    },
    {
     "name": "stdout",
     "output_type": "stream",
     "text": [
      "Epoch 007: D_tr=0.6960 | G_tr=1.3918 || D_val=0.6935 | G_val=0.6817\n"
     ]
    },
    {
     "name": "stderr",
     "output_type": "stream",
     "text": [
      "\r"
     ]
    }
   ],
   "source": [
    "model_mnist = CGAN(trainMNISTLoader, testMNISTLoader, z_dim=1000, n_classes=10, lr=1e-3, device=device)\n",
    "model_mnist.fit(7)"
   ]
  },
  {
   "cell_type": "code",
   "execution_count": 15,
   "id": "c4e63a18",
   "metadata": {},
   "outputs": [
    {
     "data": {
      "image/png": "[encoded data removed]",
      "text/plain": [
       "<Figure size 600x400 with 1 Axes>"
      ]
     },
     "metadata": {},
     "output_type": "display_data"
    },
    {
     "data": {
      "image/png": "[encoded data removed]",
      "text/plain": [
       "<Figure size 1200x300 with 16 Axes>"
      ]
     },
     "metadata": {},
     "output_type": "display_data"
    }
   ],
   "source": [
    "model_mnist.plot_losses()\n",
    "model_mnist.plotImages(8)"
   ]
  },
  {
   "cell_type": "code",
   "execution_count": null,
   "id": "1ebecd5b",
   "metadata": {},
   "outputs": [],
   "source": [
    "from denoising_diffusion_pytorch import Unet\n",
    "\n",
    "class DiffusionModel(nn.Module):\n",
    "    def __init__(self, trainLoader, testLoader, timeStep, betaStart, betaEnd, typeBuild, device, prediction_type=\"noise\", lr=1e-4):\n",
    "        super().__init__()\n",
    "        self.trainLoader = trainLoader\n",
    "        self.testLoader = testLoader\n",
    "        self.betaStart = betaStart\n",
    "        self.betaEnd = betaEnd\n",
    "        self.typeBuild = typeBuild\n",
    "        self.timeStep = timeStep\n",
    "        self.alpha = None\n",
    "        self.beta = None\n",
    "        self.alpha_cumprod = None\n",
    "        self.EPS = 1e-4\n",
    "        self.lr = lr\n",
    "        self.device = device\n",
    "        self.vlb_weight = 0\n",
    "        self.historyTrainLoss = []\n",
    "        self.historyTestLoss = []\n",
    "        self.historyTrainVLB  = []\n",
    "        self.historyTestVLB = []\n",
    "        \n",
    "        self.prediction_type = prediction_type\n",
    "        \n",
    "        self.buildShedule(betaStart, betaEnd, typeBuild, timeStep)\n",
    "        self.sqrt_alpha_cumprod = torch.sqrt(self.alpha_cumprod)\n",
    "        self.sqrt_one_minus_alpha_cumprod = torch.sqrt(1 - self.alpha_cumprod)\n",
    "        \n",
    "        condition = True\n",
    "        self.model = Unet(dim=16, dim_mults =(1, 2, 4), channels=1, learned_sinusoidal_cond=True, learned_variance=False, self_condition=condition).to(self.device)\n",
    "        self.optimizer = torch.optim.AdamW(self.model.parameters(), lr=2e-4, weight_decay=1e-4, betas=(0.9, 0.999))  \n",
    "          \n",
    "    def forward(self, batch, timeSteps):\n",
    "        return self.model(batch, timeSteps)\n",
    "    \n",
    "    def train_epoch(self):\n",
    "        self.model.train()\n",
    "        total_noise = 0.0\n",
    "        total_vlb   = 0.0\n",
    "        for batch, _ in tqdm(self.trainLoader, desc=\"  train\", leave=False):\n",
    "            batch = batch.to(self.device)\n",
    "            noise_loss = self.lossNoise(batch)\n",
    "            vlb_loss = self.lossVLB(batch)\n",
    "            loss = noise_loss + self.vlb_weight * vlb_loss\n",
    "\n",
    "            self.optimizer.zero_grad()\n",
    "            loss.backward()\n",
    "            self.optimizer.step()\n",
    "\n",
    "            total_noise += noise_loss.item()\n",
    "            total_vlb += vlb_loss.item()\n",
    "\n",
    "        avg_noise = total_noise / len(self.trainLoader)\n",
    "        avg_vlb = total_vlb / len(self.trainLoader)\n",
    "        return avg_noise, avg_vlb\n",
    "            \n",
    "    def validate_epoch(self):\n",
    "        self.model.eval()\n",
    "        total_noise = 0.0\n",
    "        total_vlb = 0.0\n",
    "        with torch.no_grad():\n",
    "            for batch, _ in tqdm(self.testLoader, desc=\"  valid\", leave=False):\n",
    "                batch = batch.to(self.device)\n",
    "                noise_loss = self.lossNoise(batch)\n",
    "                vlb_loss = self.lossVLB(batch)\n",
    "\n",
    "                total_noise += noise_loss.item()\n",
    "                total_vlb += vlb_loss.item()\n",
    "                \n",
    "        avg_noise = total_noise / len(self.testLoader)\n",
    "        avg_vlb = total_vlb / len(self.testLoader)\n",
    "        return avg_noise, avg_vlb\n",
    "\n",
    "    def fit(self, epochs):\n",
    "        for epoch in range(1, epochs+1):\n",
    "            train_noise, train_vlb = self.train_epoch()\n",
    "            val_noise, val_vlb = self.validate_epoch()\n",
    "\n",
    "            total_train = train_noise + self.vlb_weight * train_vlb\n",
    "            total_val = val_noise + self.vlb_weight * val_vlb\n",
    "\n",
    "            print(f\"Epoch {epoch}/{epochs}\")\n",
    "            print(f\"Train total: {total_train:.4f}  \" f\"(noise: {train_noise:.4f}, vlb: {train_vlb:.4f})\")\n",
    "            print(f\"Valid total: {total_val:.4f}  \" f\"(noise: {val_noise:.4f}, vlb: {val_vlb:.4f})\")\n",
    "\n",
    "            self.historyTrainLoss.append(total_train)\n",
    "            self.historyTestLoss.append(total_val)\n",
    "            self.historyTrainVLB.append(train_vlb)\n",
    "            self.historyTestVLB.append(val_vlb)\n",
    "    \n",
    "    def sample(self, count):\n",
    "        x = torch.randn(count, 1, 28, 28, device=self.device)\n",
    "        for step in range(self.timeStep - 1, -1, -1):\n",
    "            t = torch.full((count,), step, device=self.device, dtype=torch.long)\n",
    "            pred = self.model(x, t)\n",
    "\n",
    "            if self.prediction_type == 'v':\n",
    "                eps_pred = self.sqrt_one_minus_alpha_cumprod[step]*x + self.sqrt_alpha_cumprod[step]*pred\n",
    "            else:\n",
    "                eps_pred = pred\n",
    "\n",
    "            mean, var = self.predictPosterior(x, eps_pred, t)\n",
    "            noise = torch.randn_like(x) if step > 0 else 0\n",
    "        return mean + torch.sqrt(var) * noise\n",
    "    \n",
    "    \n",
    "    def predictPosterior(self, x_t, noisePred, timeSteps):\n",
    "        beta_t = self.beta[timeSteps].view(-1, 1, 1, 1)\n",
    "        alpha_t = self.alpha[timeSteps].view(-1, 1, 1, 1)\n",
    "        sqrt_alpha_cum = self.sqrt_alpha_cumprod[timeSteps].view(-1,1,1,1) \n",
    "        sqrt_one_minus_alpha_cumprod = self.sqrt_one_minus_alpha_cumprod[timeSteps].view(-1,1,1,1)\n",
    "\n",
    "        inverseAlpha = 1/torch.sqrt(alpha_t)\n",
    "        denom = torch.sqrt(1 - sqrt_alpha_cum)\n",
    "        numerator= 1-alpha_t\n",
    "        mean = inverseAlpha * (x_t - (numerator/denom) * noisePred)\n",
    "        var = beta_t * (1 - sqrt_one_minus_alpha_cumprod)/(1 - sqrt_alpha_cum)\n",
    "        return mean, var\n",
    "    \n",
    "    def buildShedule(self,betaStart, betaEnd, typeBuild, timeStep):\n",
    "        if typeBuild == 'linear':\n",
    "            betas = torch.linspace(betaStart, betaEnd, timeStep, dtype=torch.float32, device=self.device)\n",
    "        else:\n",
    "            steps = torch.arange(0, timeStep+1, dtype=torch.float64, device=self.device)\n",
    "            cosSteps = torch.cos((steps/timeStep+self.EPS)/(1+self.EPS)*(math.pi/2))\n",
    "            alpha = cosSteps/cosSteps[0]\n",
    "            betas = 1-alpha[1:]/alpha[:-1]\n",
    "            betas = torch.clamp(betas, 0.0, 0.999).to(torch.float32)\n",
    "        \n",
    "        alphas = 1-betas\n",
    "  \n",
    "        alpha_cumprod = torch.empty_like(alphas)\n",
    "        running_prod = torch.tensor(1.0, device=self.device)\n",
    "        for i in range(timeStep):\n",
    "            running_prod = running_prod * alphas[i]\n",
    "            alpha_cumprod[i] = running_prod\n",
    "            \n",
    "        self.beta = betas       \n",
    "        self.alpha = alphas\n",
    "        self.alpha_cumprod = alpha_cumprod \n",
    "                \n",
    "    def lossVLB(self, batchInput):\n",
    "        x_t, noise, alpha_bar, noisePred, timeSteps = self.q_sample(batchInput)\n",
    "        meanTrue, varTrue = self.predictPosterior(x_t, noise, timeSteps)\n",
    "        meanPred, varPred = self.predictPosterior(x_t, noisePred, timeSteps)\n",
    "        divergence = 0.5 * ((meanTrue - meanPred) ** 2 / varPred).view(batchInput.size(0), -1).sum(dim=1).mean()\n",
    "        return divergence\n",
    "    \n",
    "    def q_sample(self, batchInput):\n",
    "        countSamples = batchInput.size(0)\n",
    "        timesPicked = torch.randint(1, self.timeStep, (countSamples,), device=self.device).long()\n",
    "        noise = torch.randn_like(batchInput)\n",
    "        alpha_bar = self.alpha_cumprod[timesPicked].view(countSamples,1,1,1)\n",
    "        x_t = torch.sqrt(alpha_bar)*batchInput + torch.sqrt(1-alpha_bar)*noise\n",
    "        predNoise = self.model(x_t, timesPicked)\n",
    "        return x_t, noise, alpha_bar, predNoise, timesPicked\n",
    "\n",
    "    def lossNoise(self, batch):\n",
    "        x_t, noise, alpha_bar, _, t = self.q_sample(batch)\n",
    "        pred_noise = self.model(x_t, t)\n",
    "\n",
    "        if self.prediction_type == \"noise\":\n",
    "            target = noise\n",
    "        else:\n",
    "            a_bar = alpha_bar.sqrt()\n",
    "            b_bar = (1 - alpha_bar).sqrt()\n",
    "            target = a_bar * noise - b_bar * batch\n",
    "            \n",
    "        return F.mse_loss(pred_noise, target)\n",
    "    \n",
    "    def lossMean(self, batch):\n",
    "        x, _, alpha_bar, predNoise, _ = self.q_sample(batch)\n",
    "        batchInputPred = (x - torch.sqrt(1 - alpha_bar)*predNoise)/torch.sqrt(alpha_bar)\n",
    "        return F.mse_loss(batchInputPred, batch)\n",
    "        \n",
    "    def plot_history(self):\n",
    "        plt.figure()\n",
    "        plt.plot(self.historyTrainLoss, label='Train Loss')\n",
    "        plt.plot(self.historyTestLoss, label='Test Loss')\n",
    "        plt.plot(self.historyTrainVLB, label='Train vlb Loss')\n",
    "        plt.plot(self.historyTestVLB, label='Test vlb Loss')\n",
    "        plt.xlabel('Epoch')\n",
    "        plt.ylabel('Loss')\n",
    "        plt.legend()\n",
    "        plt.show()\n",
    "    \n",
    "    def plotImages(self, n=8):\n",
    "        self.model.eval()\n",
    "        real, _ = next(iter(self.testLoader))\n",
    "        real = real[:n].to(self.device)\n",
    "        with torch.no_grad():\n",
    "            generated = self.sample(n)\n",
    "        real = real.cpu()\n",
    "        generated = generated.cpu()\n",
    "\n",
    "        _, axes = plt.subplots(2, n, figsize=(1.5 * n, 3))\n",
    "        for i in range(n):\n",
    "            axes[0, i].imshow(real[i].squeeze(), cmap='gray')\n",
    "            axes[0, i].axis('off')\n",
    "            axes[1, i].imshow(generated[i].squeeze(), cmap='gray')\n",
    "            axes[1, i].axis('off')\n",
    "        \n",
    "        axes[0, 0].set_ylabel('real')\n",
    "        axes[1, 0].set_ylabel('gen')\n",
    "        plt.tight_layout()\n",
    "        plt.show()"
   ]
  },
  {
   "cell_type": "code",
   "execution_count": 17,
   "id": "505e4460",
   "metadata": {},
   "outputs": [
    {
     "name": "stderr",
     "output_type": "stream",
     "text": [
      "  train:   0%|          | 0/60 [00:00<?, ?it/s]"
     ]
    },
    {
     "name": "stderr",
     "output_type": "stream",
     "text": [
      "                                               \r"
     ]
    },
    {
     "ename": "OutOfMemoryError",
     "evalue": "CUDA out of memory. Tried to allocate 1.12 GiB. GPU 0 has a total capacity of 11.72 GiB of which 85.94 MiB is free. Process 1732 has 104.12 MiB memory in use. Including non-PyTorch memory, this process has 11.27 GiB memory in use. Of the allocated memory 11.07 GiB is allocated by PyTorch, and 60.53 MiB is reserved by PyTorch but unallocated. If reserved but unallocated memory is large try setting PYTORCH_CUDA_ALLOC_CONF=expandable_segments:True to avoid fragmentation.  See documentation for Memory Management  (https://pytorch.org/docs/stable/notes/cuda.html#environment-variables)",
     "output_type": "error",
     "traceback": [
      "\u001b[31m---------------------------------------------------------------------------\u001b[39m",
      "\u001b[31mOutOfMemoryError\u001b[39m                          Traceback (most recent call last)",
      "\u001b[36mCell\u001b[39m\u001b[36m \u001b[39m\u001b[32mIn[17]\u001b[39m\u001b[32m, line 3\u001b[39m\n\u001b[32m      1\u001b[39m diff = DiffusionModel(trainMNISTLoader, testMNISTLoader, timeStep=\u001b[32m1000\u001b[39m, betaStart=\u001b[32m1e-4\u001b[39m, betaEnd=\u001b[32m0.02\u001b[39m, typeBuild=\u001b[33m'\u001b[39m\u001b[33mcosine\u001b[39m\u001b[33m'\u001b[39m, device=device, prediction_type=\u001b[33m\"\u001b[39m\u001b[33mnoise\u001b[39m\u001b[33m\"\u001b[39m,lr=\u001b[32m1e-4\u001b[39m)\n\u001b[32m----> \u001b[39m\u001b[32m3\u001b[39m \u001b[43mdiff\u001b[49m\u001b[43m.\u001b[49m\u001b[43mfit\u001b[49m\u001b[43m(\u001b[49m\u001b[43mepochs\u001b[49m\u001b[43m=\u001b[49m\u001b[32;43m5\u001b[39;49m\u001b[43m)\u001b[49m           \n\u001b[32m      4\u001b[39m diff.plot_history()             \n\u001b[32m      5\u001b[39m diff.plotImages(n=\u001b[32m8\u001b[39m)   \n",
      "\u001b[36mCell\u001b[39m\u001b[36m \u001b[39m\u001b[32mIn[16]\u001b[39m\u001b[32m, line 81\u001b[39m, in \u001b[36mDiffusionModel.fit\u001b[39m\u001b[34m(self, epochs)\u001b[39m\n\u001b[32m     79\u001b[39m \u001b[38;5;28;01mdef\u001b[39;00m\u001b[38;5;250m \u001b[39m\u001b[34mfit\u001b[39m(\u001b[38;5;28mself\u001b[39m, epochs):\n\u001b[32m     80\u001b[39m     \u001b[38;5;28;01mfor\u001b[39;00m epoch \u001b[38;5;129;01min\u001b[39;00m \u001b[38;5;28mrange\u001b[39m(\u001b[32m1\u001b[39m, epochs+\u001b[32m1\u001b[39m):\n\u001b[32m---> \u001b[39m\u001b[32m81\u001b[39m         train_noise, train_vlb = \u001b[38;5;28;43mself\u001b[39;49m\u001b[43m.\u001b[49m\u001b[43mtrain_epoch\u001b[49m\u001b[43m(\u001b[49m\u001b[43m)\u001b[49m\n\u001b[32m     82\u001b[39m         val_noise, val_vlb = \u001b[38;5;28mself\u001b[39m.validate_epoch()\n\u001b[32m     84\u001b[39m         total_train = train_noise + \u001b[38;5;28mself\u001b[39m.vlb_weight * train_vlb\n",
      "\u001b[36mCell\u001b[39m\u001b[36m \u001b[39m\u001b[32mIn[16]\u001b[39m\u001b[32m, line 44\u001b[39m, in \u001b[36mDiffusionModel.train_epoch\u001b[39m\u001b[34m(self)\u001b[39m\n\u001b[32m     42\u001b[39m \u001b[38;5;28;01mfor\u001b[39;00m batch, _ \u001b[38;5;129;01min\u001b[39;00m loop:\n\u001b[32m     43\u001b[39m     batch = batch.to(\u001b[38;5;28mself\u001b[39m.device)\n\u001b[32m---> \u001b[39m\u001b[32m44\u001b[39m     noise_loss = \u001b[38;5;28;43mself\u001b[39;49m\u001b[43m.\u001b[49m\u001b[43mlossNoise\u001b[49m\u001b[43m(\u001b[49m\u001b[43mbatch\u001b[49m\u001b[43m)\u001b[49m\n\u001b[32m     45\u001b[39m     vlb_loss = \u001b[38;5;28mself\u001b[39m.lossVLB(batch)\n\u001b[32m     46\u001b[39m     loss = noise_loss + \u001b[38;5;28mself\u001b[39m.vlb_weight * vlb_loss\n",
      "\u001b[36mCell\u001b[39m\u001b[36m \u001b[39m\u001b[32mIn[16]\u001b[39m\u001b[32m, line 167\u001b[39m, in \u001b[36mDiffusionModel.lossNoise\u001b[39m\u001b[34m(self, batch)\u001b[39m\n\u001b[32m    165\u001b[39m \u001b[38;5;28;01mdef\u001b[39;00m\u001b[38;5;250m \u001b[39m\u001b[34mlossNoise\u001b[39m(\u001b[38;5;28mself\u001b[39m, batch):\n\u001b[32m    166\u001b[39m     x_t, noise, alpha_bar, _, t = \u001b[38;5;28mself\u001b[39m.q_sample(batch)\n\u001b[32m--> \u001b[39m\u001b[32m167\u001b[39m     pred_noise = \u001b[38;5;28;43mself\u001b[39;49m\u001b[43m.\u001b[49m\u001b[43mmodel\u001b[49m\u001b[43m(\u001b[49m\u001b[43mx_t\u001b[49m\u001b[43m,\u001b[49m\u001b[43m \u001b[49m\u001b[43mt\u001b[49m\u001b[43m)\u001b[49m\n\u001b[32m    169\u001b[39m     \u001b[38;5;28;01mif\u001b[39;00m \u001b[38;5;28mself\u001b[39m.prediction_type == \u001b[33m\"\u001b[39m\u001b[33mnoise\u001b[39m\u001b[33m\"\u001b[39m:\n\u001b[32m    170\u001b[39m         target = noise\n",
      "\u001b[36mFile \u001b[39m\u001b[32m~/4-gen-IlKorshunov/venv/lib/python3.12/site-packages/torch/nn/modules/module.py:1751\u001b[39m, in \u001b[36mModule._wrapped_call_impl\u001b[39m\u001b[34m(self, *args, **kwargs)\u001b[39m\n\u001b[32m   1749\u001b[39m     \u001b[38;5;28;01mreturn\u001b[39;00m \u001b[38;5;28mself\u001b[39m._compiled_call_impl(*args, **kwargs)  \u001b[38;5;66;03m# type: ignore[misc]\u001b[39;00m\n\u001b[32m   1750\u001b[39m \u001b[38;5;28;01melse\u001b[39;00m:\n\u001b[32m-> \u001b[39m\u001b[32m1751\u001b[39m     \u001b[38;5;28;01mreturn\u001b[39;00m \u001b[38;5;28;43mself\u001b[39;49m\u001b[43m.\u001b[49m\u001b[43m_call_impl\u001b[49m\u001b[43m(\u001b[49m\u001b[43m*\u001b[49m\u001b[43margs\u001b[49m\u001b[43m,\u001b[49m\u001b[43m \u001b[49m\u001b[43m*\u001b[49m\u001b[43m*\u001b[49m\u001b[43mkwargs\u001b[49m\u001b[43m)\u001b[49m\n",
      "\u001b[36mFile \u001b[39m\u001b[32m~/4-gen-IlKorshunov/venv/lib/python3.12/site-packages/torch/nn/modules/module.py:1762\u001b[39m, in \u001b[36mModule._call_impl\u001b[39m\u001b[34m(self, *args, **kwargs)\u001b[39m\n\u001b[32m   1757\u001b[39m \u001b[38;5;66;03m# If we don't have any hooks, we want to skip the rest of the logic in\u001b[39;00m\n\u001b[32m   1758\u001b[39m \u001b[38;5;66;03m# this function, and just call forward.\u001b[39;00m\n\u001b[32m   1759\u001b[39m \u001b[38;5;28;01mif\u001b[39;00m \u001b[38;5;129;01mnot\u001b[39;00m (\u001b[38;5;28mself\u001b[39m._backward_hooks \u001b[38;5;129;01mor\u001b[39;00m \u001b[38;5;28mself\u001b[39m._backward_pre_hooks \u001b[38;5;129;01mor\u001b[39;00m \u001b[38;5;28mself\u001b[39m._forward_hooks \u001b[38;5;129;01mor\u001b[39;00m \u001b[38;5;28mself\u001b[39m._forward_pre_hooks\n\u001b[32m   1760\u001b[39m         \u001b[38;5;129;01mor\u001b[39;00m _global_backward_pre_hooks \u001b[38;5;129;01mor\u001b[39;00m _global_backward_hooks\n\u001b[32m   1761\u001b[39m         \u001b[38;5;129;01mor\u001b[39;00m _global_forward_hooks \u001b[38;5;129;01mor\u001b[39;00m _global_forward_pre_hooks):\n\u001b[32m-> \u001b[39m\u001b[32m1762\u001b[39m     \u001b[38;5;28;01mreturn\u001b[39;00m \u001b[43mforward_call\u001b[49m\u001b[43m(\u001b[49m\u001b[43m*\u001b[49m\u001b[43margs\u001b[49m\u001b[43m,\u001b[49m\u001b[43m \u001b[49m\u001b[43m*\u001b[49m\u001b[43m*\u001b[49m\u001b[43mkwargs\u001b[49m\u001b[43m)\u001b[49m\n\u001b[32m   1764\u001b[39m result = \u001b[38;5;28;01mNone\u001b[39;00m\n\u001b[32m   1765\u001b[39m called_always_called_hooks = \u001b[38;5;28mset\u001b[39m()\n",
      "\u001b[36mFile \u001b[39m\u001b[32m~/4-gen-IlKorshunov/venv/lib/python3.12/site-packages/denoising_diffusion_pytorch/denoising_diffusion_pytorch.py:411\u001b[39m, in \u001b[36mUnet.forward\u001b[39m\u001b[34m(self, x, time, x_self_cond)\u001b[39m\n\u001b[32m    408\u001b[39m h.append(x)\n\u001b[32m    410\u001b[39m x = block2(x, t)\n\u001b[32m--> \u001b[39m\u001b[32m411\u001b[39m x = \u001b[43mattn\u001b[49m\u001b[43m(\u001b[49m\u001b[43mx\u001b[49m\u001b[43m)\u001b[49m + x\n\u001b[32m    412\u001b[39m h.append(x)\n\u001b[32m    414\u001b[39m x = downsample(x)\n",
      "\u001b[36mFile \u001b[39m\u001b[32m~/4-gen-IlKorshunov/venv/lib/python3.12/site-packages/torch/nn/modules/module.py:1751\u001b[39m, in \u001b[36mModule._wrapped_call_impl\u001b[39m\u001b[34m(self, *args, **kwargs)\u001b[39m\n\u001b[32m   1749\u001b[39m     \u001b[38;5;28;01mreturn\u001b[39;00m \u001b[38;5;28mself\u001b[39m._compiled_call_impl(*args, **kwargs)  \u001b[38;5;66;03m# type: ignore[misc]\u001b[39;00m\n\u001b[32m   1750\u001b[39m \u001b[38;5;28;01melse\u001b[39;00m:\n\u001b[32m-> \u001b[39m\u001b[32m1751\u001b[39m     \u001b[38;5;28;01mreturn\u001b[39;00m \u001b[38;5;28;43mself\u001b[39;49m\u001b[43m.\u001b[49m\u001b[43m_call_impl\u001b[49m\u001b[43m(\u001b[49m\u001b[43m*\u001b[49m\u001b[43margs\u001b[49m\u001b[43m,\u001b[49m\u001b[43m \u001b[49m\u001b[43m*\u001b[49m\u001b[43m*\u001b[49m\u001b[43mkwargs\u001b[49m\u001b[43m)\u001b[49m\n",
      "\u001b[36mFile \u001b[39m\u001b[32m~/4-gen-IlKorshunov/venv/lib/python3.12/site-packages/torch/nn/modules/module.py:1762\u001b[39m, in \u001b[36mModule._call_impl\u001b[39m\u001b[34m(self, *args, **kwargs)\u001b[39m\n\u001b[32m   1757\u001b[39m \u001b[38;5;66;03m# If we don't have any hooks, we want to skip the rest of the logic in\u001b[39;00m\n\u001b[32m   1758\u001b[39m \u001b[38;5;66;03m# this function, and just call forward.\u001b[39;00m\n\u001b[32m   1759\u001b[39m \u001b[38;5;28;01mif\u001b[39;00m \u001b[38;5;129;01mnot\u001b[39;00m (\u001b[38;5;28mself\u001b[39m._backward_hooks \u001b[38;5;129;01mor\u001b[39;00m \u001b[38;5;28mself\u001b[39m._backward_pre_hooks \u001b[38;5;129;01mor\u001b[39;00m \u001b[38;5;28mself\u001b[39m._forward_hooks \u001b[38;5;129;01mor\u001b[39;00m \u001b[38;5;28mself\u001b[39m._forward_pre_hooks\n\u001b[32m   1760\u001b[39m         \u001b[38;5;129;01mor\u001b[39;00m _global_backward_pre_hooks \u001b[38;5;129;01mor\u001b[39;00m _global_backward_hooks\n\u001b[32m   1761\u001b[39m         \u001b[38;5;129;01mor\u001b[39;00m _global_forward_hooks \u001b[38;5;129;01mor\u001b[39;00m _global_forward_pre_hooks):\n\u001b[32m-> \u001b[39m\u001b[32m1762\u001b[39m     \u001b[38;5;28;01mreturn\u001b[39;00m \u001b[43mforward_call\u001b[49m\u001b[43m(\u001b[49m\u001b[43m*\u001b[49m\u001b[43margs\u001b[49m\u001b[43m,\u001b[49m\u001b[43m \u001b[49m\u001b[43m*\u001b[49m\u001b[43m*\u001b[49m\u001b[43mkwargs\u001b[49m\u001b[43m)\u001b[49m\n\u001b[32m   1764\u001b[39m result = \u001b[38;5;28;01mNone\u001b[39;00m\n\u001b[32m   1765\u001b[39m called_always_called_hooks = \u001b[38;5;28mset\u001b[39m()\n",
      "\u001b[36mFile \u001b[39m\u001b[32m~/4-gen-IlKorshunov/venv/lib/python3.12/site-packages/denoising_diffusion_pytorch/denoising_diffusion_pytorch.py:221\u001b[39m, in \u001b[36mLinearAttention.forward\u001b[39m\u001b[34m(self, x)\u001b[39m\n\u001b[32m    217\u001b[39m b, c, h, w = x.shape\n\u001b[32m    219\u001b[39m x = \u001b[38;5;28mself\u001b[39m.norm(x)\n\u001b[32m--> \u001b[39m\u001b[32m221\u001b[39m qkv = \u001b[38;5;28;43mself\u001b[39;49m\u001b[43m.\u001b[49m\u001b[43mto_qkv\u001b[49m\u001b[43m(\u001b[49m\u001b[43mx\u001b[49m\u001b[43m)\u001b[49m.chunk(\u001b[32m3\u001b[39m, dim = \u001b[32m1\u001b[39m)\n\u001b[32m    222\u001b[39m q, k, v = \u001b[38;5;28mmap\u001b[39m(\u001b[38;5;28;01mlambda\u001b[39;00m t: rearrange(t, \u001b[33m'\u001b[39m\u001b[33mb (h c) x y -> b h c (x y)\u001b[39m\u001b[33m'\u001b[39m, h = \u001b[38;5;28mself\u001b[39m.heads), qkv)\n\u001b[32m    224\u001b[39m mk, mv = \u001b[38;5;28mmap\u001b[39m(\u001b[38;5;28;01mlambda\u001b[39;00m t: repeat(t, \u001b[33m'\u001b[39m\u001b[33mh c n -> b h c n\u001b[39m\u001b[33m'\u001b[39m, b = b), \u001b[38;5;28mself\u001b[39m.mem_kv)\n",
      "\u001b[36mFile \u001b[39m\u001b[32m~/4-gen-IlKorshunov/venv/lib/python3.12/site-packages/torch/nn/modules/module.py:1751\u001b[39m, in \u001b[36mModule._wrapped_call_impl\u001b[39m\u001b[34m(self, *args, **kwargs)\u001b[39m\n\u001b[32m   1749\u001b[39m     \u001b[38;5;28;01mreturn\u001b[39;00m \u001b[38;5;28mself\u001b[39m._compiled_call_impl(*args, **kwargs)  \u001b[38;5;66;03m# type: ignore[misc]\u001b[39;00m\n\u001b[32m   1750\u001b[39m \u001b[38;5;28;01melse\u001b[39;00m:\n\u001b[32m-> \u001b[39m\u001b[32m1751\u001b[39m     \u001b[38;5;28;01mreturn\u001b[39;00m \u001b[38;5;28;43mself\u001b[39;49m\u001b[43m.\u001b[49m\u001b[43m_call_impl\u001b[49m\u001b[43m(\u001b[49m\u001b[43m*\u001b[49m\u001b[43margs\u001b[49m\u001b[43m,\u001b[49m\u001b[43m \u001b[49m\u001b[43m*\u001b[49m\u001b[43m*\u001b[49m\u001b[43mkwargs\u001b[49m\u001b[43m)\u001b[49m\n",
      "\u001b[36mFile \u001b[39m\u001b[32m~/4-gen-IlKorshunov/venv/lib/python3.12/site-packages/torch/nn/modules/module.py:1762\u001b[39m, in \u001b[36mModule._call_impl\u001b[39m\u001b[34m(self, *args, **kwargs)\u001b[39m\n\u001b[32m   1757\u001b[39m \u001b[38;5;66;03m# If we don't have any hooks, we want to skip the rest of the logic in\u001b[39;00m\n\u001b[32m   1758\u001b[39m \u001b[38;5;66;03m# this function, and just call forward.\u001b[39;00m\n\u001b[32m   1759\u001b[39m \u001b[38;5;28;01mif\u001b[39;00m \u001b[38;5;129;01mnot\u001b[39;00m (\u001b[38;5;28mself\u001b[39m._backward_hooks \u001b[38;5;129;01mor\u001b[39;00m \u001b[38;5;28mself\u001b[39m._backward_pre_hooks \u001b[38;5;129;01mor\u001b[39;00m \u001b[38;5;28mself\u001b[39m._forward_hooks \u001b[38;5;129;01mor\u001b[39;00m \u001b[38;5;28mself\u001b[39m._forward_pre_hooks\n\u001b[32m   1760\u001b[39m         \u001b[38;5;129;01mor\u001b[39;00m _global_backward_pre_hooks \u001b[38;5;129;01mor\u001b[39;00m _global_backward_hooks\n\u001b[32m   1761\u001b[39m         \u001b[38;5;129;01mor\u001b[39;00m _global_forward_hooks \u001b[38;5;129;01mor\u001b[39;00m _global_forward_pre_hooks):\n\u001b[32m-> \u001b[39m\u001b[32m1762\u001b[39m     \u001b[38;5;28;01mreturn\u001b[39;00m \u001b[43mforward_call\u001b[49m\u001b[43m(\u001b[49m\u001b[43m*\u001b[49m\u001b[43margs\u001b[49m\u001b[43m,\u001b[49m\u001b[43m \u001b[49m\u001b[43m*\u001b[49m\u001b[43m*\u001b[49m\u001b[43mkwargs\u001b[49m\u001b[43m)\u001b[49m\n\u001b[32m   1764\u001b[39m result = \u001b[38;5;28;01mNone\u001b[39;00m\n\u001b[32m   1765\u001b[39m called_always_called_hooks = \u001b[38;5;28mset\u001b[39m()\n",
      "\u001b[36mFile \u001b[39m\u001b[32m~/4-gen-IlKorshunov/venv/lib/python3.12/site-packages/torch/nn/modules/conv.py:554\u001b[39m, in \u001b[36mConv2d.forward\u001b[39m\u001b[34m(self, input)\u001b[39m\n\u001b[32m    553\u001b[39m \u001b[38;5;28;01mdef\u001b[39;00m\u001b[38;5;250m \u001b[39m\u001b[34mforward\u001b[39m(\u001b[38;5;28mself\u001b[39m, \u001b[38;5;28minput\u001b[39m: Tensor) -> Tensor:\n\u001b[32m--> \u001b[39m\u001b[32m554\u001b[39m     \u001b[38;5;28;01mreturn\u001b[39;00m \u001b[38;5;28;43mself\u001b[39;49m\u001b[43m.\u001b[49m\u001b[43m_conv_forward\u001b[49m\u001b[43m(\u001b[49m\u001b[38;5;28;43minput\u001b[39;49m\u001b[43m,\u001b[49m\u001b[43m \u001b[49m\u001b[38;5;28;43mself\u001b[39;49m\u001b[43m.\u001b[49m\u001b[43mweight\u001b[49m\u001b[43m,\u001b[49m\u001b[43m \u001b[49m\u001b[38;5;28;43mself\u001b[39;49m\u001b[43m.\u001b[49m\u001b[43mbias\u001b[49m\u001b[43m)\u001b[49m\n",
      "\u001b[36mFile \u001b[39m\u001b[32m~/4-gen-IlKorshunov/venv/lib/python3.12/site-packages/torch/nn/modules/conv.py:549\u001b[39m, in \u001b[36mConv2d._conv_forward\u001b[39m\u001b[34m(self, input, weight, bias)\u001b[39m\n\u001b[32m    537\u001b[39m \u001b[38;5;28;01mif\u001b[39;00m \u001b[38;5;28mself\u001b[39m.padding_mode != \u001b[33m\"\u001b[39m\u001b[33mzeros\u001b[39m\u001b[33m\"\u001b[39m:\n\u001b[32m    538\u001b[39m     \u001b[38;5;28;01mreturn\u001b[39;00m F.conv2d(\n\u001b[32m    539\u001b[39m         F.pad(\n\u001b[32m    540\u001b[39m             \u001b[38;5;28minput\u001b[39m, \u001b[38;5;28mself\u001b[39m._reversed_padding_repeated_twice, mode=\u001b[38;5;28mself\u001b[39m.padding_mode\n\u001b[32m   (...)\u001b[39m\u001b[32m    547\u001b[39m         \u001b[38;5;28mself\u001b[39m.groups,\n\u001b[32m    548\u001b[39m     )\n\u001b[32m--> \u001b[39m\u001b[32m549\u001b[39m \u001b[38;5;28;01mreturn\u001b[39;00m \u001b[43mF\u001b[49m\u001b[43m.\u001b[49m\u001b[43mconv2d\u001b[49m\u001b[43m(\u001b[49m\n\u001b[32m    550\u001b[39m \u001b[43m    \u001b[49m\u001b[38;5;28;43minput\u001b[39;49m\u001b[43m,\u001b[49m\u001b[43m \u001b[49m\u001b[43mweight\u001b[49m\u001b[43m,\u001b[49m\u001b[43m \u001b[49m\u001b[43mbias\u001b[49m\u001b[43m,\u001b[49m\u001b[43m \u001b[49m\u001b[38;5;28;43mself\u001b[39;49m\u001b[43m.\u001b[49m\u001b[43mstride\u001b[49m\u001b[43m,\u001b[49m\u001b[43m \u001b[49m\u001b[38;5;28;43mself\u001b[39;49m\u001b[43m.\u001b[49m\u001b[43mpadding\u001b[49m\u001b[43m,\u001b[49m\u001b[43m \u001b[49m\u001b[38;5;28;43mself\u001b[39;49m\u001b[43m.\u001b[49m\u001b[43mdilation\u001b[49m\u001b[43m,\u001b[49m\u001b[43m \u001b[49m\u001b[38;5;28;43mself\u001b[39;49m\u001b[43m.\u001b[49m\u001b[43mgroups\u001b[49m\n\u001b[32m    551\u001b[39m \u001b[43m\u001b[49m\u001b[43m)\u001b[49m\n",
      "\u001b[31mOutOfMemoryError\u001b[39m: CUDA out of memory. Tried to allocate 1.12 GiB. GPU 0 has a total capacity of 11.72 GiB of which 85.94 MiB is free. Process 1732 has 104.12 MiB memory in use. Including non-PyTorch memory, this process has 11.27 GiB memory in use. Of the allocated memory 11.07 GiB is allocated by PyTorch, and 60.53 MiB is reserved by PyTorch but unallocated. If reserved but unallocated memory is large try setting PYTORCH_CUDA_ALLOC_CONF=expandable_segments:True to avoid fragmentation.  See documentation for Memory Management  (https://pytorch.org/docs/stable/notes/cuda.html#environment-variables)"
     ]
    }
   ],
   "source": [
    "diff = DiffusionModel(trainMNISTLoader, testMNISTLoader, timeStep=1000, betaStart=1e-4, betaEnd=0.02, typeBuild='cosine', device=device, prediction_type=\"noise\",lr=1e-4)\n",
    "\n",
    "diff.fit(epochs=5)           \n",
    "diff.plot_history()             \n",
    "diff.plotImages(n=8)   "
   ]
  }
 ],
 "metadata": {
  "kernelspec": {
   "display_name": "venv",
   "language": "python",
   "name": "python3"
  },
  "language_info": {
   "codemirror_mode": {
    "name": "ipython",
    "version": 3
   },
   "file_extension": ".py",
   "mimetype": "text/x-python",
   "name": "python",
   "nbconvert_exporter": "python",
   "pygments_lexer": "ipython3",
   "version": "3.12.3"
  }
 },
 "nbformat": 4,
 "nbformat_minor": 5
}
